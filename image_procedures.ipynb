{
 "cells": [
  {
   "cell_type": "code",
   "execution_count": 1,
   "metadata": {},
   "outputs": [],
   "source": [
    "import numpy as np\n",
    "from bs4 import BeautifulSoup"
   ]
  },
  {
   "cell_type": "markdown",
   "metadata": {},
   "source": [
    "## Useful functions\n",
    "---"
   ]
  },
  {
   "cell_type": "code",
   "execution_count": 2,
   "metadata": {},
   "outputs": [],
   "source": [
    "def display_svg(data):\n",
    "    from IPython.display import SVG, display\n",
    "    display(SVG(data))"
   ]
  },
  {
   "cell_type": "code",
   "execution_count": 3,
   "metadata": {},
   "outputs": [],
   "source": [
    "def export_svg(data, filename):\n",
    "    f = open(f'{filename}.svg', \"w\")\n",
    "    f.write(data)\n",
    "    f.close()"
   ]
  },
  {
   "cell_type": "markdown",
   "metadata": {},
   "source": [
    "## Read template\n",
    "---\n",
    "Read template file `template.svg` from Illustrator and parse object."
   ]
  },
  {
   "cell_type": "code",
   "execution_count": 4,
   "metadata": {},
   "outputs": [],
   "source": [
    "f = open(\"template.svg\", \"r\")\n",
    "parse = BeautifulSoup(f.read(), 'html.parser')\n",
    "f.close()"
   ]
  },
  {
   "cell_type": "markdown",
   "metadata": {},
   "source": [
    "## Set SVG elements\n",
    "---"
   ]
  },
  {
   "cell_type": "code",
   "execution_count": 5,
   "metadata": {},
   "outputs": [],
   "source": [
    "# SVG\n",
    "svg = parse.find(\"svg\")\n",
    "\n",
    "del svg[\"viewbox\"]\n",
    "svg[\"width\"] = \"360px\"\n",
    "svg[\"height\"] = \"480px\"\n",
    "svg[\"xmlns\"] = \"http://www.w3.org/2000/svg\"\n",
    "svg[\"xmlns:xlink\"] = \"http://www.w3.org/1999/xlink\"\n",
    "\n",
    "# defs\n",
    "defs = svg.find(\"defs\")\n",
    "\n",
    "# style\n",
    "style = defs.find(\"style\")\n",
    "style.string += '''\n",
    ".word > * {\n",
    "    fill: none;\n",
    "    stroke-width: 1px;\n",
    "    stroke-linecap: round;\n",
    "    mix-blend-mode: overlay;\n",
    "}\n",
    "'''\n",
    "\n",
    "# title\n",
    "title = svg.find(\"title\")\n",
    "title.string = \"README Image\""
   ]
  },
  {
   "cell_type": "code",
   "execution_count": 6,
   "metadata": {},
   "outputs": [],
   "source": [
    "np.random.seed(1)\n",
    "\n",
    "# word cloud\n",
    "word_cloud = svg.find(\"g\", {\"id\": \"word_cloud\"})\n",
    "defs.append(word_cloud)\n",
    "\n",
    "WORDS = word_cloud.findAll(\"g\")\n",
    "for word in WORDS:\n",
    "    word.name = \"symbol\"\n",
    "    word[\"class\"] = \"word\"\n",
    "    \n",
    "    for i in range(5):\n",
    "        use = parse.new_tag(\"use\")\n",
    "        use[\"href\"] = f'#{word[\"id\"]}'\n",
    "        h = np.random.randint(360)\n",
    "        use[\"style\"] = f'stroke: hsl({h}, 70%, 50%)'\n",
    "        dao = np.random.randint(20, 51)\n",
    "        dai = np.random.randint(20, 51)\n",
    "        use[\"stroke-dasharray\"] = f'{dao} {dai}'\n",
    "        svg.append(use)\n",
    "        animate = parse.new_tag(\"animate\")\n",
    "        animate[\"attributeName\"] = \"stroke-dashoffset\"\n",
    "        animate[\"repeatCount\"] = \"indefinite\"\n",
    "        value = np.random.choice([-(dao + dai), dao + dai])\n",
    "        animate[\"values\"] = f'0;{value}'\n",
    "        dur = np.random.random()*5 + 5\n",
    "        animate[\"dur\"] = f'{dur:.03f}s'\n",
    "        begin = np.random.random()*dur\n",
    "        animate[\"begin\"] = f'-{begin:.03f}s'\n",
    "        use.append(animate)"
   ]
  },
  {
   "cell_type": "markdown",
   "metadata": {},
   "source": [
    "## Display SVG\n",
    "---"
   ]
  },
  {
   "cell_type": "code",
   "execution_count": 7,
   "metadata": {},
   "outputs": [
    {
     "data": {
      "image/svg+xml": [
       "<svg xmlns=\"http://www.w3.org/2000/svg\" xmlns:xlink=\"http://www.w3.org/1999/xlink\" height=\"480px\" width=\"360px\"><defs><style>.cls-1{font-size:38.72px;}.cls-1,.cls-10,.cls-11,.cls-12,.cls-13,.cls-16,.cls-19,.cls-2,.cls-20,.cls-21,.cls-22,.cls-26,.cls-3,.cls-4,.cls-5,.cls-7,.cls-8,.cls-9{fill:#231f20;font-family:Impact;}.cls-2{font-size:36.39px;}.cls-3{font-size:27.22px;}.cls-4{font-size:55.1px;}.cls-5{font-size:45.25px;}.cls-6{letter-spacing:-0.04em;}.cls-7{font-size:61.32px;}.cls-8{font-size:38.9px;}.cls-9{font-size:29.52px;}.cls-10{font-size:36.65px;}.cls-11{font-size:48.21px;}.cls-12{font-size:50.19px;}.cls-13{font-size:35.57px;}.cls-14{letter-spacing:-0.06em;}.cls-15{letter-spacing:0em;}.cls-16{font-size:77.15px;}.cls-17{letter-spacing:-0.06em;}.cls-18{letter-spacing:-0.04em;}.cls-19{font-size:47.15px;}.cls-20{font-size:36.17px;}.cls-21{font-size:49.91px;}.cls-22{font-size:85.02px;}.cls-23{letter-spacing:-0.06em;}.cls-24{letter-spacing:-0.04em;}.cls-25{letter-spacing:0em;}.cls-26{font-size:59.03px;}.cls-27{letter-spacing:-0.06em;}.cls-28{letter-spacing:-0.06em;}\n",
       ".word &gt; * {\n",
       "    fill: none;\n",
       "    stroke-width: 1px;\n",
       "    stroke-linecap: round;\n",
       "    mix-blend-mode: overlay;\n",
       "}\n",
       "</style><g data-name=\"word cloud\" id=\"word_cloud\"><symbol class=\"word\" data-name=\"computer graphics\" id=\"computer_graphics\"><text class=\"cls-1\" id=\"graphics\" transform=\"translate(0 348.9)\">GRAPHICS</text><text class=\"cls-2\" transform=\"translate(0 310.26)\">COMPUTER</text></symbol><symbol class=\"word\" data-name=\"digital image processing\" id=\"digital_image_processing\"><text class=\"cls-3\" transform=\"translate(187.35 214.73) scale(1.05 1)\">PROCESSING</text><text class=\"cls-4\" transform=\"translate(187.35 187.76) scale(1.05 1)\">IMAGE</text><text class=\"cls-5\" transform=\"translate(187.35 136.31) scale(1.05 1)\">DIGI<tspan class=\"cls-6\" x=\"76.03\" y=\"0\">T</tspan><tspan x=\"95.08\" y=\"0\">AL</tspan></text></symbol><symbol class=\"word\" data-name=\"computer vision\" id=\"computer_vision\"><text class=\"cls-7\" transform=\"translate(2.81 216.95) scale(1.11 1)\">VISION</text><text class=\"cls-8\" transform=\"translate(1.03 161.61) scale(1.11 1)\">COMPUTER</text></symbol><symbol class=\"word\" data-name=\"artificial intelligence\" id=\"artificial_intelligence\"><text class=\"cls-9\" transform=\"translate(162.67 338.04) scale(1.08 1)\">INTELLIGENCE</text><text class=\"cls-10\" transform=\"translate(162.64 305.09) scale(1.07 1)\">ARTIFICIAL</text></symbol><symbol class=\"word\" data-name=\"machine learning\" id=\"machine_learning\"><text class=\"cls-11\" transform=\"translate(0 442.43) scale(0.99 1)\">LEARNING</text><text class=\"cls-12\" transform=\"translate(0 398.83) scale(0.99 1)\">MACHINE</text></symbol><symbol class=\"word\" data-name=\"data analytics\" id=\"data_analytics\"><text class=\"cls-13\" transform=\"translate(182 446.02)\">ANA<tspan class=\"cls-14\" x=\"55.38\" y=\"0\">L</tspan><tspan class=\"cls-15\" x=\"66.6\" y=\"0\">YTICS</tspan></text><text class=\"cls-16\" transform=\"translate(178.84 410.32)\">D<tspan class=\"cls-17\" x=\"42.64\" y=\"0\">A</tspan><tspan class=\"cls-18\" x=\"77.56\" y=\"0\">T</tspan><tspan x=\"110.03\" y=\"0\">A</tspan></text></symbol><symbol class=\"word\" data-name=\"computer science\" id=\"computer_science\"><text class=\"cls-19\" transform=\"translate(172.39 93.99)\">SCIENCE</text><text class=\"cls-20\" transform=\"translate(172.38 42.62)\">COMPUTER</text></symbol><symbol class=\"word\" data-name=\"data science\" id=\"data_science\"><text class=\"cls-21\" transform=\"translate(1.93 121.77)\">SCIENCE</text><text class=\"cls-22\" transform=\"translate(0.08 76.12)\">D<tspan class=\"cls-23\" x=\"46.99\" y=\"0\">A</tspan><tspan class=\"cls-24\" x=\"85.48\" y=\"0\">T</tspan><tspan class=\"cls-25\" x=\"121.26\" y=\"0\">A</tspan></text></symbol><symbol class=\"word\" id=\"mathematics\"><text class=\"cls-26\" transform=\"translate(0.01 269.72)\">M<tspan class=\"cls-27\" x=\"42.31\" y=\"0\">A</tspan><tspan x=\"69.03\" y=\"0\">THEM</tspan><tspan class=\"cls-28\" x=\"195.86\" y=\"0\">A</tspan><tspan x=\"222.58\" y=\"0\">TICS</tspan></text></symbol></g></defs><title>README Image</title><use href=\"#computer_graphics\" stroke-dasharray=\"31 32\" style=\"stroke: hsl(37, 70%, 50%)\"><animate attributeName=\"stroke-dashoffset\" begin=\"-1.512s\" dur=\"5.001s\" repeatCount=\"indefinite\" values=\"0;-63\"/></use><use href=\"#computer_graphics\" stroke-dasharray=\"20 36\" style=\"stroke: hsl(335, 70%, 50%)\"><animate attributeName=\"stroke-dashoffset\" begin=\"-2.050s\" dur=\"5.931s\" repeatCount=\"indefinite\" values=\"0;56\"/></use><use href=\"#computer_graphics\" stroke-dasharray=\"38 40\" style=\"stroke: hsl(281, 70%, 50%)\"><animate attributeName=\"stroke-dashoffset\" begin=\"-3.444s\" dur=\"6.566s\" repeatCount=\"indefinite\" values=\"0;-78\"/></use><use href=\"#computer_graphics\" stroke-dasharray=\"30 48\" style=\"stroke: hsl(252, 70%, 50%)\"><animate attributeName=\"stroke-dashoffset\" begin=\"-7.012s\" dur=\"7.672s\" repeatCount=\"indefinite\" values=\"0;78\"/></use><use href=\"#computer_graphics\" stroke-dasharray=\"43 50\" style=\"stroke: hsl(241, 70%, 50%)\"><animate attributeName=\"stroke-dashoffset\" begin=\"-6.366s\" dur=\"8.892s\" repeatCount=\"indefinite\" values=\"0;-93\"/></use><use href=\"#digital_image_processing\" stroke-dasharray=\"49 42\" style=\"stroke: hsl(7, 70%, 50%)\"><animate attributeName=\"stroke-dashoffset\" begin=\"-8.393s\" dur=\"9.382s\" repeatCount=\"indefinite\" values=\"0;91\"/></use><use href=\"#digital_image_processing\" stroke-dasharray=\"44 33\" style=\"stroke: hsl(264, 70%, 50%)\"><animate attributeName=\"stroke-dashoffset\" begin=\"-5.136s\" dur=\"5.849s\" repeatCount=\"indefinite\" values=\"0;77\"/></use><use href=\"#digital_image_processing\" stroke-dasharray=\"27 23\" style=\"stroke: hsl(30, 70%, 50%)\"><animate attributeName=\"stroke-dashoffset\" begin=\"-5.219s\" dur=\"9.789s\" repeatCount=\"indefinite\" values=\"0;-50\"/></use><use href=\"#digital_image_processing\" stroke-dasharray=\"37 31\" style=\"stroke: hsl(280, 70%, 50%)\"><animate attributeName=\"stroke-dashoffset\" begin=\"-3.678s\" dur=\"8.917s\" repeatCount=\"indefinite\" values=\"0;-68\"/></use><use href=\"#digital_image_processing\" stroke-dasharray=\"38 35\" style=\"stroke: hsl(297, 70%, 50%)\"><animate attributeName=\"stroke-dashoffset\" begin=\"-2.451s\" dur=\"8.741s\" repeatCount=\"indefinite\" values=\"0;-73\"/></use><use href=\"#computer_vision\" stroke-dasharray=\"45 28\" style=\"stroke: hsl(282, 70%, 50%)\"><animate attributeName=\"stroke-dashoffset\" begin=\"-2.802s\" dur=\"9.543s\" repeatCount=\"indefinite\" values=\"0;-73\"/></use><use href=\"#computer_vision\" stroke-dasharray=\"49 24\" style=\"stroke: hsl(279, 70%, 50%)\"><animate attributeName=\"stroke-dashoffset\" begin=\"-3.460s\" dur=\"5.097s\" repeatCount=\"indefinite\" values=\"0;73\"/></use><use href=\"#computer_vision\" stroke-dasharray=\"20 22\" style=\"stroke: hsl(136, 70%, 50%)\"><animate attributeName=\"stroke-dashoffset\" begin=\"-0.398s\" dur=\"7.458s\" repeatCount=\"indefinite\" values=\"0;-42\"/></use><use href=\"#computer_vision\" stroke-dasharray=\"27 39\" style=\"stroke: hsl(281, 70%, 50%)\"><animate attributeName=\"stroke-dashoffset\" begin=\"-5.561s\" dur=\"7.947s\" repeatCount=\"indefinite\" values=\"0;-66\"/></use><use href=\"#computer_vision\" stroke-dasharray=\"43 43\" style=\"stroke: hsl(216, 70%, 50%)\"><animate attributeName=\"stroke-dashoffset\" begin=\"-3.509s\" dur=\"8.472s\" repeatCount=\"indefinite\" values=\"0;86\"/></use><use href=\"#artificial_intelligence\" stroke-dasharray=\"33 26\" style=\"stroke: hsl(253, 70%, 50%)\"><animate attributeName=\"stroke-dashoffset\" begin=\"-4.517s\" dur=\"5.700s\" repeatCount=\"indefinite\" values=\"0;-59\"/></use><use href=\"#artificial_intelligence\" stroke-dasharray=\"31 27\" style=\"stroke: hsl(149, 70%, 50%)\"><animate attributeName=\"stroke-dashoffset\" begin=\"-0.792s\" dur=\"5.687s\" repeatCount=\"indefinite\" values=\"0;58\"/></use><use href=\"#artificial_intelligence\" stroke-dasharray=\"50 24\" style=\"stroke: hsl(20, 70%, 50%)\"><animate attributeName=\"stroke-dashoffset\" begin=\"-5.404s\" dur=\"5.827s\" repeatCount=\"indefinite\" values=\"0;74\"/></use><use href=\"#artificial_intelligence\" stroke-dasharray=\"48 38\" style=\"stroke: hsl(240, 70%, 50%)\"><animate attributeName=\"stroke-dashoffset\" begin=\"-7.623s\" dur=\"8.630s\" repeatCount=\"indefinite\" values=\"0;-86\"/></use><use href=\"#artificial_intelligence\" stroke-dasharray=\"27 45\" style=\"stroke: hsl(337, 70%, 50%)\"><animate attributeName=\"stroke-dashoffset\" begin=\"-1.821s\" dur=\"6.744s\" repeatCount=\"indefinite\" values=\"0;-72\"/></use><use href=\"#machine_learning\" stroke-dasharray=\"21 50\" style=\"stroke: hsl(140, 70%, 50%)\"><animate attributeName=\"stroke-dashoffset\" begin=\"-6.518s\" dur=\"9.824s\" repeatCount=\"indefinite\" values=\"0;-71\"/></use><use href=\"#machine_learning\" stroke-dasharray=\"22 32\" style=\"stroke: hsl(353, 70%, 50%)\"><animate attributeName=\"stroke-dashoffset\" begin=\"-4.385s\" dur=\"9.747s\" repeatCount=\"indefinite\" values=\"0;-54\"/></use><use href=\"#machine_learning\" stroke-dasharray=\"29 38\" style=\"stroke: hsl(352, 70%, 50%)\"><animate attributeName=\"stroke-dashoffset\" begin=\"-5.588s\" dur=\"6.185s\" repeatCount=\"indefinite\" values=\"0;-67\"/></use><use href=\"#machine_learning\" stroke-dasharray=\"42 35\" style=\"stroke: hsl(176, 70%, 50%)\"><animate attributeName=\"stroke-dashoffset\" begin=\"-2.641s\" dur=\"8.086s\" repeatCount=\"indefinite\" values=\"0;77\"/></use><use href=\"#machine_learning\" stroke-dasharray=\"25 33\" style=\"stroke: hsl(278, 70%, 50%)\"><animate attributeName=\"stroke-dashoffset\" begin=\"-5.622s\" dur=\"7.353s\" repeatCount=\"indefinite\" values=\"0;58\"/></use><use href=\"#data_analytics\" stroke-dasharray=\"20 43\" style=\"stroke: hsl(10, 70%, 50%)\"><animate attributeName=\"stroke-dashoffset\" begin=\"-5.049s\" dur=\"9.158s\" repeatCount=\"indefinite\" values=\"0;63\"/></use><use href=\"#data_analytics\" stroke-dasharray=\"45 39\" style=\"stroke: hsl(96, 70%, 50%)\"><animate attributeName=\"stroke-dashoffset\" begin=\"-1.673s\" dur=\"8.714s\" repeatCount=\"indefinite\" values=\"0;84\"/></use><use href=\"#data_analytics\" stroke-dasharray=\"31 26\" style=\"stroke: hsl(116, 70%, 50%)\"><animate attributeName=\"stroke-dashoffset\" begin=\"-1.573s\" dur=\"7.541s\" repeatCount=\"indefinite\" values=\"0;57\"/></use><use href=\"#data_analytics\" stroke-dasharray=\"22 27\" style=\"stroke: hsl(137, 70%, 50%)\"><animate attributeName=\"stroke-dashoffset\" begin=\"-0.134s\" dur=\"5.099s\" repeatCount=\"indefinite\" values=\"0;49\"/></use><use href=\"#data_analytics\" stroke-dasharray=\"28 33\" style=\"stroke: hsl(21, 70%, 50%)\"><animate attributeName=\"stroke-dashoffset\" begin=\"-5.011s\" dur=\"9.300s\" repeatCount=\"indefinite\" values=\"0;61\"/></use><use href=\"#computer_science\" stroke-dasharray=\"43 36\" style=\"stroke: hsl(45, 70%, 50%)\"><animate attributeName=\"stroke-dashoffset\" begin=\"-3.746s\" dur=\"6.396s\" repeatCount=\"indefinite\" values=\"0;-79\"/></use><use href=\"#computer_science\" stroke-dasharray=\"34 34\" style=\"stroke: hsl(322, 70%, 50%)\"><animate attributeName=\"stroke-dashoffset\" begin=\"-4.078s\" dur=\"5.093s\" repeatCount=\"indefinite\" values=\"0;-68\"/></use><use href=\"#computer_science\" stroke-dasharray=\"22 40\" style=\"stroke: hsl(33, 70%, 50%)\"><animate attributeName=\"stroke-dashoffset\" begin=\"-6.961s\" dur=\"9.318s\" repeatCount=\"indefinite\" values=\"0;62\"/></use><use href=\"#computer_science\" stroke-dasharray=\"43 38\" style=\"stroke: hsl(156, 70%, 50%)\"><animate attributeName=\"stroke-dashoffset\" begin=\"-0.643s\" dur=\"5.300s\" repeatCount=\"indefinite\" values=\"0;81\"/></use><use href=\"#computer_science\" stroke-dasharray=\"23 20\" style=\"stroke: hsl(109, 70%, 50%)\"><animate attributeName=\"stroke-dashoffset\" begin=\"-4.370s\" dur=\"6.129s\" repeatCount=\"indefinite\" values=\"0;-43\"/></use><use href=\"#data_science\" stroke-dasharray=\"20 32\" style=\"stroke: hsl(169, 70%, 50%)\"><animate attributeName=\"stroke-dashoffset\" begin=\"-5.184s\" dur=\"5.360s\" repeatCount=\"indefinite\" values=\"0;52\"/></use><use href=\"#data_science\" stroke-dasharray=\"35 50\" style=\"stroke: hsl(44, 70%, 50%)\"><animate attributeName=\"stroke-dashoffset\" begin=\"-4.658s\" dur=\"6.262s\" repeatCount=\"indefinite\" values=\"0;85\"/></use><use href=\"#data_science\" stroke-dasharray=\"31 42\" style=\"stroke: hsl(154, 70%, 50%)\"><animate attributeName=\"stroke-dashoffset\" begin=\"-8.341s\" dur=\"9.850s\" repeatCount=\"indefinite\" values=\"0;73\"/></use><use href=\"#data_science\" stroke-dasharray=\"22 24\" style=\"stroke: hsl(243, 70%, 50%)\"><animate attributeName=\"stroke-dashoffset\" begin=\"-8.849s\" dur=\"9.909s\" repeatCount=\"indefinite\" values=\"0;-46\"/></use><use href=\"#data_science\" stroke-dasharray=\"25 50\" style=\"stroke: hsl(211, 70%, 50%)\"><animate attributeName=\"stroke-dashoffset\" begin=\"-4.231s\" dur=\"5.198s\" repeatCount=\"indefinite\" values=\"0;-75\"/></use><use href=\"#mathematics\" stroke-dasharray=\"37 43\" style=\"stroke: hsl(63, 70%, 50%)\"><animate attributeName=\"stroke-dashoffset\" begin=\"-0.837s\" dur=\"7.659s\" repeatCount=\"indefinite\" values=\"0;-80\"/></use><use href=\"#mathematics\" stroke-dasharray=\"50 37\" style=\"stroke: hsl(226, 70%, 50%)\"><animate attributeName=\"stroke-dashoffset\" begin=\"-5.570s\" dur=\"6.078s\" repeatCount=\"indefinite\" values=\"0;-87\"/></use><use href=\"#mathematics\" stroke-dasharray=\"27 23\" style=\"stroke: hsl(145, 70%, 50%)\"><animate attributeName=\"stroke-dashoffset\" begin=\"-1.877s\" dur=\"8.821s\" repeatCount=\"indefinite\" values=\"0;50\"/></use><use href=\"#mathematics\" stroke-dasharray=\"26 45\" style=\"stroke: hsl(205, 70%, 50%)\"><animate attributeName=\"stroke-dashoffset\" begin=\"-1.388s\" dur=\"5.333s\" repeatCount=\"indefinite\" values=\"0;-71\"/></use><use href=\"#mathematics\" stroke-dasharray=\"29 42\" style=\"stroke: hsl(300, 70%, 50%)\"><animate attributeName=\"stroke-dashoffset\" begin=\"-4.301s\" dur=\"8.197s\" repeatCount=\"indefinite\" values=\"0;-71\"/></use></svg>"
      ],
      "text/plain": [
       "<IPython.core.display.SVG object>"
      ]
     },
     "metadata": {},
     "output_type": "display_data"
    }
   ],
   "source": [
    "display_svg(str(svg))"
   ]
  },
  {
   "cell_type": "markdown",
   "metadata": {},
   "source": [
    "## Export SVG\n",
    "---"
   ]
  },
  {
   "cell_type": "code",
   "execution_count": 8,
   "metadata": {},
   "outputs": [],
   "source": [
    "# svg_out = f'''\n",
    "# <?xml version=\"1.0\" encoding=\"utf-8\"?>\n",
    "# <!DOCTYPE svg PUBLIC \"-//W3C//DTD SVG 1.1//EN\" \"http://www.w3.org/Graphics/SVG/1.1/DTD/svg11.dtd\">\n",
    "# {svg.prettify()}\n",
    "# '''\n",
    "\n",
    "# export_svg(svg_out, \"image\")"
   ]
  }
 ],
 "metadata": {
  "kernelspec": {
   "display_name": "Python 3",
   "language": "python",
   "name": "python3"
  },
  "language_info": {
   "codemirror_mode": {
    "name": "ipython",
    "version": 3
   },
   "file_extension": ".py",
   "mimetype": "text/x-python",
   "name": "python",
   "nbconvert_exporter": "python",
   "pygments_lexer": "ipython3",
   "version": "3.8.8"
  }
 },
 "nbformat": 4,
 "nbformat_minor": 4
}
