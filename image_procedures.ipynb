{
 "cells": [
  {
   "cell_type": "code",
   "execution_count": 1,
   "metadata": {},
   "outputs": [],
   "source": [
    "import numpy as np\n",
    "from bs4 import BeautifulSoup"
   ]
  },
  {
   "cell_type": "markdown",
   "metadata": {},
   "source": [
    "## Useful functions\n",
    "---"
   ]
  },
  {
   "cell_type": "code",
   "execution_count": 2,
   "metadata": {},
   "outputs": [],
   "source": [
    "def display_svg(data):\n",
    "    from IPython.display import SVG, display\n",
    "    display(SVG(data))"
   ]
  },
  {
   "cell_type": "code",
   "execution_count": 3,
   "metadata": {},
   "outputs": [],
   "source": [
    "def export_svg(data, filename):\n",
    "    f = open(f'{filename}.svg', \"w\")\n",
    "    f.write(data)\n",
    "    f.close()"
   ]
  },
  {
   "cell_type": "markdown",
   "metadata": {},
   "source": [
    "## Read template\n",
    "---\n",
    "Read template file `template.svg` from Illustrator and parse object."
   ]
  },
  {
   "cell_type": "code",
   "execution_count": 4,
   "metadata": {},
   "outputs": [],
   "source": [
    "f = open(\"template.svg\", \"r\")\n",
    "parse = BeautifulSoup(f.read(), 'html.parser')\n",
    "f.close()"
   ]
  },
  {
   "cell_type": "markdown",
   "metadata": {},
   "source": [
    "## Set SVG elements\n",
    "---"
   ]
  },
  {
   "cell_type": "code",
   "execution_count": 5,
   "metadata": {},
   "outputs": [],
   "source": [
    "# SVG\n",
    "svg = parse.find(\"svg\")\n",
    "\n",
    "del svg[\"viewbox\"]\n",
    "svg[\"width\"] = \"360px\"\n",
    "svg[\"height\"] = \"480px\"\n",
    "svg[\"xmlns\"] = \"http://www.w3.org/2000/svg\"\n",
    "svg[\"xmlns:xlink\"] = \"http://www.w3.org/1999/xlink\"\n",
    "\n",
    "# defs\n",
    "defs = svg.find(\"defs\")\n",
    "\n",
    "# style\n",
    "style = defs.find(\"style\")\n",
    "style.string += '''\n",
    ".word > * {\n",
    "    fill: none;\n",
    "    stroke-width: 1px;\n",
    "    stroke-linecap: round;\n",
    "    mix-blend-mode: overlay;\n",
    "}\n",
    "'''\n",
    "\n",
    "# title\n",
    "title = svg.find(\"title\")\n",
    "title.string = \"README Image\""
   ]
  },
  {
   "cell_type": "code",
   "execution_count": 6,
   "metadata": {},
   "outputs": [],
   "source": [
    "np.random.seed(1)\n",
    "\n",
    "# word cloud\n",
    "word_cloud = svg.find(\"g\", {\"id\": \"word_cloud\"})\n",
    "defs.append(word_cloud)\n",
    "\n",
    "WORDS = word_cloud.findAll(\"g\")\n",
    "for word in WORDS:\n",
    "    word.name = \"symbol\"\n",
    "    word[\"class\"] = \"word\"\n",
    "    \n",
    "    for i in range(5):\n",
    "        use = parse.new_tag(\"use\")\n",
    "        use[\"href\"] = f'#{word[\"id\"]}'\n",
    "        h = np.random.randint(360)\n",
    "        use[\"style\"] = f'stroke: hsl({h}, 70%, 50%)'\n",
    "        dao = np.random.randint(20, 31)\n",
    "        dai = np.random.randint(20, 51)\n",
    "        use[\"stroke-dasharray\"] = f'{dao} {dai}'\n",
    "        svg.append(use)\n",
    "        animate = parse.new_tag(\"animate\")\n",
    "        animate[\"attributeName\"] = \"stroke-dashoffset\"\n",
    "        animate[\"repeatCount\"] = \"indefinite\"\n",
    "        value = np.random.choice([-(dao + dai), dao + dai])\n",
    "        animate[\"values\"] = f'0;{value}'\n",
    "        dur = np.random.random()*3 + 2\n",
    "        animate[\"dur\"] = f'{dur:.03f}s'\n",
    "        begin = np.random.random()*dur\n",
    "        animate[\"begin\"] = f'-{begin:.03f}s'\n",
    "        use.append(animate)"
   ]
  },
  {
   "cell_type": "markdown",
   "metadata": {},
   "source": [
    "## Display SVG\n",
    "---"
   ]
  },
  {
   "cell_type": "code",
   "execution_count": 7,
   "metadata": {
    "scrolled": false
   },
   "outputs": [
    {
     "data": {
      "image/svg+xml": [
       "<svg height=\"480px\" width=\"360px\" xmlns=\"http://www.w3.org/2000/svg\" xmlns:xlink=\"http://www.w3.org/1999/xlink\"><defs><style>.cls-1{font-size:38.72px;}.cls-1,.cls-10,.cls-11,.cls-12,.cls-13,.cls-16,.cls-19,.cls-2,.cls-20,.cls-21,.cls-22,.cls-26,.cls-3,.cls-4,.cls-5,.cls-7,.cls-8,.cls-9{fill:#231f20;font-family:Impact;}.cls-2{font-size:36.39px;}.cls-3{font-size:27.22px;}.cls-4{font-size:55.1px;}.cls-5{font-size:45.25px;}.cls-6{letter-spacing:-0.04em;}.cls-7{font-size:61.32px;}.cls-8{font-size:38.9px;}.cls-9{font-size:29.52px;}.cls-10{font-size:36.65px;}.cls-11{font-size:48.21px;}.cls-12{font-size:50.19px;}.cls-13{font-size:35.57px;}.cls-14{letter-spacing:-0.06em;}.cls-15{letter-spacing:0em;}.cls-16{font-size:77.15px;}.cls-17{letter-spacing:-0.06em;}.cls-18{letter-spacing:-0.04em;}.cls-19{font-size:47.15px;}.cls-20{font-size:36.17px;}.cls-21{font-size:49.91px;}.cls-22{font-size:85.02px;}.cls-23{letter-spacing:-0.06em;}.cls-24{letter-spacing:-0.04em;}.cls-25{letter-spacing:0em;}.cls-26{font-size:59.03px;}.cls-27{letter-spacing:-0.06em;}.cls-28{letter-spacing:-0.06em;}\n",
       ".word &gt; * {\n",
       "    fill: none;\n",
       "    stroke-width: 1px;\n",
       "    stroke-linecap: round;\n",
       "    mix-blend-mode: overlay;\n",
       "}\n",
       "</style><g data-name=\"word cloud\" id=\"word_cloud\"><symbol class=\"word\" data-name=\"computer graphics\" id=\"computer_graphics\"><text class=\"cls-1\" id=\"graphics\" transform=\"translate(0 348.9)\">GRAPHICS</text><text class=\"cls-2\" transform=\"translate(0 310.26)\">COMPUTER</text></symbol><symbol class=\"word\" data-name=\"digital image processing\" id=\"digital_image_processing\"><text class=\"cls-3\" transform=\"translate(187.35 214.73) scale(1.05 1)\">PROCESSING</text><text class=\"cls-4\" transform=\"translate(187.35 187.76) scale(1.05 1)\">IMAGE</text><text class=\"cls-5\" transform=\"translate(187.35 136.31) scale(1.05 1)\">DIGI<tspan class=\"cls-6\" x=\"76.03\" y=\"0\">T</tspan><tspan x=\"95.08\" y=\"0\">AL</tspan></text></symbol><symbol class=\"word\" data-name=\"computer vision\" id=\"computer_vision\"><text class=\"cls-7\" transform=\"translate(2.81 216.95) scale(1.11 1)\">VISION</text><text class=\"cls-8\" transform=\"translate(1.03 161.61) scale(1.11 1)\">COMPUTER</text></symbol><symbol class=\"word\" data-name=\"artificial intelligence\" id=\"artificial_intelligence\"><text class=\"cls-9\" transform=\"translate(162.67 338.04) scale(1.08 1)\">INTELLIGENCE</text><text class=\"cls-10\" transform=\"translate(162.64 305.09) scale(1.07 1)\">ARTIFICIAL</text></symbol><symbol class=\"word\" data-name=\"machine learning\" id=\"machine_learning\"><text class=\"cls-11\" transform=\"translate(0 442.43) scale(0.99 1)\">LEARNING</text><text class=\"cls-12\" transform=\"translate(0 398.83) scale(0.99 1)\">MACHINE</text></symbol><symbol class=\"word\" data-name=\"data analytics\" id=\"data_analytics\"><text class=\"cls-13\" transform=\"translate(182 446.02)\">ANA<tspan class=\"cls-14\" x=\"55.38\" y=\"0\">L</tspan><tspan class=\"cls-15\" x=\"66.6\" y=\"0\">YTICS</tspan></text><text class=\"cls-16\" transform=\"translate(178.84 410.32)\">D<tspan class=\"cls-17\" x=\"42.64\" y=\"0\">A</tspan><tspan class=\"cls-18\" x=\"77.56\" y=\"0\">T</tspan><tspan x=\"110.03\" y=\"0\">A</tspan></text></symbol><symbol class=\"word\" data-name=\"computer science\" id=\"computer_science\"><text class=\"cls-19\" transform=\"translate(172.39 93.99)\">SCIENCE</text><text class=\"cls-20\" transform=\"translate(172.38 42.62)\">COMPUTER</text></symbol><symbol class=\"word\" data-name=\"data science\" id=\"data_science\"><text class=\"cls-21\" transform=\"translate(1.93 121.77)\">SCIENCE</text><text class=\"cls-22\" transform=\"translate(0.08 76.12)\">D<tspan class=\"cls-23\" x=\"46.99\" y=\"0\">A</tspan><tspan class=\"cls-24\" x=\"85.48\" y=\"0\">T</tspan><tspan class=\"cls-25\" x=\"121.26\" y=\"0\">A</tspan></text></symbol><symbol class=\"word\" id=\"mathematics\"><text class=\"cls-26\" transform=\"translate(0.01 269.72)\">M<tspan class=\"cls-27\" x=\"42.31\" y=\"0\">A</tspan><tspan x=\"69.03\" y=\"0\">THEM</tspan><tspan class=\"cls-28\" x=\"195.86\" y=\"0\">A</tspan><tspan x=\"222.58\" y=\"0\">TICS</tspan></text></symbol></g></defs><title>README Image</title><use href=\"#computer_graphics\" stroke-dasharray=\"28 29\" style=\"stroke: hsl(37, 70%, 50%)\"><animate attributeName=\"stroke-dashoffset\" begin=\"-1.180s\" dur=\"4.997s\" repeatCount=\"indefinite\" values=\"0;57\"/></use><use href=\"#computer_graphics\" stroke-dasharray=\"27 33\" style=\"stroke: hsl(129, 70%, 50%)\"><animate attributeName=\"stroke-dashoffset\" begin=\"-1.719s\" dur=\"3.190s\" repeatCount=\"indefinite\" values=\"0;-60\"/></use><use href=\"#computer_graphics\" stroke-dasharray=\"25 38\" style=\"stroke: hsl(254, 70%, 50%)\"><animate attributeName=\"stroke-dashoffset\" begin=\"-2.295s\" dur=\"2.613s\" repeatCount=\"indefinite\" values=\"0;-63\"/></use><use href=\"#computer_graphics\" stroke-dasharray=\"24 43\" style=\"stroke: hsl(50, 70%, 50%)\"><animate attributeName=\"stroke-dashoffset\" begin=\"-0.516s\" dur=\"3.676s\" repeatCount=\"indefinite\" values=\"0;67\"/></use><use href=\"#computer_graphics\" stroke-dasharray=\"26 33\" style=\"stroke: hsl(352, 70%, 50%)\"><animate attributeName=\"stroke-dashoffset\" begin=\"-1.537s\" dur=\"4.905s\" repeatCount=\"indefinite\" values=\"0;59\"/></use><use href=\"#digital_image_processing\" stroke-dasharray=\"29 21\" style=\"stroke: hsl(22, 70%, 50%)\"><animate attributeName=\"stroke-dashoffset\" begin=\"-0.398s\" dur=\"4.684s\" repeatCount=\"indefinite\" values=\"0;-50\"/></use><use href=\"#digital_image_processing\" stroke-dasharray=\"23 35\" style=\"stroke: hsl(141, 70%, 50%)\"><animate attributeName=\"stroke-dashoffset\" begin=\"-0.456s\" dur=\"4.634s\" repeatCount=\"indefinite\" values=\"0;-58\"/></use><use href=\"#digital_image_processing\" stroke-dasharray=\"29 23\" style=\"stroke: hsl(49, 70%, 50%)\"><animate attributeName=\"stroke-dashoffset\" begin=\"-0.408s\" dur=\"2.869s\" repeatCount=\"indefinite\" values=\"0;-52\"/></use><use href=\"#digital_image_processing\" stroke-dasharray=\"24 36\" style=\"stroke: hsl(26, 70%, 50%)\"><animate attributeName=\"stroke-dashoffset\" begin=\"-1.312s\" dur=\"2.103s\" repeatCount=\"indefinite\" values=\"0;60\"/></use><use href=\"#digital_image_processing\" stroke-dasharray=\"24 45\" style=\"stroke: hsl(64, 70%, 50%)\"><animate attributeName=\"stroke-dashoffset\" begin=\"-0.742s\" dur=\"3.338s\" repeatCount=\"indefinite\" values=\"0;69\"/></use><use href=\"#computer_vision\" stroke-dasharray=\"28 42\" style=\"stroke: hsl(153, 70%, 50%)\"><animate attributeName=\"stroke-dashoffset\" begin=\"-2.067s\" dur=\"2.289s\" repeatCount=\"indefinite\" values=\"0;70\"/></use><use href=\"#computer_vision\" stroke-dasharray=\"25 45\" style=\"stroke: hsl(356, 70%, 50%)\"><animate attributeName=\"stroke-dashoffset\" begin=\"-4.325s\" dur=\"4.751s\" repeatCount=\"indefinite\" values=\"0;70\"/></use><use href=\"#computer_vision\" stroke-dasharray=\"27 35\" style=\"stroke: hsl(266, 70%, 50%)\"><animate attributeName=\"stroke-dashoffset\" begin=\"-2.270s\" dur=\"3.698s\" repeatCount=\"indefinite\" values=\"0;62\"/></use><use href=\"#computer_vision\" stroke-dasharray=\"30 50\" style=\"stroke: hsl(348, 70%, 50%)\"><animate attributeName=\"stroke-dashoffset\" begin=\"-1.437s\" dur=\"2.693s\" repeatCount=\"indefinite\" values=\"0;-80\"/></use><use href=\"#computer_vision\" stroke-dasharray=\"21 33\" style=\"stroke: hsl(321, 70%, 50%)\"><animate attributeName=\"stroke-dashoffset\" begin=\"-2.772s\" dur=\"3.622s\" repeatCount=\"indefinite\" values=\"0;54\"/></use><use href=\"#artificial_intelligence\" stroke-dasharray=\"24 41\" style=\"stroke: hsl(262, 70%, 50%)\"><animate attributeName=\"stroke-dashoffset\" begin=\"-0.130s\" dur=\"4.377s\" repeatCount=\"indefinite\" values=\"0;-65\"/></use><use href=\"#artificial_intelligence\" stroke-dasharray=\"27 33\" style=\"stroke: hsl(203, 70%, 50%)\"><animate attributeName=\"stroke-dashoffset\" begin=\"-2.983s\" dur=\"3.344s\" repeatCount=\"indefinite\" values=\"0;-60\"/></use><use href=\"#artificial_intelligence\" stroke-dasharray=\"24 27\" style=\"stroke: hsl(30, 70%, 50%)\"><animate attributeName=\"stroke-dashoffset\" begin=\"-1.429s\" dur=\"3.957s\" repeatCount=\"indefinite\" values=\"0;51\"/></use><use href=\"#artificial_intelligence\" stroke-dasharray=\"20 33\" style=\"stroke: hsl(210, 70%, 50%)\"><animate attributeName=\"stroke-dashoffset\" begin=\"-2.900s\" dur=\"4.650s\" repeatCount=\"indefinite\" values=\"0;-53\"/></use><use href=\"#artificial_intelligence\" stroke-dasharray=\"30 48\" style=\"stroke: hsl(152, 70%, 50%)\"><animate attributeName=\"stroke-dashoffset\" begin=\"-2.311s\" dur=\"3.070s\" repeatCount=\"indefinite\" values=\"0;-78\"/></use><use href=\"#machine_learning\" stroke-dasharray=\"29 44\" style=\"stroke: hsl(60, 70%, 50%)\"><animate attributeName=\"stroke-dashoffset\" begin=\"-0.258s\" dur=\"3.494s\" repeatCount=\"indefinite\" values=\"0;-73\"/></use><use href=\"#machine_learning\" stroke-dasharray=\"27 22\" style=\"stroke: hsl(220, 70%, 50%)\"><animate attributeName=\"stroke-dashoffset\" begin=\"-2.888s\" dur=\"3.066s\" repeatCount=\"indefinite\" values=\"0;-49\"/></use><use href=\"#machine_learning\" stroke-dasharray=\"22 27\" style=\"stroke: hsl(198, 70%, 50%)\"><animate attributeName=\"stroke-dashoffset\" begin=\"-0.011s\" dur=\"3.721s\" repeatCount=\"indefinite\" values=\"0;49\"/></use><use href=\"#machine_learning\" stroke-dasharray=\"24 42\" style=\"stroke: hsl(170, 70%, 50%)\"><animate attributeName=\"stroke-dashoffset\" begin=\"-1.437s\" dur=\"2.027s\" repeatCount=\"indefinite\" values=\"0;-66\"/></use><use href=\"#machine_learning\" stroke-dasharray=\"21 41\" style=\"stroke: hsl(114, 70%, 50%)\"><animate attributeName=\"stroke-dashoffset\" begin=\"-0.915s\" dur=\"3.402s\" repeatCount=\"indefinite\" values=\"0;-62\"/></use><use href=\"#data_analytics\" stroke-dasharray=\"29 41\" style=\"stroke: hsl(56, 70%, 50%)\"><animate attributeName=\"stroke-dashoffset\" begin=\"-1.044s\" dur=\"2.210s\" repeatCount=\"indefinite\" values=\"0;70\"/></use><use href=\"#data_analytics\" stroke-dasharray=\"24 40\" style=\"stroke: hsl(141, 70%, 50%)\"><animate attributeName=\"stroke-dashoffset\" begin=\"-1.368s\" dur=\"2.691s\" repeatCount=\"indefinite\" values=\"0;64\"/></use><use href=\"#data_analytics\" stroke-dasharray=\"29 22\" style=\"stroke: hsl(24, 70%, 50%)\"><animate attributeName=\"stroke-dashoffset\" begin=\"-0.997s\" dur=\"2.517s\" repeatCount=\"indefinite\" values=\"0;51\"/></use><use href=\"#data_analytics\" stroke-dasharray=\"25 28\" style=\"stroke: hsl(248, 70%, 50%)\"><animate attributeName=\"stroke-dashoffset\" begin=\"-0.666s\" dur=\"2.306s\" repeatCount=\"indefinite\" values=\"0;53\"/></use><use href=\"#data_analytics\" stroke-dasharray=\"27 36\" style=\"stroke: hsl(45, 70%, 50%)\"><animate attributeName=\"stroke-dashoffset\" begin=\"-1.662s\" dur=\"2.838s\" repeatCount=\"indefinite\" values=\"0;-63\"/></use><use href=\"#computer_science\" stroke-dasharray=\"20 49\" style=\"stroke: hsl(322, 70%, 50%)\"><animate attributeName=\"stroke-dashoffset\" begin=\"-1.026s\" dur=\"4.402s\" repeatCount=\"indefinite\" values=\"0;69\"/></use><use href=\"#computer_science\" stroke-dasharray=\"22 40\" style=\"stroke: hsl(33, 70%, 50%)\"><animate attributeName=\"stroke-dashoffset\" begin=\"-3.430s\" dur=\"4.591s\" repeatCount=\"indefinite\" values=\"0;62\"/></use><use href=\"#computer_science\" stroke-dasharray=\"27 38\" style=\"stroke: hsl(156, 70%, 50%)\"><animate attributeName=\"stroke-dashoffset\" begin=\"-0.264s\" dur=\"2.180s\" repeatCount=\"indefinite\" values=\"0;65\"/></use><use href=\"#computer_science\" stroke-dasharray=\"23 20\" style=\"stroke: hsl(109, 70%, 50%)\"><animate attributeName=\"stroke-dashoffset\" begin=\"-1.909s\" dur=\"2.677s\" repeatCount=\"indefinite\" values=\"0;-43\"/></use><use href=\"#computer_science\" stroke-dasharray=\"20 32\" style=\"stroke: hsl(169, 70%, 50%)\"><animate attributeName=\"stroke-dashoffset\" begin=\"-2.143s\" dur=\"2.216s\" repeatCount=\"indefinite\" values=\"0;52\"/></use><use href=\"#data_science\" stroke-dasharray=\"23 39\" style=\"stroke: hsl(44, 70%, 50%)\"><animate attributeName=\"stroke-dashoffset\" begin=\"-1.504s\" dur=\"2.586s\" repeatCount=\"indefinite\" values=\"0;62\"/></use><use href=\"#data_science\" stroke-dasharray=\"25 35\" style=\"stroke: hsl(227, 70%, 50%)\"><animate attributeName=\"stroke-dashoffset\" begin=\"-1.343s\" dur=\"2.720s\" repeatCount=\"indefinite\" values=\"0;-60\"/></use><use href=\"#data_science\" stroke-dasharray=\"20 39\" style=\"stroke: hsl(228, 70%, 50%)\"><animate attributeName=\"stroke-dashoffset\" begin=\"-0.046s\" dur=\"2.470s\" repeatCount=\"indefinite\" values=\"0;59\"/></use><use href=\"#data_science\" stroke-dasharray=\"27 25\" style=\"stroke: hsl(166, 70%, 50%)\"><animate attributeName=\"stroke-dashoffset\" begin=\"-1.952s\" dur=\"4.288s\" repeatCount=\"indefinite\" values=\"0;52\"/></use><use href=\"#data_science\" stroke-dasharray=\"30 22\" style=\"stroke: hsl(298, 70%, 50%)\"><animate attributeName=\"stroke-dashoffset\" begin=\"-1.240s\" dur=\"2.438s\" repeatCount=\"indefinite\" values=\"0;-52\"/></use><use href=\"#mathematics\" stroke-dasharray=\"24 34\" style=\"stroke: hsl(320, 70%, 50%)\"><animate attributeName=\"stroke-dashoffset\" begin=\"-0.185s\" dur=\"2.795s\" repeatCount=\"indefinite\" values=\"0;58\"/></use><use href=\"#mathematics\" stroke-dasharray=\"26 29\" style=\"stroke: hsl(150, 70%, 50%)\"><animate attributeName=\"stroke-dashoffset\" begin=\"-1.980s\" dur=\"2.631s\" repeatCount=\"indefinite\" values=\"0;-55\"/></use><use href=\"#mathematics\" stroke-dasharray=\"20 38\" style=\"stroke: hsl(240, 70%, 50%)\"><animate attributeName=\"stroke-dashoffset\" begin=\"-0.854s\" dur=\"4.414s\" repeatCount=\"indefinite\" values=\"0;-58\"/></use><use href=\"#mathematics\" stroke-dasharray=\"27 36\" style=\"stroke: hsl(342, 70%, 50%)\"><animate attributeName=\"stroke-dashoffset\" begin=\"-1.257s\" dur=\"4.774s\" repeatCount=\"indefinite\" values=\"0;63\"/></use><use href=\"#mathematics\" stroke-dasharray=\"24 43\" style=\"stroke: hsl(138, 70%, 50%)\"><animate attributeName=\"stroke-dashoffset\" begin=\"-4.402s\" dur=\"4.723s\" repeatCount=\"indefinite\" values=\"0;-67\"/></use></svg>"
      ],
      "text/plain": [
       "<IPython.core.display.SVG object>"
      ]
     },
     "metadata": {},
     "output_type": "display_data"
    }
   ],
   "source": [
    "display_svg(str(svg))"
   ]
  },
  {
   "cell_type": "markdown",
   "metadata": {},
   "source": [
    "## Export SVG\n",
    "---"
   ]
  },
  {
   "cell_type": "code",
   "execution_count": 8,
   "metadata": {},
   "outputs": [],
   "source": [
    "# svg_out = f'''\n",
    "# <?xml version=\"1.0\" encoding=\"utf-8\"?>\n",
    "# <!DOCTYPE svg PUBLIC \"-//W3C//DTD SVG 1.1//EN\" \"http://www.w3.org/Graphics/SVG/1.1/DTD/svg11.dtd\">\n",
    "# {svg.prettify()}\n",
    "# '''\n",
    "\n",
    "# export_svg(svg_out, \"image\")"
   ]
  }
 ],
 "metadata": {
  "kernelspec": {
   "display_name": "Python 3",
   "language": "python",
   "name": "python3"
  },
  "language_info": {
   "codemirror_mode": {
    "name": "ipython",
    "version": 3
   },
   "file_extension": ".py",
   "mimetype": "text/x-python",
   "name": "python",
   "nbconvert_exporter": "python",
   "pygments_lexer": "ipython3",
   "version": "3.7.10"
  }
 },
 "nbformat": 4,
 "nbformat_minor": 4
}
