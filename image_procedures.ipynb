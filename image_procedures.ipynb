{
 "cells": [
  {
   "cell_type": "code",
   "execution_count": 1,
   "metadata": {},
   "outputs": [],
   "source": [
    "%matplotlib inline\n",
    "import matplotlib.pyplot as plt\n",
    "import numpy as np"
   ]
  },
  {
   "cell_type": "markdown",
   "metadata": {},
   "source": [
    "## Useful functions\n",
    "---"
   ]
  },
  {
   "cell_type": "code",
   "execution_count": 2,
   "metadata": {},
   "outputs": [],
   "source": [
    "def display_svg(data):\n",
    "    from IPython.display import SVG, display\n",
    "    display(SVG(data))"
   ]
  },
  {
   "cell_type": "code",
   "execution_count": 3,
   "metadata": {},
   "outputs": [],
   "source": [
    "def export_svg(data, filename):\n",
    "    f = open(f'{filename}.svg', \"w\")\n",
    "    f.write(data)\n",
    "    f.close()"
   ]
  },
  {
   "cell_type": "markdown",
   "metadata": {},
   "source": [
    "# Build SVG\n",
    "---"
   ]
  },
  {
   "cell_type": "code",
   "execution_count": 4,
   "metadata": {},
   "outputs": [],
   "source": [
    "WIDTH = 360\n",
    "HEIGHT = 480"
   ]
  },
  {
   "cell_type": "code",
   "execution_count": 5,
   "metadata": {},
   "outputs": [],
   "source": [
    "SVG = '<?xml version=\"1.0\" encoding=\"utf-8\"?>\\n'\n",
    "SVG += '<!DOCTYPE svg PUBLIC \"-//W3C//DTD SVG 1.1//EN\" \"http://www.w3.org/Graphics/SVG/1.1/DTD/svg11.dtd\">\\n'"
   ]
  },
  {
   "cell_type": "code",
   "execution_count": 6,
   "metadata": {},
   "outputs": [],
   "source": [
    "SVG += f'<svg id=\"image\" width=\"{WIDTH}px\" height=\"{HEIGHT}px\" xmlns=\"http://www.w3.org/2000/svg\" xmlns:xlink=\"http://www.w3.org/1999/xlink\">'"
   ]
  },
  {
   "cell_type": "markdown",
   "metadata": {},
   "source": [
    "## References definition\n",
    "---"
   ]
  },
  {
   "cell_type": "code",
   "execution_count": 7,
   "metadata": {},
   "outputs": [],
   "source": [
    "SVG += '''\n",
    "\n",
    "  <defs>\n",
    "    <!-- ! Gradients -->\n",
    "    <linearGradient id=\"BG-grad1\" x1=\"0%\" y1=\"0%\" x2=\"0%\" y2=\"100%\">\n",
    "      <stop offset=\"0%\" stop-color=\"rgb(0,0,0)\" stop-opacity=\"1\" />\n",
    "      <stop offset=\"50%\" stop-color=\"rgb(5,15,30)\" stop-opacity=\"1\" />\n",
    "      <stop offset=\"100%\" stop-color=\"rgb(20,40,60)\" stop-opacity=\"1\" />\n",
    "    </linearGradient>\n",
    "    <radialGradient id=\"BG-grad2\" cx=\"250\" cy=\"100\" r=\"150\" gradientUnits=\"userSpaceOnUse\">\n",
    "      <stop offset=\"0%\" stop-color=\"rgb(255,255,255)\" stop-opacity=\"1\" />\n",
    "      <stop offset=\"100%\" stop-color=\"rgb(0,0,0)\" stop-opacity=\"1\" />\n",
    "    </radialGradient>\n",
    "    <radialGradient id=\"BH-grad1\" cx=\"0.5\" cy=\"0.5\" r=\"0.5\">\n",
    "      <stop offset=\"0%\" stop-color=\"rgb(0,0,0)\" stop-opacity=\"1\" />\n",
    "      <stop offset=\"100%\" stop-color=\"rgb(30,30,30)\" stop-opacity=\"1\" />\n",
    "    </radialGradient>\n",
    "    <!-- ! Filters -->\n",
    "    <filter id=\"BH-photo-ring-red\" x=\"-20%\" y=\"-20%\" width=\"140%\" height=\"140%\">\n",
    "      <feGaussianBlur stdDeviation=\"3 3\" in=\"SourceGraphic\" edgeMode=\"none\" result=\"blur1\" />\n",
    "      <feTurbulence type=\"turbulence\" baseFrequency=\"0.1\" numOctaves=\"2\" seed=\"1\" stitchTiles=\"stitch\" result=\"turbulence1\" />\n",
    "      <feOffset in=\"turbulence1\" result=\"turbulence-dx1\">\n",
    "        <animate attributeName=\"dy\" values=\"0;-83\" dur=\"10s\" repeatCount=\"indefinite\" />\n",
    "      </feOffset>\n",
    "      <feOffset in=\"turbulence1\" result=\"turbulence-dx2\">\n",
    "        <animate attributeName=\"dy\" values=\"83;0\" dur=\"10s\" repeatCount=\"indefinite\" />\n",
    "      </feOffset>\n",
    "      <feMerge result=\"merge1\">\n",
    "        <feMergeNode in=\"turbulence-dx1\" />\n",
    "        <feMergeNode in=\"turbulence-dx2\" />\n",
    "      </feMerge>\n",
    "      <feComposite in=\"merge1\" in2=\"blur1\" operator=\"in\" result=\"composite1\" />\n",
    "      <feColorMatrix\n",
    "        type=\"matrix\" \n",
    "        values=\"1 0 0 0 0\n",
    "                0 1 0 0 0\n",
    "                0 0 1 0 0\n",
    "                0 0 0 60 -4\" \n",
    "        in=\"composite\"\n",
    "        result=\"colormatrix1\"/>\n",
    "      <feFlood flood-color=\"rgb(255,0,55)\" flood-opacity=\"1\" result=\"flood1\" />\n",
    "      <feComposite in=\"flood1\" in2=\"colormatrix1\" operator=\"in\" result=\"composite2\" />\n",
    "      <feGaussianBlur stdDeviation=\"3 3\" in=\"composite2\" edgeMode=\"none\" result=\"blur2\" />\n",
    "      <feColorMatrix\n",
    "        type=\"matrix\" \n",
    "        values=\"1 0 0 0 0\n",
    "                0 1 0 0 0\n",
    "                0 0 1 0 0\n",
    "                0 0 0 15 -6\" \n",
    "        in=\"blur2\"\n",
    "        result=\"colormatrix2\" />\n",
    "    </filter>\n",
    "    <filter id=\"BH-photo-ring-green\" x=\"-20%\" y=\"-20%\" width=\"140%\" height=\"140%\">\n",
    "      <feGaussianBlur stdDeviation=\"3 3\" in=\"SourceGraphic\" edgeMode=\"none\" result=\"blur1\" />\n",
    "      <feTurbulence type=\"turbulence\" baseFrequency=\"0.1\" numOctaves=\"2\" seed=\"2\" stitchTiles=\"stitch\" result=\"turbulence1\" />\n",
    "      <feOffset in=\"turbulence1\" result=\"turbulence-dx1\">\n",
    "        <animate attributeName=\"dy\" values=\"0;-83\" dur=\"10s\" repeatCount=\"indefinite\" />\n",
    "      </feOffset>\n",
    "      <feOffset in=\"turbulence1\" result=\"turbulence-dx2\">\n",
    "        <animate attributeName=\"dy\" values=\"83;0\" dur=\"10s\" repeatCount=\"indefinite\" />\n",
    "      </feOffset>\n",
    "      <feMerge result=\"merge1\">\n",
    "        <feMergeNode in=\"turbulence-dx1\" />\n",
    "        <feMergeNode in=\"turbulence-dx2\" />\n",
    "      </feMerge>\n",
    "      <feComposite in=\"merge1\" in2=\"blur1\" operator=\"in\" result=\"composite1\" />\n",
    "      <feColorMatrix\n",
    "        type=\"matrix\" \n",
    "        values=\"1 0 0 0 0\n",
    "                0 1 0 0 0\n",
    "                0 0 1 0 0\n",
    "                0 0 0 60 -4\" \n",
    "        in=\"composite\"\n",
    "        result=\"colormatrix1\"/>\n",
    "      <feFlood flood-color=\"rgb(55,255,0)\" flood-opacity=\"1\" result=\"flood1\" />\n",
    "      <feComposite in=\"flood1\" in2=\"colormatrix1\" operator=\"in\" result=\"composite2\" />\n",
    "      <feGaussianBlur stdDeviation=\"3 3\" in=\"composite2\" edgeMode=\"none\" result=\"blur2\" />\n",
    "      <feColorMatrix\n",
    "        type=\"matrix\" \n",
    "        values=\"1 0 0 0 0\n",
    "                0 1 0 0 0\n",
    "                0 0 1 0 0\n",
    "                0 0 0 15 -6\" \n",
    "        in=\"blur2\"\n",
    "        result=\"colormatrix2\" />\n",
    "    </filter>\n",
    "    <filter id=\"BH-photo-ring-blue\" x=\"-20%\" y=\"-20%\" width=\"140%\" height=\"140%\">\n",
    "      <feGaussianBlur stdDeviation=\"3 3\" in=\"SourceGraphic\" edgeMode=\"none\" result=\"blur1\" />\n",
    "      <feTurbulence type=\"turbulence\" baseFrequency=\"0.1\" numOctaves=\"2\" seed=\"3\" stitchTiles=\"stitch\" result=\"turbulence1\" />\n",
    "      <feOffset in=\"turbulence1\" result=\"turbulence-dx1\">\n",
    "        <animate attributeName=\"dy\" values=\"0;-83\" dur=\"10s\" repeatCount=\"indefinite\" />\n",
    "      </feOffset>\n",
    "      <feOffset in=\"turbulence1\" result=\"turbulence-dx2\">\n",
    "        <animate attributeName=\"dy\" values=\"83;0\" dur=\"10s\" repeatCount=\"indefinite\" />\n",
    "      </feOffset>\n",
    "      <feMerge result=\"merge1\">\n",
    "        <feMergeNode in=\"turbulence-dx1\" />\n",
    "        <feMergeNode in=\"turbulence-dx2\" />\n",
    "      </feMerge>\n",
    "      <feComposite in=\"merge1\" in2=\"blur1\" operator=\"in\" result=\"composite1\" />\n",
    "      <feColorMatrix\n",
    "        type=\"matrix\" \n",
    "        values=\"1 0 0 0 0\n",
    "                0 1 0 0 0\n",
    "                0 0 1 0 0\n",
    "                0 0 0 60 -4\" \n",
    "        in=\"composite\"\n",
    "        result=\"colormatrix1\"/>\n",
    "      <feFlood flood-color=\"rgb(0,55,255)\" flood-opacity=\"1\" result=\"flood1\" />\n",
    "      <feComposite in=\"flood1\" in2=\"colormatrix1\" operator=\"in\" result=\"composite2\" />\n",
    "      <feGaussianBlur stdDeviation=\"3 3\" in=\"composite2\" edgeMode=\"none\" result=\"blur2\" />\n",
    "      <feColorMatrix\n",
    "        type=\"matrix\" \n",
    "        values=\"1 0 0 0 0\n",
    "                0 1 0 0 0\n",
    "                0 0 1 0 0\n",
    "                0 0 0 15 -6\"\n",
    "        in=\"blur2\"\n",
    "        result=\"colormatrix2\" />\n",
    "    </filter>\n",
    "    <!-- ! Symbols -->\n",
    "    <!-- ! Patterns -->\n",
    "  </defs>\n",
    "\n",
    "'''"
   ]
  },
  {
   "cell_type": "code",
   "execution_count": 8,
   "metadata": {},
   "outputs": [],
   "source": [
    "# Background colorization\n",
    "SVG += '  <!-- ! Background gradients -->\\n'\n",
    "SVG += '  <rect id=\"BG\" width=\"100%\" height=\"100%\" fill=\"url(#BG-grad1)\" />\\n'\n",
    "SVG += '  <rect id=\"BG\" width=\"100%\" height=\"100%\" fill=\"url(#BG-grad2)\" style=\"mix-blend-mode: screen;\" opacity=\"0.2\" />\\n\\n'"
   ]
  },
  {
   "cell_type": "markdown",
   "metadata": {},
   "source": [
    "## Fixed stars 01\n",
    "---"
   ]
  },
  {
   "cell_type": "code",
   "execution_count": 9,
   "metadata": {},
   "outputs": [
    {
     "data": {
      "image/png": "[encoded data removed]",
      "text/plain": [
       "<Figure size 518.4x691.2 with 1 Axes>"
      ]
     },
     "metadata": {
      "needs_background": "light"
     },
     "output_type": "display_data"
    }
   ],
   "source": [
    "fig, ax = plt.subplots(1, 1, figsize=(36/5, 48/5))\n",
    "\n",
    "N = 10\n",
    "np.random.seed(sum([ord(e) for e in list('Fixed Stars 01')]))\n",
    "x = np.random.random(N)*WIDTH\n",
    "y = np.random.random(N)*HEIGHT\n",
    "\n",
    "ax.scatter(x, HEIGHT - y)\n",
    "ax.set_xlim([0, WIDTH])\n",
    "ax.set_ylim([0, HEIGHT])\n",
    "\n",
    "plt.show()"
   ]
  },
  {
   "cell_type": "code",
   "execution_count": 10,
   "metadata": {},
   "outputs": [],
   "source": [
    "SVG += '  <!-- ! Fixed stars 01 -->\\n'\n",
    "SVG += '  <g id=\"fixed-stars01\">\\n'\n",
    "\n",
    "maxdur = 10\n",
    "\n",
    "np.random.seed(sum([ord(e) for e in list('Fixed Stars 01')]))\n",
    "for i in range(N):\n",
    "    r = 0.75 + np.random.random()*0.75\n",
    "    h = [0, 220][np.random.randint(2)] + np.random.random()*40 - 20\n",
    "    SVG += f'    <circle cx=\"{x[i]:.02f}\" cy=\"{y[i]:.02f}\" r=\"{r:.02f}\" fill=\"hsl({h:.02f}, 70%, 70%)\">\\n'\n",
    "    offset = np.random.random()*maxdur\n",
    "    SVG += f'      <animate attributeName=\"opacity\" values=\"1;0.5;0.75;0.25;0.75;0.5;1\" dur=\"{maxdur}s\" begin=\"-{offset:.02f}s\" repeatCount=\"indefinite\" />\\n'\n",
    "    SVG += f'    </circle>\\n'\n",
    "\n",
    "SVG += '  </g>\\n\\n'"
   ]
  },
  {
   "cell_type": "markdown",
   "metadata": {},
   "source": [
    "## Falling stars 01\n",
    "---"
   ]
  },
  {
   "cell_type": "code",
   "execution_count": 11,
   "metadata": {},
   "outputs": [
    {
     "data": {
      "image/png": "[encoded data removed]",
      "text/plain": [
       "<Figure size 518.4x691.2 with 1 Axes>"
      ]
     },
     "metadata": {
      "needs_background": "light"
     },
     "output_type": "display_data"
    }
   ],
   "source": [
    "fig, ax = plt.subplots(1, 1, figsize=(36/5, 48/5))\n",
    "\n",
    "N = 8\n",
    "np.random.seed(sum([ord(e) for e in list('Falling Stars 01')]))\n",
    "x = np.random.random(N)*WIDTH\n",
    "y = np.random.random(N)*HEIGHT\n",
    "\n",
    "ax.scatter(x, HEIGHT - y)\n",
    "ax.set_xlim([0, WIDTH])\n",
    "ax.set_ylim([0, HEIGHT])\n",
    "\n",
    "plt.show()"
   ]
  },
  {
   "cell_type": "code",
   "execution_count": 12,
   "metadata": {},
   "outputs": [],
   "source": [
    "SVG += '  <!-- ! Falling stars 01 -->\\n'\n",
    "SVG += '  <g id=\"falling-stars01\">\\n'\n",
    "\n",
    "maxdur = 5\n",
    "\n",
    "np.random.seed(sum([ord(e) for e in list('Falling Stars 01')]))\n",
    "for i in range(N):\n",
    "    r = 0.75 + np.random.random()*0.75\n",
    "    h = [0, 220][np.random.randint(2)] + np.random.random()*40 - 20\n",
    "    SVG += f'    <circle cx=\"{x[i]:.02f}\" r=\"{r:.02f}\" fill=\"hsl({h:.02f}, 50%, 70%)\">\\n'\n",
    "    po = np.random.random()*HEIGHT/2\n",
    "    pi = HEIGHT + po\n",
    "    dur = 1 + np.random.random()*(maxdur - 1)\n",
    "    offset1 = dur*y[i]/HEIGHT\n",
    "    SVG += f'      <animate attributeName=\"cy\" values=\"-{po:.02f};{pi:.02f}\" dur=\"{dur:.02f}s\" begin=\"-{offset1:.02f}s\" repeatCount=\"indefinite\" />\\n'\n",
    "    offset2 = np.random.random()*4\n",
    "    SVG += f'      <animate attributeName=\"opacity\" values=\"1;0.5;0.75;0.25;0.75;0.5;1\" dur=\"5s\" begin=\"-{offset2:.02f}s\" repeatCount=\"indefinite\" />\\n'\n",
    "    SVG += f'    </circle>\\n'\n",
    "\n",
    "SVG += '  </g>\\n\\n'"
   ]
  },
  {
   "cell_type": "markdown",
   "metadata": {},
   "source": [
    "## Black hole\n",
    "---"
   ]
  },
  {
   "cell_type": "code",
   "execution_count": 13,
   "metadata": {},
   "outputs": [],
   "source": [
    "cx = 250; cy = 100; r = 30\n",
    "\n",
    "SVG += f'  <!-- ! Black hole -->\\n'\n",
    "SVG += f'  <g id=\"bh-photon-ring\">\\n'\n",
    "SVG += f'    <circle cx=\"{cx}\" cy=\"{cy}\" r=\"{r}\" style=\"filter: url(#BH-photo-ring-red); mix-blend-mode: screen;\" />\\n'\n",
    "SVG += f'    <circle cx=\"{cx}\" cy=\"{cy}\" r=\"{r}\" style=\"filter: url(#BH-photo-ring-green); mix-blend-mode: screen;\" />\\n'\n",
    "SVG += f'    <circle cx=\"{cx}\" cy=\"{cy}\" r=\"{r}\" style=\"filter: url(#BH-photo-ring-blue); mix-blend-mode: screen;\" />\\n'\n",
    "SVG += f'    <circle cx=\"{cx}\" cy=\"{cy}\" r=\"{r}\" fill=\"url(#BH-grad1)\" stroke=\"white\" stroke-width=\"1\" />\\n'\n",
    "SVG += f'  </g>\\n\\n'"
   ]
  },
  {
   "cell_type": "code",
   "execution_count": 14,
   "metadata": {},
   "outputs": [],
   "source": [
    "def disk01(SVG, R, r_, s_, t_):\n",
    "    W = np.linspace(0, 2*np.pi, 5)\n",
    "    S = cx + R*np.cos(W[1:] - np.pi/2)\n",
    "    T = cy + R*np.sin(W[1:] - np.pi/2)\n",
    "    for j, (r, si, ti) in enumerate(zip(R, S, T)):\n",
    "        so = S[j - 1] if j != 0 else s_\n",
    "        to = T[j - 1] if j != 0 else t_\n",
    "        dso = - r_*np.sin(j*np.pi/2 - np.pi/2)/2\n",
    "        dto =   r_*np.cos(j*np.pi/2 - np.pi/2)/2\n",
    "        dsi = - r*np.sin((j + 1)*np.pi/2 - np.pi/2)/2\n",
    "        dti =   r*np.cos((j + 1)*np.pi/2 - np.pi/2)/2\n",
    "        SVG += f'C {so + dso:.02f},{to + dto:.02f} {si - dsi:.02f},{ti - dti:.02f} {si:.02f},{ti:.02f} '\n",
    "    r_ = R[-1]; s_ = S[-1]; t_ = T[-1]\n",
    "    return SVG, r_, s_, t_\n",
    "\n",
    "def disk02(SVG, R, r_, s_, t_):\n",
    "    R[1] *= 0.4\n",
    "    R = np.insert(R, 1, R[0] + 20)\n",
    "    R = np.insert(R, 3, R[3] + 20)\n",
    "    W = np.linspace(0, 2*np.pi, 5)\n",
    "    W = np.insert(W, 2, W[1] + 0.1)\n",
    "    W = np.insert(W, 4, W[4] - 0.1)\n",
    "    S = cx + R*np.cos(W[1:] - np.pi/2)\n",
    "    T = cy + R*np.sin(W[1:] - np.pi/2)\n",
    "    for j, (r, w, si, ti) in enumerate(zip(R, W, S, T)):\n",
    "        so = S[j - 1] if j != 0 else s_\n",
    "        to = T[j - 1] if j != 0 else t_\n",
    "        dso = - r_*np.sin(w - np.pi/2)/2\n",
    "        dto =   r_*np.cos(w - np.pi/2)/2\n",
    "        dsi = - r*np.sin(W[j + 1] - np.pi/2)/2\n",
    "        dti =   r*np.cos(W[j + 1] - np.pi/2)/2\n",
    "        SVG += f'C {so + dso:.02f},{to + dto:.02f} {si - dsi:.02f},{ti - dti:.02f} {si:.02f},{ti:.02f} '\n",
    "    r_ = R[-1]; s_ = S[-1]; t_ = T[-1]\n",
    "    return SVG, r_, s_, t_\n",
    "\n",
    "def accretion_disk(SVG, rad, dev, N, kind=1, stroke=\"white\", stroke_dasharray=None, animate=None, seed=0):\n",
    "    np.random.seed(sum([ord(e) for e in list('Black Hole 01')]) + seed)\n",
    "\n",
    "    SVG += f'    <path d=\"'\n",
    "    r_ = rad + np.random.random()*dev\n",
    "    s_ = cx + r_*np.cos(0 - np.pi/2)\n",
    "    t_ = cy + r_*np.sin(0 - np.pi/2)\n",
    "    SVG += f'M {s_:.02f},{t_:.02f} '\n",
    "    \n",
    "    for i in range(N):\n",
    "        R = rad + np.random.random(4)*dev\n",
    "        if kind == 1:\n",
    "            SVG, r_, s_, t_ = disk01(SVG, R, r_, s_, t_)\n",
    "        else:\n",
    "            SVG, r_, s_, t_ = disk02(SVG, R, r_, s_, t_)\n",
    "        \n",
    "    if not stroke_dasharray:\n",
    "        SVG += f'\" stroke=\"{stroke}\" stroke-width=\"0.1\" fill=\"none\" style=\"mix-blend-mode: screen;\">\\n'\n",
    "    else:\n",
    "        SVG += f'\" stroke=\"{stroke}\" stroke-width=\"0.1\" fill=\"none\" stroke-dasharray=\"{stroke_dasharray}\" style=\"mix-blend-mode: screen;\">\\n'\n",
    "    if animate:\n",
    "        value = sum([int(e) for e in stroke_dasharray.split(',')])\n",
    "        SVG += f'      <animate attributeName=\"stroke-dashoffset\" values=\"0;-{value}\" dur=\"{animate[\"dur\"]}s\" begin=\"-{animate[\"offset\"]:.02f}s\" repeatCount=\"indefinite\" />\\n'\n",
    "    SVG += f'    </path>\\n'\n",
    "    return SVG\n",
    "\n",
    "\n",
    "SVG += f'  <g id=\"bh-accretion-disk\">\\n'\n",
    "\n",
    "SVG = accretion_disk(SVG, 40, 40, 50, 1, 'rgb(255,0,55)', stroke_dasharray='2, 75', animate={'dur': 20, 'offset': 1}, seed=1)\n",
    "SVG = accretion_disk(SVG, 40, 40, 50, 1, 'rgb(55,255,0)', stroke_dasharray='2, 75', animate={'dur': 20, 'offset': 2}, seed=2)\n",
    "SVG = accretion_disk(SVG, 40, 40, 50, 1, 'rgb(0,55,255)', stroke_dasharray='2, 75', animate={'dur': 20, 'offset': 3}, seed=3)\n",
    "\n",
    "SVG += f'  </g>\\n\\n'"
   ]
  },
  {
   "cell_type": "markdown",
   "metadata": {},
   "source": [
    "## Falling stars 02\n",
    "---"
   ]
  },
  {
   "cell_type": "code",
   "execution_count": 15,
   "metadata": {},
   "outputs": [
    {
     "data": {
      "image/png": "[encoded data removed]",
      "text/plain": [
       "<Figure size 518.4x691.2 with 1 Axes>"
      ]
     },
     "metadata": {
      "needs_background": "light"
     },
     "output_type": "display_data"
    }
   ],
   "source": [
    "fig, ax = plt.subplots(1, 1, figsize=(36/5, 48/5))\n",
    "\n",
    "N = 4\n",
    "ymin = 20\n",
    "ymax = HEIGHT - ymin\n",
    "\n",
    "np.random.seed(sum([ord(e) for e in list('Falling Stars 02')]))\n",
    "x = np.random.random(N)*WIDTH\n",
    "yo = ymin + np.random.random(N)*(HEIGHT/4 -ymin)\n",
    "yi = 3*HEIGHT/4 + np.random.random(N)*(HEIGHT/4 -ymin)\n",
    "\n",
    "for i in range(N):\n",
    "    ax.plot([x[i]]*2, [HEIGHT - yo[i], HEIGHT - yi[i]])\n",
    "\n",
    "ax.set_xlim([0, WIDTH])\n",
    "ax.set_ylim([0, HEIGHT])\n",
    "\n",
    "plt.show()"
   ]
  },
  {
   "cell_type": "code",
   "execution_count": 16,
   "metadata": {},
   "outputs": [],
   "source": [
    "SVG += '  <!-- ! Falling stars 02 -->\\n'\n",
    "SVG += '  <g id=\"falling-stars02\" opacity=\"0.5\">\\n'\n",
    "\n",
    "mindur = 2\n",
    "maxdur = 4\n",
    "\n",
    "np.random.seed(sum([ord(e) for e in list('Falling Stars 02')]))\n",
    "for i in range(N):\n",
    "    length = yi[i] - yo[i]\n",
    "    space = 3 + np.random.randint(4)\n",
    "    opacity = 0.25 + np.random.random()*0.5\n",
    "    SVG += f'    <line x1=\"{x[i]:.02f}\" y1=\"{yo[i]:.02f}\" x2=\"{x[i]:.02f}\" y2=\"{yi[i]:.02f}\" stroke-opacity=\"{opacity:.02f}\" stroke=\"white\" stroke-dasharray=\"{length:.02f},{space*length:.02f}\" stroke-width=\"1\">\\n'\n",
    "    dur = mindur + np.random.random()*(maxdur - mindur)\n",
    "    offset = np.random.random()*maxdur\n",
    "    SVG += f'      <animate attributeName=\"stroke-dashoffset\" values=\"0;-{(space + 1)*length:.02f}\" dur=\"{dur:.02f}s\" begin=\"-{offset:.02f}s\" repeatCount=\"indefinite\" />\\n'\n",
    "    SVG += f'    </line>\\n'\n",
    "\n",
    "SVG += '  </g>\\n\\n'"
   ]
  },
  {
   "cell_type": "markdown",
   "metadata": {},
   "source": [
    "## Display SVG\n",
    "---"
   ]
  },
  {
   "cell_type": "code",
   "execution_count": 17,
   "metadata": {},
   "outputs": [],
   "source": [
    "SVG += f'<text x=\"{WIDTH - 130}\" y=\"{HEIGHT - 10}\" fill=\"yellow\" opacity=\"0.25\">under construction</text>\\n'\n",
    "SVG += '</svg>\\n'"
   ]
  },
  {
   "cell_type": "code",
   "execution_count": 18,
   "metadata": {},
   "outputs": [
    {
     "data": {
      "image/svg+xml": [
       "<svg height=\"480px\" id=\"image\" width=\"360px\" xmlns=\"http://www.w3.org/2000/svg\" xmlns:xlink=\"http://www.w3.org/1999/xlink\">\n",
       "\n",
       "  <defs>\n",
       "    <!-- ! Gradients -->\n",
       "    <linearGradient id=\"BG-grad1\" x1=\"0%\" x2=\"0%\" y1=\"0%\" y2=\"100%\">\n",
       "      <stop offset=\"0%\" stop-color=\"rgb(0,0,0)\" stop-opacity=\"1\"/>\n",
       "      <stop offset=\"50%\" stop-color=\"rgb(5,15,30)\" stop-opacity=\"1\"/>\n",
       "      <stop offset=\"100%\" stop-color=\"rgb(20,40,60)\" stop-opacity=\"1\"/>\n",
       "    </linearGradient>\n",
       "    <radialGradient cx=\"250\" cy=\"100\" gradientUnits=\"userSpaceOnUse\" id=\"BG-grad2\" r=\"150\">\n",
       "      <stop offset=\"0%\" stop-color=\"rgb(255,255,255)\" stop-opacity=\"1\"/>\n",
       "      <stop offset=\"100%\" stop-color=\"rgb(0,0,0)\" stop-opacity=\"1\"/>\n",
       "    </radialGradient>\n",
       "    <radialGradient cx=\"0.5\" cy=\"0.5\" id=\"BH-grad1\" r=\"0.5\">\n",
       "      <stop offset=\"0%\" stop-color=\"rgb(0,0,0)\" stop-opacity=\"1\"/>\n",
       "      <stop offset=\"100%\" stop-color=\"rgb(30,30,30)\" stop-opacity=\"1\"/>\n",
       "    </radialGradient>\n",
       "    <!-- ! Filters -->\n",
       "    <filter height=\"140%\" id=\"BH-photo-ring-red\" width=\"140%\" x=\"-20%\" y=\"-20%\">\n",
       "      <feGaussianBlur edgeMode=\"none\" in=\"SourceGraphic\" result=\"blur1\" stdDeviation=\"3 3\"/>\n",
       "      <feTurbulence baseFrequency=\"0.1\" numOctaves=\"2\" result=\"turbulence1\" seed=\"1\" stitchTiles=\"stitch\" type=\"turbulence\"/>\n",
       "      <feOffset in=\"turbulence1\" result=\"turbulence-dx1\">\n",
       "        <animate attributeName=\"dy\" dur=\"10s\" repeatCount=\"indefinite\" values=\"0;-83\"/>\n",
       "      </feOffset>\n",
       "      <feOffset in=\"turbulence1\" result=\"turbulence-dx2\">\n",
       "        <animate attributeName=\"dy\" dur=\"10s\" repeatCount=\"indefinite\" values=\"83;0\"/>\n",
       "      </feOffset>\n",
       "      <feMerge result=\"merge1\">\n",
       "        <feMergeNode in=\"turbulence-dx1\"/>\n",
       "        <feMergeNode in=\"turbulence-dx2\"/>\n",
       "      </feMerge>\n",
       "      <feComposite in=\"merge1\" in2=\"blur1\" operator=\"in\" result=\"composite1\"/>\n",
       "      <feColorMatrix in=\"composite\" result=\"colormatrix1\" type=\"matrix\" values=\"1 0 0 0 0                 0 1 0 0 0                 0 0 1 0 0                 0 0 0 60 -4\"/>\n",
       "      <feFlood flood-color=\"rgb(255,0,55)\" flood-opacity=\"1\" result=\"flood1\"/>\n",
       "      <feComposite in=\"flood1\" in2=\"colormatrix1\" operator=\"in\" result=\"composite2\"/>\n",
       "      <feGaussianBlur edgeMode=\"none\" in=\"composite2\" result=\"blur2\" stdDeviation=\"3 3\"/>\n",
       "      <feColorMatrix in=\"blur2\" result=\"colormatrix2\" type=\"matrix\" values=\"1 0 0 0 0                 0 1 0 0 0                 0 0 1 0 0                 0 0 0 15 -6\"/>\n",
       "    </filter>\n",
       "    <filter height=\"140%\" id=\"BH-photo-ring-green\" width=\"140%\" x=\"-20%\" y=\"-20%\">\n",
       "      <feGaussianBlur edgeMode=\"none\" in=\"SourceGraphic\" result=\"blur1\" stdDeviation=\"3 3\"/>\n",
       "      <feTurbulence baseFrequency=\"0.1\" numOctaves=\"2\" result=\"turbulence1\" seed=\"2\" stitchTiles=\"stitch\" type=\"turbulence\"/>\n",
       "      <feOffset in=\"turbulence1\" result=\"turbulence-dx1\">\n",
       "        <animate attributeName=\"dy\" dur=\"10s\" repeatCount=\"indefinite\" values=\"0;-83\"/>\n",
       "      </feOffset>\n",
       "      <feOffset in=\"turbulence1\" result=\"turbulence-dx2\">\n",
       "        <animate attributeName=\"dy\" dur=\"10s\" repeatCount=\"indefinite\" values=\"83;0\"/>\n",
       "      </feOffset>\n",
       "      <feMerge result=\"merge1\">\n",
       "        <feMergeNode in=\"turbulence-dx1\"/>\n",
       "        <feMergeNode in=\"turbulence-dx2\"/>\n",
       "      </feMerge>\n",
       "      <feComposite in=\"merge1\" in2=\"blur1\" operator=\"in\" result=\"composite1\"/>\n",
       "      <feColorMatrix in=\"composite\" result=\"colormatrix1\" type=\"matrix\" values=\"1 0 0 0 0                 0 1 0 0 0                 0 0 1 0 0                 0 0 0 60 -4\"/>\n",
       "      <feFlood flood-color=\"rgb(55,255,0)\" flood-opacity=\"1\" result=\"flood1\"/>\n",
       "      <feComposite in=\"flood1\" in2=\"colormatrix1\" operator=\"in\" result=\"composite2\"/>\n",
       "      <feGaussianBlur edgeMode=\"none\" in=\"composite2\" result=\"blur2\" stdDeviation=\"3 3\"/>\n",
       "      <feColorMatrix in=\"blur2\" result=\"colormatrix2\" type=\"matrix\" values=\"1 0 0 0 0                 0 1 0 0 0                 0 0 1 0 0                 0 0 0 15 -6\"/>\n",
       "    </filter>\n",
       "    <filter height=\"140%\" id=\"BH-photo-ring-blue\" width=\"140%\" x=\"-20%\" y=\"-20%\">\n",
       "      <feGaussianBlur edgeMode=\"none\" in=\"SourceGraphic\" result=\"blur1\" stdDeviation=\"3 3\"/>\n",
       "      <feTurbulence baseFrequency=\"0.1\" numOctaves=\"2\" result=\"turbulence1\" seed=\"3\" stitchTiles=\"stitch\" type=\"turbulence\"/>\n",
       "      <feOffset in=\"turbulence1\" result=\"turbulence-dx1\">\n",
       "        <animate attributeName=\"dy\" dur=\"10s\" repeatCount=\"indefinite\" values=\"0;-83\"/>\n",
       "      </feOffset>\n",
       "      <feOffset in=\"turbulence1\" result=\"turbulence-dx2\">\n",
       "        <animate attributeName=\"dy\" dur=\"10s\" repeatCount=\"indefinite\" values=\"83;0\"/>\n",
       "      </feOffset>\n",
       "      <feMerge result=\"merge1\">\n",
       "        <feMergeNode in=\"turbulence-dx1\"/>\n",
       "        <feMergeNode in=\"turbulence-dx2\"/>\n",
       "      </feMerge>\n",
       "      <feComposite in=\"merge1\" in2=\"blur1\" operator=\"in\" result=\"composite1\"/>\n",
       "      <feColorMatrix in=\"composite\" result=\"colormatrix1\" type=\"matrix\" values=\"1 0 0 0 0                 0 1 0 0 0                 0 0 1 0 0                 0 0 0 60 -4\"/>\n",
       "      <feFlood flood-color=\"rgb(0,55,255)\" flood-opacity=\"1\" result=\"flood1\"/>\n",
       "      <feComposite in=\"flood1\" in2=\"colormatrix1\" operator=\"in\" result=\"composite2\"/>\n",
       "      <feGaussianBlur edgeMode=\"none\" in=\"composite2\" result=\"blur2\" stdDeviation=\"3 3\"/>\n",
       "      <feColorMatrix in=\"blur2\" result=\"colormatrix2\" type=\"matrix\" values=\"1 0 0 0 0                 0 1 0 0 0                 0 0 1 0 0                 0 0 0 15 -6\"/>\n",
       "    </filter>\n",
       "    <!-- ! Symbols -->\n",
       "    <!-- ! Patterns -->\n",
       "  </defs>\n",
       "\n",
       "  <!-- ! Background gradients -->\n",
       "  <rect fill=\"url(#BG-grad1)\" height=\"100%\" id=\"BG\" width=\"100%\"/>\n",
       "  <rect fill=\"url(#BG-grad2)\" height=\"100%\" id=\"BG\" opacity=\"0.2\" style=\"mix-blend-mode: screen;\" width=\"100%\"/>\n",
       "\n",
       "  <!-- ! Fixed stars 01 -->\n",
       "  <g id=\"fixed-stars01\">\n",
       "    <circle cx=\"260.31\" cy=\"205.03\" fill=\"hsl(221.00, 70%, 70%)\" r=\"1.29\">\n",
       "      <animate attributeName=\"opacity\" begin=\"-9.56s\" dur=\"10s\" repeatCount=\"indefinite\" values=\"1;0.5;0.75;0.25;0.75;0.5;1\"/>\n",
       "    </circle>\n",
       "    <circle cx=\"54.12\" cy=\"181.82\" fill=\"hsl(237.59, 70%, 70%)\" r=\"1.27\">\n",
       "      <animate attributeName=\"opacity\" begin=\"-4.67s\" dur=\"10s\" repeatCount=\"indefinite\" values=\"1;0.5;0.75;0.25;0.75;0.5;1\"/>\n",
       "    </circle>\n",
       "    <circle cx=\"161.60\" cy=\"257.39\" fill=\"hsl(239.32, 70%, 70%)\" r=\"1.13\">\n",
       "      <animate attributeName=\"opacity\" begin=\"-8.27s\" dur=\"10s\" repeatCount=\"indefinite\" values=\"1;0.5;0.75;0.25;0.75;0.5;1\"/>\n",
       "    </circle>\n",
       "    <circle cx=\"35.28\" cy=\"157.41\" fill=\"hsl(221.45, 70%, 70%)\" r=\"0.86\">\n",
       "      <animate attributeName=\"opacity\" begin=\"-3.28s\" dur=\"10s\" repeatCount=\"indefinite\" values=\"1;0.5;0.75;0.25;0.75;0.5;1\"/>\n",
       "    </circle>\n",
       "    <circle cx=\"244.21\" cy=\"259.97\" fill=\"hsl(6.57, 70%, 70%)\" r=\"1.16\">\n",
       "      <animate attributeName=\"opacity\" begin=\"-7.55s\" dur=\"10s\" repeatCount=\"indefinite\" values=\"1;0.5;0.75;0.25;0.75;0.5;1\"/>\n",
       "    </circle>\n",
       "    <circle cx=\"338.28\" cy=\"294.67\" fill=\"hsl(9.55, 70%, 70%)\" r=\"1.11\">\n",
       "      <animate attributeName=\"opacity\" begin=\"-6.35s\" dur=\"10s\" repeatCount=\"indefinite\" values=\"1;0.5;0.75;0.25;0.75;0.5;1\"/>\n",
       "    </circle>\n",
       "    <circle cx=\"168.05\" cy=\"445.05\" fill=\"hsl(-12.00, 70%, 70%)\" r=\"1.26\">\n",
       "      <animate attributeName=\"opacity\" begin=\"-0.21s\" dur=\"10s\" repeatCount=\"indefinite\" values=\"1;0.5;0.75;0.25;0.75;0.5;1\"/>\n",
       "    </circle>\n",
       "    <circle cx=\"181.35\" cy=\"428.65\" fill=\"hsl(218.62, 70%, 70%)\" r=\"1.43\">\n",
       "      <animate attributeName=\"opacity\" begin=\"-2.84s\" dur=\"10s\" repeatCount=\"indefinite\" values=\"1;0.5;0.75;0.25;0.75;0.5;1\"/>\n",
       "    </circle>\n",
       "    <circle cx=\"53.00\" cy=\"476.98\" fill=\"hsl(5.98, 70%, 70%)\" r=\"1.06\">\n",
       "      <animate attributeName=\"opacity\" begin=\"-9.80s\" dur=\"10s\" repeatCount=\"indefinite\" values=\"1;0.5;0.75;0.25;0.75;0.5;1\"/>\n",
       "    </circle>\n",
       "    <circle cx=\"92.27\" cy=\"354.60\" fill=\"hsl(212.82, 70%, 70%)\" r=\"0.98\">\n",
       "      <animate attributeName=\"opacity\" begin=\"-8.56s\" dur=\"10s\" repeatCount=\"indefinite\" values=\"1;0.5;0.75;0.25;0.75;0.5;1\"/>\n",
       "    </circle>\n",
       "  </g>\n",
       "\n",
       "  <!-- ! Falling stars 01 -->\n",
       "  <g id=\"falling-stars01\">\n",
       "    <circle cx=\"113.74\" fill=\"hsl(-13.14, 50%, 70%)\" r=\"0.99\">\n",
       "      <animate attributeName=\"cy\" begin=\"-1.81s\" dur=\"2.66s\" repeatCount=\"indefinite\" values=\"-165.94;645.94\"/>\n",
       "      <animate attributeName=\"opacity\" begin=\"-3.39s\" dur=\"5s\" repeatCount=\"indefinite\" values=\"1;0.5;0.75;0.25;0.75;0.5;1\"/>\n",
       "    </circle>\n",
       "    <circle cx=\"212.67\" fill=\"hsl(-10.91, 50%, 70%)\" r=\"1.27\">\n",
       "      <animate attributeName=\"cy\" begin=\"-2.26s\" dur=\"3.55s\" repeatCount=\"indefinite\" values=\"-162.75;642.75\"/>\n",
       "      <animate attributeName=\"opacity\" begin=\"-1.66s\" dur=\"5s\" repeatCount=\"indefinite\" values=\"1;0.5;0.75;0.25;0.75;0.5;1\"/>\n",
       "    </circle>\n",
       "    <circle cx=\"198.06\" fill=\"hsl(204.72, 50%, 70%)\" r=\"1.39\">\n",
       "      <animate attributeName=\"cy\" begin=\"-1.52s\" dur=\"3.67s\" repeatCount=\"indefinite\" values=\"-73.46;553.46\"/>\n",
       "      <animate attributeName=\"opacity\" begin=\"-1.78s\" dur=\"5s\" repeatCount=\"indefinite\" values=\"1;0.5;0.75;0.25;0.75;0.5;1\"/>\n",
       "    </circle>\n",
       "    <circle cx=\"117.68\" fill=\"hsl(237.92, 50%, 70%)\" r=\"0.75\">\n",
       "      <animate attributeName=\"cy\" begin=\"-2.44s\" dur=\"2.86s\" repeatCount=\"indefinite\" values=\"-209.19;689.19\"/>\n",
       "      <animate attributeName=\"opacity\" begin=\"-1.24s\" dur=\"5s\" repeatCount=\"indefinite\" values=\"1;0.5;0.75;0.25;0.75;0.5;1\"/>\n",
       "    </circle>\n",
       "    <circle cx=\"250.25\" fill=\"hsl(16.89, 50%, 70%)\" r=\"1.33\">\n",
       "      <animate attributeName=\"cy\" begin=\"-0.15s\" dur=\"2.30s\" repeatCount=\"indefinite\" values=\"-179.72;659.72\"/>\n",
       "      <animate attributeName=\"opacity\" begin=\"-0.60s\" dur=\"5s\" repeatCount=\"indefinite\" values=\"1;0.5;0.75;0.25;0.75;0.5;1\"/>\n",
       "    </circle>\n",
       "    <circle cx=\"34.36\" fill=\"hsl(200.78, 50%, 70%)\" r=\"0.97\">\n",
       "      <animate attributeName=\"cy\" begin=\"-0.46s\" dur=\"1.55s\" repeatCount=\"indefinite\" values=\"-119.08;599.08\"/>\n",
       "      <animate attributeName=\"opacity\" begin=\"-0.46s\" dur=\"5s\" repeatCount=\"indefinite\" values=\"1;0.5;0.75;0.25;0.75;0.5;1\"/>\n",
       "    </circle>\n",
       "    <circle cx=\"81.49\" fill=\"hsl(-1.37, 50%, 70%)\" r=\"0.91\">\n",
       "      <animate attributeName=\"cy\" begin=\"-2.38s\" dur=\"4.64s\" repeatCount=\"indefinite\" values=\"-113.92;593.92\"/>\n",
       "      <animate attributeName=\"opacity\" begin=\"-1.73s\" dur=\"5s\" repeatCount=\"indefinite\" values=\"1;0.5;0.75;0.25;0.75;0.5;1\"/>\n",
       "    </circle>\n",
       "    <circle cx=\"81.84\" fill=\"hsl(12.94, 50%, 70%)\" r=\"1.32\">\n",
       "      <animate attributeName=\"cy\" begin=\"-0.40s\" dur=\"2.60s\" repeatCount=\"indefinite\" values=\"-44.34;524.34\"/>\n",
       "      <animate attributeName=\"opacity\" begin=\"-3.35s\" dur=\"5s\" repeatCount=\"indefinite\" values=\"1;0.5;0.75;0.25;0.75;0.5;1\"/>\n",
       "    </circle>\n",
       "  </g>\n",
       "\n",
       "  <!-- ! Black hole -->\n",
       "  <g id=\"bh-photon-ring\">\n",
       "    <circle cx=\"250\" cy=\"100\" r=\"30\" style=\"filter: url(#BH-photo-ring-red); mix-blend-mode: screen;\"/>\n",
       "    <circle cx=\"250\" cy=\"100\" r=\"30\" style=\"filter: url(#BH-photo-ring-green); mix-blend-mode: screen;\"/>\n",
       "    <circle cx=\"250\" cy=\"100\" r=\"30\" style=\"filter: url(#BH-photo-ring-blue); mix-blend-mode: screen;\"/>\n",
       "    <circle cx=\"250\" cy=\"100\" fill=\"url(#BH-grad1)\" r=\"30\" stroke=\"white\" stroke-width=\"1\"/>\n",
       "  </g>\n",
       "\n",
       "  <g id=\"bh-accretion-disk\">\n",
       "    <path d=\"M 250.00,59.96 C 270.02,59.96 300.25,74.87 300.25,100.00 C 300.25,120.02 276.50,152.99 250.00,152.99 C 229.98,152.99 193.27,128.36 193.27,100.00 C 193.27,79.98 214.58,29.16 250.00,29.16 C 285.42,29.16 328.31,60.85 328.31,100.00 C 328.31,135.42 273.93,147.85 250.00,147.85 C 214.58,147.85 187.60,131.20 187.60,100.00 C 187.60,64.58 213.42,26.84 250.00,26.84 C 286.58,26.84 319.80,65.10 319.80,100.00 C 319.80,136.58 280.14,160.28 250.00,160.28 C 213.42,160.28 179.67,135.17 179.67,100.00 C 179.67,63.42 228.34,56.67 250.00,56.67 C 271.66,56.67 315.89,67.05 315.89,100.00 C 315.89,121.66 277.76,155.51 250.00,155.51 C 228.34,155.51 177.79,136.10 177.79,100.00 C 177.79,78.34 214.05,28.10 250.00,28.10 C 285.95,28.10 298.24,75.88 298.24,100.00 C 298.24,135.95 285.71,171.43 250.00,171.43 C 214.05,171.43 202.21,123.90 202.21,100.00 C 202.21,64.05 220.52,41.05 250.00,41.05 C 279.48,41.05 298.02,75.99 298.02,100.00 C 298.02,129.48 277.80,155.60 250.00,155.60 C 220.52,155.60 181.01,134.50 181.01,100.00 C 181.01,70.52 222.45,44.89 250.00,44.89 C 277.55,44.89 321.14,64.43 321.14,100.00 C 321.14,127.55 284.01,168.02 250.00,168.02 C 222.45,168.02 178.65,135.67 178.65,100.00 C 178.65,72.45 213.65,27.31 250.00,27.31 C 286.35,27.31 292.30,78.85 292.30,100.00 C 292.30,136.35 283.96,167.92 250.00,167.92 C 213.65,167.92 186.92,131.54 186.92,100.00 C 186.92,63.65 224.00,48.00 250.00,48.00 C 276.00,48.00 319.02,65.49 319.02,100.00 C 319.02,126.00 281.58,163.15 250.00,163.15 C 224.00,163.15 188.73,130.63 188.73,100.00 C 188.73,74.00 213.20,26.41 250.00,26.41 C 286.80,26.41 312.58,68.71 312.58,100.00 C 312.58,136.80 281.47,162.95 250.00,162.95 C 213.20,162.95 208.62,120.69 208.62,100.00 C 208.62,63.20 229.22,58.44 250.00,58.44 C 270.78,58.44 329.73,60.13 329.73,100.00 C 329.73,120.78 277.53,155.06 250.00,155.06 C 229.22,155.06 205.51,122.25 205.51,100.00 C 205.51,79.22 228.76,57.52 250.00,57.52 C 271.24,57.52 307.70,71.15 307.70,100.00 C 307.70,121.24 276.77,153.55 250.00,153.55 C 228.76,153.55 197.54,126.23 197.54,100.00 C 197.54,78.76 224.97,49.94 250.00,49.94 C 275.03,49.94 300.54,74.73 300.54,100.00 C 300.54,125.03 282.05,164.10 250.00,164.10 C 224.97,164.10 183.65,133.18 183.65,100.00 C 183.65,74.97 228.87,57.74 250.00,57.74 C 271.13,57.74 314.98,67.51 314.98,100.00 C 314.98,121.13 271.10,142.19 250.00,142.19 C 228.87,142.19 190.30,129.85 190.30,100.00 C 190.30,78.87 221.96,43.92 250.00,43.92 C 278.04,43.92 300.29,74.85 300.29,100.00 C 300.29,128.04 274.70,149.39 250.00,149.39 C 221.96,149.39 183.91,133.04 183.91,100.00 C 183.91,71.96 225.67,51.34 250.00,51.34 C 274.33,51.34 325.85,62.07 325.85,100.00 C 325.85,124.33 278.12,156.24 250.00,156.24 C 225.67,156.24 192.85,128.58 192.85,100.00 C 192.85,75.67 212.14,24.27 250.00,24.27 C 287.86,24.27 292.37,78.81 292.37,100.00 C 292.37,137.86 275.48,150.96 250.00,150.96 C 212.14,150.96 197.65,126.17 197.65,100.00 C 197.65,62.14 214.73,29.46 250.00,29.46 C 285.27,29.46 323.18,63.41 323.18,100.00 C 323.18,135.27 280.93,161.85 250.00,161.85 C 214.73,161.85 190.45,129.78 190.45,100.00 C 190.45,64.73 212.85,25.70 250.00,25.70 C 287.15,25.70 329.40,60.30 329.40,100.00 C 329.40,137.15 285.76,171.52 250.00,171.52 C 212.85,171.52 197.34,126.33 197.34,100.00 C 197.34,62.85 213.26,26.52 250.00,26.52 C 286.74,26.52 311.50,69.25 311.50,100.00 C 311.50,136.74 282.16,164.33 250.00,164.33 C 213.26,164.33 184.00,133.00 184.00,100.00 C 184.00,63.26 218.57,37.14 250.00,37.14 C 281.43,37.14 306.23,71.88 306.23,100.00 C 306.23,131.43 288.33,176.66 250.00,176.66 C 218.57,176.66 201.81,124.10 201.81,100.00 C 201.81,68.57 221.62,43.23 250.00,43.23 C 278.38,43.23 299.15,75.42 299.15,100.00 C 299.15,128.38 287.29,174.59 250.00,174.59 C 221.62,174.59 186.23,131.88 186.23,100.00 C 186.23,71.62 213.40,26.81 250.00,26.81 C 286.60,26.81 319.80,65.10 319.80,100.00 C 319.80,136.60 284.89,169.78 250.00,169.78 C 213.40,169.78 198.25,125.87 198.25,100.00 C 198.25,63.40 228.14,56.28 250.00,56.28 C 271.86,56.28 296.97,76.51 296.97,100.00 C 296.97,121.86 282.32,164.64 250.00,164.64 C 228.14,164.64 208.87,120.57 208.87,100.00 C 208.87,78.14 228.96,57.92 250.00,57.92 C 271.04,57.92 301.74,74.13 301.74,100.00 C 301.74,121.04 287.67,175.35 250.00,175.35 C 228.96,175.35 201.79,124.11 201.79,100.00 C 201.79,78.96 213.33,26.67 250.00,26.67 C 286.67,26.67 321.64,64.18 321.64,100.00 C 321.64,136.67 288.34,176.69 250.00,176.69 C 213.33,176.69 188.65,130.67 188.65,100.00 C 188.65,63.33 216.15,32.29 250.00,32.29 C 283.85,32.29 290.04,79.98 290.04,100.00 C 290.04,133.85 275.34,150.68 250.00,150.68 C 216.15,150.68 203.17,123.42 203.17,100.00 C 203.17,66.15 211.04,22.09 250.00,22.09 C 288.96,22.09 312.22,68.89 312.22,100.00 C 312.22,138.96 273.28,146.55 250.00,146.55 C 211.04,146.55 176.63,136.69 176.63,100.00 C 176.63,61.04 228.65,57.31 250.00,57.31 C 271.35,57.31 309.08,70.46 309.08,100.00 C 309.08,121.35 276.88,153.76 250.00,153.76 C 228.65,153.76 206.91,121.54 206.91,100.00 C 206.91,78.65 228.04,56.09 250.00,56.09 C 271.96,56.09 310.38,69.81 310.38,100.00 C 310.38,121.96 279.87,159.75 250.00,159.75 C 228.04,159.75 173.47,138.26 173.47,100.00 C 173.47,78.04 223.30,46.59 250.00,46.59 C 276.70,46.59 294.11,77.95 294.11,100.00 C 294.11,126.70 274.89,149.78 250.00,149.78 C 223.30,149.78 177.42,136.29 177.42,100.00 C 177.42,73.30 226.43,52.86 250.00,52.86 C 273.57,52.86 307.66,71.17 307.66,100.00 C 307.66,123.57 286.21,172.42 250.00,172.42 C 226.43,172.42 172.38,138.81 172.38,100.00 C 172.38,76.43 218.77,37.54 250.00,37.54 C 281.23,37.54 302.80,73.60 302.80,100.00 C 302.80,131.23 287.58,175.15 250.00,175.15 C 218.77,175.15 208.28,120.86 208.28,100.00 C 208.28,68.77 226.72,53.44 250.00,53.44 C 273.28,53.44 301.62,74.19 301.62,100.00 C 301.62,123.28 272.96,145.92 250.00,145.92 C 226.72,145.92 209.47,120.26 209.47,100.00 C 209.47,76.72 214.25,28.49 250.00,28.49 C 285.75,28.49 323.52,63.24 323.52,100.00 C 323.52,135.75 281.38,162.77 250.00,162.77 C 214.25,162.77 176.52,136.74 176.52,100.00 C 176.52,64.25 219.39,38.77 250.00,38.77 C 280.61,38.77 324.92,62.54 324.92,100.00 C 324.92,130.61 282.12,164.24 250.00,164.24 C 219.39,164.24 171.53,139.24 171.53,100.00 C 171.53,69.39 211.07,22.14 250.00,22.14 C 288.93,22.14 322.18,63.91 322.18,100.00 C 322.18,138.93 272.08,144.17 250.00,144.17 C 211.07,144.17 184.40,132.80 184.40,100.00 C 184.40,61.07 226.29,52.59 250.00,52.59 C 273.71,52.59 305.86,72.07 305.86,100.00 C 305.86,123.71 278.33,156.66 250.00,156.66 C 226.29,156.66 198.83,125.59 198.83,100.00 C 198.83,76.29 222.25,44.49 250.00,44.49 C 277.75,44.49 296.96,76.52 296.96,100.00 C 296.96,127.75 273.94,147.87 250.00,147.87 C 222.25,147.87 207.53,121.24 207.53,100.00 C 207.53,72.25 222.13,44.26 250.00,44.26 C 277.87,44.26 325.60,62.20 325.60,100.00 C 325.60,127.87 288.09,176.19 250.00,176.19 C 222.13,176.19 178.23,135.89 178.23,100.00 C 178.23,72.13 212.19,24.37 250.00,24.37 C 287.81,24.37 297.95,76.03 297.95,100.00 C 297.95,137.81 288.82,177.63 250.00,177.63 C 212.19,177.63 172.00,139.00 172.00,100.00 C 172.00,62.19 217.74,35.47 250.00,35.47 C 282.26,35.47 306.76,71.62 306.76,100.00 C 306.76,132.26 288.98,177.95 250.00,177.95 C 217.74,177.95 192.07,128.96 192.07,100.00 C 192.07,67.74 225.51,51.03 250.00,51.03 C 274.49,51.03 298.08,75.96 298.08,100.00 C 298.08,124.49 280.60,161.20 250.00,161.20 C 225.51,161.20 172.63,138.68 172.63,100.00 C 172.63,75.51 218.02,36.05 250.00,36.05 C 281.98,36.05 313.38,68.31 313.38,100.00 C 313.38,131.98 275.81,151.63 250.00,151.63 C 218.02,151.63 175.32,137.34 175.32,100.00 C 175.32,68.02 218.09,36.19 250.00,36.19 C 281.91,36.19 309.80,70.10 309.80,100.00 C 309.80,131.91 284.71,169.41 250.00,169.41 C 218.09,169.41 202.87,123.56 202.87,100.00 C 202.87,68.09 215.78,31.56 250.00,31.56 C 284.22,31.56 293.52,78.24 293.52,100.00 C 293.52,134.22 289.97,179.94 250.00,179.94 C 215.78,179.94 195.25,127.37 195.25,100.00 C 195.25,65.78 212.59,25.18 250.00,25.18 C 287.41,25.18 292.83,78.59 292.83,100.00 C 292.83,137.41 283.08,166.16 250.00,166.16 C 212.59,166.16 209.48,120.26 209.48,100.00 C 209.48,62.59 218.85,37.70 250.00,37.70 C 281.15,37.70 315.74,67.13 315.74,100.00 C 315.74,131.15 286.94,173.87 250.00,173.87 C 218.85,173.87 196.60,126.70 196.60,100.00 C 196.60,68.85 225.57,51.13 250.00,51.13 C 274.43,51.13 329.31,60.34 329.31,100.00 C 329.31,124.43 284.81,169.62 250.00,169.62 C 225.57,169.62 187.59,131.20 187.59,100.00 C 187.59,75.57 221.44,42.88 250.00,42.88 C 278.56,42.88 327.41,61.30 327.41,100.00 C 327.41,128.56 282.71,165.43 250.00,165.43 C 221.44,165.43 201.33,124.33 201.33,100.00 C 201.33,71.44 218.32,36.64 250.00,36.64 \" fill=\"none\" stroke=\"rgb(255,0,55)\" stroke-dasharray=\"2, 75\" stroke-width=\"0.1\" style=\"mix-blend-mode: screen;\">\n",
       "      <animate attributeName=\"stroke-dashoffset\" begin=\"-1.00s\" dur=\"20s\" repeatCount=\"indefinite\" values=\"0;-77\"/>\n",
       "    </path>\n",
       "    <path d=\"M 250.00,42.91 C 278.55,42.91 312.37,68.81 312.37,100.00 C 312.37,128.55 276.31,152.63 250.00,152.63 C 221.45,152.63 185.58,132.21 185.58,100.00 C 185.58,71.45 217.72,35.43 250.00,35.43 C 282.28,35.43 302.95,73.53 302.95,100.00 C 302.95,132.28 285.96,171.92 250.00,171.92 C 217.72,171.92 187.19,131.40 187.19,100.00 C 187.19,67.72 218.04,36.09 250.00,36.09 C 281.96,36.09 295.00,77.50 295.00,100.00 C 295.00,131.96 273.43,146.86 250.00,146.86 C 218.04,146.86 183.57,133.22 183.57,100.00 C 183.57,68.04 221.22,42.44 250.00,42.44 C 278.78,42.44 322.18,63.91 322.18,100.00 C 322.18,128.78 289.50,178.99 250.00,178.99 C 221.22,178.99 208.97,120.51 208.97,100.00 C 208.97,71.22 224.49,48.99 250.00,48.99 C 275.51,48.99 320.73,64.64 320.73,100.00 C 320.73,125.51 285.20,170.41 250.00,170.41 C 224.49,170.41 186.06,131.97 186.06,100.00 C 186.06,74.49 227.80,55.60 250.00,55.60 C 272.20,55.60 298.84,75.58 298.84,100.00 C 298.84,122.20 273.50,146.99 250.00,146.99 C 227.80,146.99 181.33,134.33 181.33,100.00 C 181.33,77.80 219.27,38.53 250.00,38.53 C 280.73,38.53 305.31,72.35 305.31,100.00 C 305.31,130.73 280.75,161.50 250.00,161.50 C 219.27,161.50 207.51,121.25 207.51,100.00 C 207.51,69.27 212.49,24.98 250.00,24.98 C 287.51,24.98 302.49,73.75 302.49,100.00 C 302.49,137.51 277.39,154.79 250.00,154.79 C 212.49,154.79 197.40,126.30 197.40,100.00 C 197.40,62.49 217.99,35.97 250.00,35.97 C 282.01,35.97 317.63,66.18 317.63,100.00 C 317.63,132.01 284.07,168.14 250.00,168.14 C 217.99,168.14 199.39,125.31 199.39,100.00 C 199.39,67.99 229.71,59.41 250.00,59.41 C 270.29,59.41 303.08,73.46 303.08,100.00 C 303.08,120.29 285.81,171.63 250.00,171.63 C 229.71,171.63 175.92,137.04 175.92,100.00 C 175.92,79.71 222.71,45.42 250.00,45.42 C 277.29,45.42 297.92,76.04 297.92,100.00 C 297.92,127.29 287.98,175.97 250.00,175.97 C 222.71,175.97 179.72,135.14 179.72,100.00 C 179.72,72.71 212.30,24.60 250.00,24.60 C 287.70,24.60 316.74,66.63 316.74,100.00 C 316.74,137.70 285.92,171.85 250.00,171.85 C 212.30,171.85 206.66,121.67 206.66,100.00 C 206.66,62.30 219.28,38.55 250.00,38.55 C 280.72,38.55 290.63,79.68 290.63,100.00 C 290.63,130.72 280.92,161.84 250.00,161.84 C 219.28,161.84 184.29,132.85 184.29,100.00 C 184.29,69.28 210.57,21.14 250.00,21.14 C 289.43,21.14 298.45,75.77 298.45,100.00 C 298.45,139.43 280.93,161.86 250.00,161.86 C 210.57,161.86 188.93,130.54 188.93,100.00 C 188.93,60.57 213.55,27.11 250.00,27.11 C 286.45,27.11 310.61,69.69 310.61,100.00 C 310.61,136.45 272.18,144.35 250.00,144.35 C 213.55,144.35 175.13,137.43 175.13,100.00 C 175.13,63.55 213.03,26.06 250.00,26.06 C 286.97,26.06 291.96,79.02 291.96,100.00 C 291.96,136.97 274.70,149.39 250.00,149.39 C 213.03,149.39 171.89,139.06 171.89,100.00 C 171.89,63.03 229.84,59.67 250.00,59.67 C 270.16,59.67 305.28,72.36 305.28,100.00 C 305.28,120.16 275.98,151.95 250.00,151.95 C 229.84,151.95 190.43,129.78 190.43,100.00 C 190.43,79.84 212.09,24.19 250.00,24.19 C 287.91,24.19 298.30,75.85 298.30,100.00 C 298.30,137.91 278.44,156.88 250.00,156.88 C 212.09,156.88 205.87,122.06 205.87,100.00 C 205.87,62.09 229.43,58.86 250.00,58.86 C 270.57,58.86 313.09,68.45 313.09,100.00 C 313.09,120.57 283.54,167.08 250.00,167.08 C 229.43,167.08 183.24,133.38 183.24,100.00 C 183.24,79.43 213.30,26.60 250.00,26.60 C 286.70,26.60 304.49,72.76 304.49,100.00 C 304.49,136.70 286.20,172.39 250.00,172.39 C 213.30,172.39 176.45,136.77 176.45,100.00 C 176.45,63.30 211.10,22.20 250.00,22.20 C 288.90,22.20 322.38,63.81 322.38,100.00 C 322.38,138.90 271.34,142.68 250.00,142.68 C 211.10,142.68 189.19,130.41 189.19,100.00 C 189.19,61.10 227.48,54.96 250.00,54.96 C 272.52,54.96 303.49,73.25 303.49,100.00 C 303.49,122.52 272.56,145.13 250.00,145.13 C 227.48,145.13 202.67,123.66 202.67,100.00 C 202.67,77.48 215.33,30.66 250.00,30.66 C 284.67,30.66 320.99,64.50 320.99,100.00 C 320.99,134.67 281.06,162.12 250.00,162.12 C 215.33,162.12 200.16,124.92 200.16,100.00 C 200.16,65.33 220.34,40.67 250.00,40.67 C 279.66,40.67 316.48,66.76 316.48,100.00 C 316.48,129.66 287.78,175.55 250.00,175.55 C 220.34,175.55 190.59,129.70 190.59,100.00 C 190.59,70.34 223.64,47.28 250.00,47.28 C 276.36,47.28 300.83,74.59 300.83,100.00 C 300.83,126.36 282.30,164.60 250.00,164.60 C 223.64,164.60 196.95,126.53 196.95,100.00 C 196.95,73.64 212.19,24.38 250.00,24.38 C 287.81,24.38 319.94,65.03 319.94,100.00 C 319.94,137.81 278.92,157.85 250.00,157.85 C 212.19,157.85 208.81,120.59 208.81,100.00 C 208.81,62.19 212.71,25.42 250.00,25.42 C 287.29,25.42 323.74,63.13 323.74,100.00 C 323.74,137.29 281.82,163.65 250.00,163.65 C 212.71,163.65 198.73,125.64 198.73,100.00 C 198.73,62.71 214.46,28.92 250.00,28.92 C 285.54,28.92 329.78,60.11 329.78,100.00 C 329.78,135.54 279.14,158.28 250.00,158.28 C 214.46,158.28 178.70,135.65 178.70,100.00 C 178.70,64.46 223.43,46.87 250.00,46.87 C 276.57,46.87 328.30,60.85 328.30,100.00 C 328.30,126.57 277.11,154.22 250.00,154.22 C 223.43,154.22 199.03,125.49 199.03,100.00 C 199.03,73.43 215.10,30.21 250.00,30.21 C 284.90,30.21 326.57,61.71 326.57,100.00 C 326.57,134.90 271.07,142.15 250.00,142.15 C 215.10,142.15 209.97,120.01 209.97,100.00 C 209.97,65.10 218.23,36.47 250.00,36.47 C 281.77,36.47 329.56,60.22 329.56,100.00 C 329.56,131.77 281.93,163.86 250.00,163.86 C 218.23,163.86 209.85,120.07 209.85,100.00 C 209.85,68.23 219.55,39.11 250.00,39.11 C 280.45,39.11 326.58,61.71 326.58,100.00 C 326.58,130.45 286.73,173.46 250.00,173.46 C 219.55,173.46 187.06,131.47 187.06,100.00 C 187.06,69.55 218.40,36.80 250.00,36.80 C 281.60,36.80 316.54,66.73 316.54,100.00 C 316.54,131.60 285.36,170.73 250.00,170.73 C 218.40,170.73 188.54,130.73 188.54,100.00 C 188.54,68.40 215.88,31.75 250.00,31.75 C 284.12,31.75 309.65,70.18 309.65,100.00 C 309.65,134.12 288.94,177.88 250.00,177.88 C 215.88,177.88 190.30,129.85 190.30,100.00 C 190.30,65.88 213.63,27.26 250.00,27.26 C 286.37,27.26 297.78,76.11 297.78,100.00 C 297.78,136.37 280.29,160.59 250.00,160.59 C 213.63,160.59 172.18,138.91 172.18,100.00 C 172.18,63.63 226.28,52.56 250.00,52.56 C 273.72,52.56 315.63,67.19 315.63,100.00 C 315.63,123.72 286.12,172.24 250.00,172.24 C 226.28,172.24 181.52,134.24 181.52,100.00 C 181.52,76.28 227.75,55.49 250.00,55.49 C 272.25,55.49 292.15,78.92 292.15,100.00 C 292.15,122.25 286.90,173.80 250.00,173.80 C 227.75,173.80 173.57,138.22 173.57,100.00 C 173.57,77.75 218.72,37.44 250.00,37.44 C 281.28,37.44 292.92,78.54 292.92,100.00 C 292.92,131.28 287.78,175.56 250.00,175.56 C 218.72,175.56 184.90,132.55 184.90,100.00 C 184.90,68.72 214.77,29.53 250.00,29.53 C 285.23,29.53 293.44,78.28 293.44,100.00 C 293.44,135.23 270.29,140.57 250.00,140.57 C 214.77,140.57 189.28,130.36 189.28,100.00 C 189.28,64.77 229.73,59.45 250.00,59.45 C 270.27,59.45 304.78,72.61 304.78,100.00 C 304.78,120.27 285.95,171.90 250.00,171.90 C 229.73,171.90 183.58,133.21 183.58,100.00 C 183.58,79.73 223.62,47.24 250.00,47.24 C 276.38,47.24 321.50,64.25 321.50,100.00 C 321.50,126.38 278.06,156.11 250.00,156.11 C 223.62,156.11 206.60,121.70 206.60,100.00 C 206.60,73.62 210.78,21.56 250.00,21.56 C 289.22,21.56 326.32,61.84 326.32,100.00 C 326.32,139.22 279.47,158.94 250.00,158.94 C 210.78,158.94 186.19,131.90 186.19,100.00 C 186.19,60.78 217.34,34.69 250.00,34.69 C 282.66,34.69 322.46,63.77 322.46,100.00 C 322.46,132.66 281.63,163.25 250.00,163.25 C 217.34,163.25 188.52,130.74 188.52,100.00 C 188.52,67.34 225.60,51.20 250.00,51.20 C 274.40,51.20 297.07,76.47 297.07,100.00 C 297.07,124.40 288.17,176.33 250.00,176.33 C 225.60,176.33 189.21,130.39 189.21,100.00 C 189.21,75.60 218.04,36.09 250.00,36.09 C 281.96,36.09 322.30,63.85 322.30,100.00 C 322.30,131.96 287.61,175.22 250.00,175.22 C 218.04,175.22 209.95,120.02 209.95,100.00 C 209.95,68.04 228.41,56.82 250.00,56.82 C 271.59,56.82 317.08,66.46 317.08,100.00 C 317.08,121.59 274.11,148.22 250.00,148.22 C 228.41,148.22 202.74,123.63 202.74,100.00 C 202.74,78.41 216.46,32.92 250.00,32.92 C 283.54,32.92 322.09,63.95 322.09,100.00 C 322.09,133.54 274.14,148.27 250.00,148.27 C 216.46,148.27 172.78,138.61 172.78,100.00 C 172.78,66.46 220.64,41.28 250.00,41.28 C 279.36,41.28 321.99,64.01 321.99,100.00 C 321.99,129.36 282.54,165.07 250.00,165.07 C 220.64,165.07 185.69,132.16 185.69,100.00 C 185.69,70.64 222.10,44.21 250.00,44.21 C 277.90,44.21 302.36,73.82 302.36,100.00 C 302.36,127.90 281.27,162.54 250.00,162.54 C 222.10,162.54 180.52,134.74 180.52,100.00 C 180.52,72.10 227.73,55.45 250.00,55.45 C 272.27,55.45 295.25,77.38 295.25,100.00 C 295.25,122.27 286.80,173.60 250.00,173.60 C 227.73,173.60 188.99,130.51 188.99,100.00 C 188.99,77.73 221.93,43.87 250.00,43.87 \" fill=\"none\" stroke=\"rgb(55,255,0)\" stroke-dasharray=\"2, 75\" stroke-width=\"0.1\" style=\"mix-blend-mode: screen;\">\n",
       "      <animate attributeName=\"stroke-dashoffset\" begin=\"-2.00s\" dur=\"20s\" repeatCount=\"indefinite\" values=\"0;-77\"/>\n",
       "    </path>\n",
       "    <path d=\"M 250.00,40.52 C 279.74,40.52 313.49,68.25 313.49,100.00 C 313.49,129.74 280.34,160.68 250.00,160.68 C 220.26,160.68 186.46,131.77 186.46,100.00 C 186.46,70.26 228.18,56.36 250.00,56.36 C 271.82,56.36 290.89,79.55 290.89,100.00 C 290.89,121.82 273.75,147.50 250.00,147.50 C 228.18,147.50 171.28,139.36 171.28,100.00 C 171.28,78.18 215.28,30.56 250.00,30.56 C 284.72,30.56 304.97,72.51 304.97,100.00 C 304.97,134.72 286.72,173.43 250.00,173.43 C 215.28,173.43 206.40,121.80 206.40,100.00 C 206.40,65.28 215.31,30.63 250.00,30.63 C 284.69,30.63 319.84,65.08 319.84,100.00 C 319.84,134.69 280.15,160.29 250.00,160.29 C 215.31,160.29 198.32,125.84 198.32,100.00 C 198.32,65.31 216.45,32.91 250.00,32.91 C 283.55,32.91 301.09,74.46 301.09,100.00 C 301.09,133.55 275.98,151.97 250.00,151.97 C 216.45,151.97 176.21,136.89 176.21,100.00 C 176.21,66.45 216.97,33.95 250.00,33.95 C 283.03,33.95 305.04,72.48 305.04,100.00 C 305.04,133.03 271.28,142.57 250.00,142.57 C 216.97,142.57 193.07,128.47 193.07,100.00 C 193.07,66.97 229.40,58.80 250.00,58.80 C 270.60,58.80 328.48,60.76 328.48,100.00 C 328.48,120.60 285.55,171.10 250.00,171.10 C 229.40,171.10 200.29,124.86 200.29,100.00 C 200.29,79.40 216.56,33.11 250.00,33.11 C 283.44,33.11 303.65,73.18 303.65,100.00 C 303.65,133.44 286.10,172.19 250.00,172.19 C 216.56,172.19 207.66,121.17 207.66,100.00 C 207.66,66.56 227.86,55.73 250.00,55.73 C 272.14,55.73 295.62,77.19 295.62,100.00 C 295.62,122.14 278.79,157.59 250.00,157.59 C 227.86,157.59 188.27,130.87 188.27,100.00 C 188.27,77.86 217.58,35.15 250.00,35.15 C 282.42,35.15 310.08,69.96 310.08,100.00 C 310.08,132.42 287.69,175.37 250.00,175.37 C 217.58,175.37 198.77,125.61 198.77,100.00 C 198.77,67.58 223.29,46.59 250.00,46.59 C 276.71,46.59 308.16,70.92 308.16,100.00 C 308.16,126.71 277.33,154.67 250.00,154.67 C 223.29,154.67 177.00,136.50 177.00,100.00 C 177.00,73.29 215.94,31.87 250.00,31.87 C 284.06,31.87 295.10,77.45 295.10,100.00 C 295.10,134.06 271.04,142.09 250.00,142.09 C 215.94,142.09 178.78,135.61 178.78,100.00 C 178.78,65.94 225.65,51.29 250.00,51.29 C 274.35,51.29 310.27,69.87 310.27,100.00 C 310.27,124.35 273.14,146.27 250.00,146.27 C 225.65,146.27 204.01,123.00 204.01,100.00 C 204.01,75.65 211.24,22.47 250.00,22.47 C 288.76,22.47 303.72,73.14 303.72,100.00 C 303.72,138.76 289.82,179.64 250.00,179.64 C 211.24,179.64 208.10,120.95 208.10,100.00 C 208.10,61.24 215.60,31.20 250.00,31.20 C 284.40,31.20 318.69,65.66 318.69,100.00 C 318.69,134.40 280.81,161.61 250.00,161.61 C 215.60,161.61 178.46,135.77 178.46,100.00 C 178.46,65.60 222.50,44.99 250.00,44.99 C 277.50,44.99 300.39,74.80 300.39,100.00 C 300.39,127.50 278.45,156.90 250.00,156.90 C 222.50,156.90 203.29,123.35 203.29,100.00 C 203.29,72.50 220.95,41.91 250.00,41.91 C 279.05,41.91 293.49,78.26 293.49,100.00 C 293.49,129.05 273.89,147.79 250.00,147.79 C 220.95,147.79 206.35,121.82 206.35,100.00 C 206.35,70.95 215.41,30.82 250.00,30.82 C 284.59,30.82 319.30,65.35 319.30,100.00 C 319.30,134.59 279.99,159.98 250.00,159.98 C 215.41,159.98 207.78,121.11 207.78,100.00 C 207.78,65.41 227.08,54.16 250.00,54.16 C 272.92,54.16 327.26,61.37 327.26,100.00 C 327.26,122.92 277.85,155.71 250.00,155.71 C 227.08,155.71 193.77,128.12 193.77,100.00 C 193.77,77.08 229.82,59.64 250.00,59.64 C 270.18,59.64 290.37,79.82 290.37,100.00 C 290.37,120.18 284.82,169.65 250.00,169.65 C 229.82,169.65 179.30,135.35 179.30,100.00 C 179.30,79.82 219.08,38.17 250.00,38.17 C 280.92,38.17 303.42,73.29 303.42,100.00 C 303.42,130.92 270.70,141.40 250.00,141.40 C 219.08,141.40 194.18,127.91 194.18,100.00 C 194.18,69.08 215.30,30.60 250.00,30.60 C 284.70,30.60 310.64,69.68 310.64,100.00 C 310.64,134.70 274.97,149.95 250.00,149.95 C 215.30,149.95 202.70,123.65 202.70,100.00 C 202.70,65.30 221.39,42.79 250.00,42.79 C 278.61,42.79 296.85,76.57 296.85,100.00 C 296.85,128.61 279.63,159.27 250.00,159.27 C 221.39,159.27 191.63,129.19 191.63,100.00 C 191.63,71.39 226.77,53.54 250.00,53.54 C 273.23,53.54 329.58,60.21 329.58,100.00 C 329.58,123.23 276.48,152.96 250.00,152.96 C 226.77,152.96 175.68,137.16 175.68,100.00 C 175.68,76.77 211.86,23.72 250.00,23.72 C 288.14,23.72 293.14,78.43 293.14,100.00 C 293.14,138.14 287.90,175.80 250.00,175.80 C 211.86,175.80 203.25,123.37 203.25,100.00 C 203.25,61.86 210.76,21.51 250.00,21.51 C 289.24,21.51 317.97,66.01 317.97,100.00 C 317.97,139.24 278.03,156.05 250.00,156.05 C 210.76,156.05 199.90,125.05 199.90,100.00 C 199.90,60.76 211.30,22.60 250.00,22.60 C 288.70,22.60 305.91,72.04 305.91,100.00 C 305.91,138.70 284.27,168.54 250.00,168.54 C 211.30,168.54 201.11,124.44 201.11,100.00 C 201.11,61.30 225.31,50.63 250.00,50.63 C 274.69,50.63 316.48,66.76 316.48,100.00 C 316.48,124.69 274.30,148.59 250.00,148.59 C 225.31,148.59 178.51,135.75 178.51,100.00 C 178.51,75.31 211.57,23.14 250.00,23.14 C 288.43,23.14 319.17,65.42 319.17,100.00 C 319.17,138.43 286.73,173.47 250.00,173.47 C 211.57,173.47 202.79,123.61 202.79,100.00 C 202.79,61.57 218.63,37.26 250.00,37.26 C 281.37,37.26 329.10,60.45 329.10,100.00 C 329.10,131.37 274.52,149.05 250.00,149.05 C 218.63,149.05 177.15,136.43 177.15,100.00 C 177.15,68.63 224.45,48.91 250.00,48.91 C 275.55,48.91 319.05,65.47 319.05,100.00 C 319.05,125.55 275.76,151.51 250.00,151.51 C 224.45,151.51 188.90,130.55 188.90,100.00 C 188.90,74.45 221.07,42.14 250.00,42.14 C 278.93,42.14 328.07,60.97 328.07,100.00 C 328.07,128.93 270.64,141.28 250.00,141.28 C 221.07,141.28 182.95,133.52 182.95,100.00 C 182.95,71.07 217.72,35.44 250.00,35.44 C 282.28,35.44 318.42,65.79 318.42,100.00 C 318.42,132.28 274.55,149.10 250.00,149.10 C 217.72,149.10 173.48,138.26 173.48,100.00 C 173.48,67.72 227.09,54.18 250.00,54.18 C 272.91,54.18 302.46,73.77 302.46,100.00 C 302.46,122.91 270.92,141.84 250.00,141.84 C 227.09,141.84 170.71,139.65 170.71,100.00 C 170.71,77.09 225.40,50.81 250.00,50.81 C 274.60,50.81 315.80,67.10 315.80,100.00 C 315.80,124.60 281.26,162.51 250.00,162.51 C 225.40,162.51 209.98,120.01 209.98,100.00 C 209.98,75.40 217.50,35.01 250.00,35.01 C 282.50,35.01 307.63,71.18 307.63,100.00 C 307.63,132.50 288.01,176.01 250.00,176.01 C 217.50,176.01 208.87,120.56 208.87,100.00 C 208.87,67.50 211.18,22.35 250.00,22.35 C 288.82,22.35 290.21,79.89 290.21,100.00 C 290.21,138.82 289.76,179.52 250.00,179.52 C 211.18,179.52 208.65,120.68 208.65,100.00 C 208.65,61.18 210.27,20.53 250.00,20.53 C 289.73,20.53 326.63,61.68 326.63,100.00 C 326.63,139.73 279.98,159.96 250.00,159.96 C 210.27,159.96 195.89,127.06 195.89,100.00 C 195.89,60.27 212.79,25.58 250.00,25.58 C 287.21,25.58 324.44,62.78 324.44,100.00 C 324.44,137.21 284.59,169.19 250.00,169.19 C 212.79,169.19 177.30,136.35 177.30,100.00 C 177.30,62.79 210.45,20.89 250.00,20.89 C 289.55,20.89 310.92,69.54 310.92,100.00 C 310.92,139.55 286.14,172.27 250.00,172.27 C 210.45,172.27 200.29,124.86 200.29,100.00 C 200.29,60.45 222.68,45.35 250.00,45.35 C 277.32,45.35 299.95,75.03 299.95,100.00 C 299.95,127.32 275.16,150.33 250.00,150.33 C 222.68,150.33 184.38,132.81 184.38,100.00 C 184.38,72.68 224.08,48.16 250.00,48.16 C 275.92,48.16 311.62,69.19 311.62,100.00 C 311.62,125.92 285.26,170.51 250.00,170.51 C 224.08,170.51 183.62,133.19 183.62,100.00 C 183.62,74.08 215.82,31.65 250.00,31.65 C 284.18,31.65 290.66,79.67 290.66,100.00 C 290.66,134.18 271.95,143.89 250.00,143.89 C 215.82,143.89 189.28,130.36 189.28,100.00 C 189.28,65.82 220.51,41.01 250.00,41.01 C 279.49,41.01 311.11,69.45 311.11,100.00 C 311.11,129.49 284.93,169.86 250.00,169.86 C 220.51,169.86 188.42,130.79 188.42,100.00 C 188.42,70.51 222.91,45.83 250.00,45.83 C 277.09,45.83 306.88,71.56 306.88,100.00 C 306.88,127.09 274.89,149.78 250.00,149.78 C 222.91,149.78 191.76,129.12 191.76,100.00 C 191.76,72.91 219.06,38.12 250.00,38.12 C 280.94,38.12 326.27,61.87 326.27,100.00 C 326.27,130.94 274.71,149.42 250.00,149.42 C 219.06,149.42 209.36,120.32 209.36,100.00 C 209.36,69.06 223.65,47.30 250.00,47.30 C 276.35,47.30 327.74,61.13 327.74,100.00 C 327.74,126.35 280.25,160.49 250.00,160.49 C 223.65,160.49 205.56,122.22 205.56,100.00 C 205.56,73.65 214.02,28.04 250.00,28.04 C 285.98,28.04 294.98,77.51 294.98,100.00 C 294.98,135.98 285.47,170.93 250.00,170.93 C 214.02,170.93 176.89,136.55 176.89,100.00 C 176.89,64.02 228.44,56.88 250.00,56.88 C 271.56,56.88 325.43,62.28 325.43,100.00 C 325.43,121.56 276.65,153.29 250.00,153.29 C 228.44,153.29 184.78,132.61 184.78,100.00 C 184.78,78.44 211.10,22.20 250.00,22.20 C 288.90,22.20 308.62,70.69 308.62,100.00 C 308.62,138.90 271.13,142.26 250.00,142.26 C 211.10,142.26 173.90,138.05 173.90,100.00 C 173.90,61.10 228.04,56.08 250.00,56.08 \" fill=\"none\" stroke=\"rgb(0,55,255)\" stroke-dasharray=\"2, 75\" stroke-width=\"0.1\" style=\"mix-blend-mode: screen;\">\n",
       "      <animate attributeName=\"stroke-dashoffset\" begin=\"-3.00s\" dur=\"20s\" repeatCount=\"indefinite\" values=\"0;-77\"/>\n",
       "    </path>\n",
       "  </g>\n",
       "\n",
       "  <!-- ! Falling stars 02 -->\n",
       "  <g id=\"falling-stars02\" opacity=\"0.5\">\n",
       "    <line stroke=\"white\" stroke-dasharray=\"396.37,1981.85\" stroke-opacity=\"0.33\" stroke-width=\"1\" x1=\"198.93\" x2=\"198.93\" y1=\"21.43\" y2=\"417.80\">\n",
       "      <animate attributeName=\"stroke-dashoffset\" begin=\"-3.91s\" dur=\"3.39s\" repeatCount=\"indefinite\" values=\"0;-2378.22\"/>\n",
       "    </line>\n",
       "    <line stroke=\"white\" stroke-dasharray=\"384.91,1154.74\" stroke-opacity=\"0.26\" stroke-width=\"1\" x1=\"6.38\" x2=\"6.38\" y1=\"71.77\" y2=\"456.68\">\n",
       "      <animate attributeName=\"stroke-dashoffset\" begin=\"-3.44s\" dur=\"3.04s\" repeatCount=\"indefinite\" values=\"0;-1539.65\"/>\n",
       "    </line>\n",
       "    <line stroke=\"white\" stroke-dasharray=\"308.74,1852.43\" stroke-opacity=\"0.51\" stroke-width=\"1\" x1=\"59.94\" x2=\"59.94\" y1=\"105.96\" y2=\"414.69\">\n",
       "      <animate attributeName=\"stroke-dashoffset\" begin=\"-3.65s\" dur=\"2.45s\" repeatCount=\"indefinite\" values=\"0;-2161.16\"/>\n",
       "    </line>\n",
       "    <line stroke=\"white\" stroke-dasharray=\"301.17,1204.68\" stroke-opacity=\"0.32\" stroke-width=\"1\" x1=\"269.40\" x2=\"269.40\" y1=\"72.01\" y2=\"373.18\">\n",
       "      <animate attributeName=\"stroke-dashoffset\" begin=\"-1.92s\" dur=\"3.78s\" repeatCount=\"indefinite\" values=\"0;-1505.85\"/>\n",
       "    </line>\n",
       "  </g>\n",
       "\n",
       "<text fill=\"yellow\" opacity=\"0.25\" x=\"230\" y=\"470\">under construction</text>\n",
       "</svg>"
      ],
      "text/plain": [
       "<IPython.core.display.SVG object>"
      ]
     },
     "metadata": {},
     "output_type": "display_data"
    }
   ],
   "source": [
    "display_svg(SVG)"
   ]
  },
  {
   "cell_type": "code",
   "execution_count": 19,
   "metadata": {},
   "outputs": [],
   "source": [
    "# print(SVG)"
   ]
  },
  {
   "cell_type": "markdown",
   "metadata": {},
   "source": [
    "## Export SVG\n",
    "---"
   ]
  },
  {
   "cell_type": "code",
   "execution_count": 20,
   "metadata": {},
   "outputs": [],
   "source": [
    "# export_svg(SVG, 'image')"
   ]
  }
 ],
 "metadata": {
  "kernelspec": {
   "display_name": "Python 3",
   "language": "python",
   "name": "python3"
  },
  "language_info": {
   "codemirror_mode": {
    "name": "ipython",
    "version": 3
   },
   "file_extension": ".py",
   "mimetype": "text/x-python",
   "name": "python",
   "nbconvert_exporter": "python",
   "pygments_lexer": "ipython3",
   "version": "3.7.7"
  }
 },
 "nbformat": 4,
 "nbformat_minor": 4
}
