{
 "cells": [
  {
   "cell_type": "code",
   "execution_count": 1,
   "metadata": {},
   "outputs": [],
   "source": [
    "%matplotlib inline\n",
    "import matplotlib.pyplot as plt\n",
    "import numpy as np"
   ]
  },
  {
   "cell_type": "markdown",
   "metadata": {},
   "source": [
    "## Useful functions\n",
    "---"
   ]
  },
  {
   "cell_type": "code",
   "execution_count": 2,
   "metadata": {},
   "outputs": [],
   "source": [
    "def display_svg(data):\n",
    "    from IPython.display import SVG, display\n",
    "    display(SVG(data))"
   ]
  },
  {
   "cell_type": "code",
   "execution_count": 3,
   "metadata": {},
   "outputs": [],
   "source": [
    "def export_svg(data, filename):\n",
    "    f = open(f'{filename}.svg', \"w\")\n",
    "    f.write(data)\n",
    "    f.close()"
   ]
  },
  {
   "cell_type": "markdown",
   "metadata": {},
   "source": [
    "# Build SVG\n",
    "---"
   ]
  },
  {
   "cell_type": "code",
   "execution_count": 4,
   "metadata": {},
   "outputs": [],
   "source": [
    "WIDTH = 360\n",
    "HEIGHT = 480"
   ]
  },
  {
   "cell_type": "code",
   "execution_count": 5,
   "metadata": {},
   "outputs": [],
   "source": [
    "SVG = '<?xml version=\"1.0\" encoding=\"utf-8\"?>\\n'\n",
    "SVG += '<!DOCTYPE svg PUBLIC \"-//W3C//DTD SVG 1.1//EN\" \"http://www.w3.org/Graphics/SVG/1.1/DTD/svg11.dtd\">\\n'"
   ]
  },
  {
   "cell_type": "code",
   "execution_count": 6,
   "metadata": {},
   "outputs": [],
   "source": [
    "SVG += f'<svg id=\"image\" width=\"{WIDTH}px\" height=\"{HEIGHT}px\" xmlns=\"http://www.w3.org/2000/svg\" xmlns:xlink=\"http://www.w3.org/1999/xlink\">'"
   ]
  },
  {
   "cell_type": "code",
   "execution_count": 7,
   "metadata": {},
   "outputs": [],
   "source": [
    "# define loading text\n",
    "text = [(e, e) for e in \"Loading\"]\n",
    "text += [(\".\", \"d1\"), (\".\", \"d2\"), (\".\", \"d3\")]"
   ]
  },
  {
   "cell_type": "markdown",
   "metadata": {},
   "source": [
    "## Style\n",
    "---"
   ]
  },
  {
   "cell_type": "code",
   "execution_count": 8,
   "metadata": {},
   "outputs": [],
   "source": [
    "SVG += '''\n",
    "\n",
    "  <style type=\"text/css\">\n",
    "    svg {\n",
    "      background-color: hsl(150, 50%, 50%);\n",
    "    }\n",
    "    \n",
    "    circle.load {\n",
    "      fill: none;\n",
    "      stroke: black;\n",
    "      stroke-linecap: round;\n",
    "    }\n",
    "    \n",
    "    text {\n",
    "      text-anchor: start;\n",
    "      font-size: 18px;\n",
    "      font-weight: 800;\n",
    "      font-family: monospace;\n",
    "    }\n",
    "    \n",
    "    .loading {\n",
    "      animation: wiggle 2s infinite;\n",
    "    }\n",
    "    \n",
    "    @keyframes wiggle {\n",
    "      0%, 50%, 100% {\n",
    "        transform: translate(0, 0);\n",
    "      }\n",
    "\n",
    "      20% {\n",
    "        transform: translate(0, -5px);\n",
    "      }\n",
    "      \n",
    "      35% {\n",
    "        transform: translate(0, 3px);\n",
    "      }\n",
    "      \n",
    "      45% {\n",
    "        transform: translate(0, -2px);\n",
    "      }\n",
    "    }\n",
    "'''\n",
    "dur = 0.0\n",
    "for (e, _id) in text:\n",
    "    SVG += f'\\n    #{_id} {{animation-delay: {dur:.02f}s;}}'\n",
    "    dur += 0.1\n",
    "\n",
    "SVG += '\\n\\n  </style>'"
   ]
  },
  {
   "cell_type": "markdown",
   "metadata": {},
   "source": [
    "## References definition\n",
    "---"
   ]
  },
  {
   "cell_type": "code",
   "execution_count": 9,
   "metadata": {},
   "outputs": [],
   "source": [
    "SVG += '''\n",
    "  <defs>\n",
    "    <!-- ! Gradients -->\n",
    "    <!-- ! Filters -->\n",
    "    <!-- ! Symbols -->\n",
    "    <!-- ! Patterns -->\n",
    "  </defs>\n",
    "\n",
    "'''"
   ]
  },
  {
   "cell_type": "markdown",
   "metadata": {},
   "source": [
    "## Circles\n",
    "---"
   ]
  },
  {
   "cell_type": "code",
   "execution_count": 10,
   "metadata": {},
   "outputs": [
    {
     "data": {
      "image/png": "[encoded data removed]",
      "text/plain": [
       "<Figure size 518.4x691.2 with 1 Axes>"
      ]
     },
     "metadata": {
      "needs_background": "light"
     },
     "output_type": "display_data"
    }
   ],
   "source": [
    "fig, ax = plt.subplots(1, 1, figsize=(36/5, 48/5))\n",
    "\n",
    "x = WIDTH//2\n",
    "y = HEIGHT//2\n",
    "R = np.linspace(8, 48, 6)\n",
    "\n",
    "for r in R:\n",
    "    circle = plt.Circle((x, y), r, fill=False)\n",
    "    ax.add_patch(circle)\n",
    "\n",
    "ax.set_xlim([0, WIDTH])\n",
    "ax.set_ylim([0, HEIGHT])\n",
    "\n",
    "plt.show()"
   ]
  },
  {
   "cell_type": "code",
   "execution_count": 11,
   "metadata": {},
   "outputs": [],
   "source": [
    "SVG += '  <!-- ! Circles -->\\n'\n",
    "SVG += '  <g id=\"circles\">\\n'\n",
    "\n",
    "np.random.seed(sum([ord(e) for e in list('Circles')]))\n",
    "\n",
    "for i, r in enumerate(R):\n",
    "    # define perimeter\n",
    "    p = 2*np.pi*r\n",
    "\n",
    "    # define period\n",
    "    l = 1 + np.random.randint(i + 1)\n",
    "\n",
    "    # define stroke parameters\n",
    "    w = f'{2 + np.random.random()*6:.02f}'\n",
    "\n",
    "    d = np.random.random()*0.25 + 0.5\n",
    "    sdo = d*p/(2*l) - float(w)/2\n",
    "    sdi = (1 - d)*p/(2*l) + float(w)/2\n",
    "    sd = f'{sdo:.02f},{sdi:.02f}'\n",
    "    \n",
    "    # define animation parameters\n",
    "    value = f'{(sdo + sdi)*np.random.choice([-1, 1]):.02f}'\n",
    "    dur = f'{(1 + np.random.random()*2)*(r + 16)/R.max():.02f}'\n",
    "    begin = f'{np.random.random()*float(dur):.02f}'\n",
    "\n",
    "    SVG += f'    <circle class=\"load\" cx=\"{x}\" cy=\"{y}\" r=\"{r:.02f}\" stroke-width=\"{w}\" stroke-dasharray=\"{sd}\">\\n'\n",
    "    SVG += f'      <animate attributeName=\"stroke-dashoffset\" repeatCount=\"indefinite\" '\n",
    "    SVG += f'values=\"0;{value}\" dur=\"{dur}s\" begin=\"-{begin}s\" />\\n'\n",
    "    SVG += f'    </circle>\\n'\n",
    "\n",
    "SVG += '  </g>\\n\\n'"
   ]
  },
  {
   "cell_type": "markdown",
   "metadata": {},
   "source": [
    "## Loading text\n",
    "---"
   ]
  },
  {
   "cell_type": "code",
   "execution_count": 12,
   "metadata": {},
   "outputs": [],
   "source": [
    "SVG += '  <!-- ! Loading ... -->\\n'\n",
    "SVG += '  <g id=\"text\" transform=\"translate(145,320)\">\\n'\n",
    "\n",
    "y = 16\n",
    "x = 0\n",
    "for (e, _id) in text:\n",
    "    SVG += f'    <text x=\"{x}\" y=\"{y}\" id=\"{_id}\" class=\"loading\">{e}</text>\\n'\n",
    "    x += 10\n",
    "\n",
    "SVG += '  </g>\\n\\n'"
   ]
  },
  {
   "cell_type": "markdown",
   "metadata": {},
   "source": [
    "## Display SVG\n",
    "---"
   ]
  },
  {
   "cell_type": "code",
   "execution_count": 13,
   "metadata": {},
   "outputs": [],
   "source": [
    "SVG += '</svg>\\n'"
   ]
  },
  {
   "cell_type": "code",
   "execution_count": 14,
   "metadata": {},
   "outputs": [
    {
     "data": {
      "image/svg+xml": [
       "<svg height=\"480px\" id=\"image\" width=\"360px\" xmlns=\"http://www.w3.org/2000/svg\" xmlns:xlink=\"http://www.w3.org/1999/xlink\">\n",
       "\n",
       "  <style type=\"text/css\">\n",
       "    svg {\n",
       "      background-color: hsl(150, 50%, 50%);\n",
       "    }\n",
       "    \n",
       "    circle.load {\n",
       "      fill: none;\n",
       "      stroke: black;\n",
       "      stroke-linecap: round;\n",
       "    }\n",
       "    \n",
       "    text {\n",
       "      text-anchor: start;\n",
       "      font-size: 18px;\n",
       "      font-weight: 800;\n",
       "      font-family: monospace;\n",
       "    }\n",
       "    \n",
       "    .loading {\n",
       "      animation: wiggle 2s infinite;\n",
       "    }\n",
       "    \n",
       "    @keyframes wiggle {\n",
       "      0%, 50%, 100% {\n",
       "        transform: translate(0, 0);\n",
       "      }\n",
       "\n",
       "      20% {\n",
       "        transform: translate(0, -5px);\n",
       "      }\n",
       "      \n",
       "      35% {\n",
       "        transform: translate(0, 3px);\n",
       "      }\n",
       "      \n",
       "      45% {\n",
       "        transform: translate(0, -2px);\n",
       "      }\n",
       "    }\n",
       "\n",
       "    #L {animation-delay: 0.00s;}\n",
       "    #o {animation-delay: 0.10s;}\n",
       "    #a {animation-delay: 0.20s;}\n",
       "    #d {animation-delay: 0.30s;}\n",
       "    #i {animation-delay: 0.40s;}\n",
       "    #n {animation-delay: 0.50s;}\n",
       "    #g {animation-delay: 0.60s;}\n",
       "    #d1 {animation-delay: 0.70s;}\n",
       "    #d2 {animation-delay: 0.80s;}\n",
       "    #d3 {animation-delay: 0.90s;}\n",
       "\n",
       "  </style>\n",
       "  <defs>\n",
       "    <!-- ! Gradients -->\n",
       "    <!-- ! Filters -->\n",
       "    <!-- ! Symbols -->\n",
       "    <!-- ! Patterns -->\n",
       "  </defs>\n",
       "\n",
       "  <!-- ! Circles -->\n",
       "  <g id=\"circles\">\n",
       "    <circle class=\"load\" cx=\"180\" cy=\"240\" r=\"8.00\" stroke-dasharray=\"12.72,12.41\" stroke-width=\"6.49\">\n",
       "      <animate attributeName=\"stroke-dashoffset\" begin=\"-0.15s\" dur=\"0.73s\" repeatCount=\"indefinite\" values=\"0;-25.13\"/>\n",
       "    </circle>\n",
       "    <circle class=\"load\" cx=\"180\" cy=\"240\" r=\"16.00\" stroke-dasharray=\"13.00,12.14\" stroke-width=\"4.61\">\n",
       "      <animate attributeName=\"stroke-dashoffset\" begin=\"-0.45s\" dur=\"1.41s\" repeatCount=\"indefinite\" values=\"0;25.13\"/>\n",
       "    </circle>\n",
       "    <circle class=\"load\" cx=\"180\" cy=\"240\" r=\"24.00\" stroke-dasharray=\"13.92,11.21\" stroke-width=\"7.32\">\n",
       "      <animate attributeName=\"stroke-dashoffset\" begin=\"-0.51s\" dur=\"1.63s\" repeatCount=\"indefinite\" values=\"0;25.13\"/>\n",
       "    </circle>\n",
       "    <circle class=\"load\" cx=\"180\" cy=\"240\" r=\"32.00\" stroke-dasharray=\"32.39,17.88\" stroke-width=\"4.03\">\n",
       "      <animate attributeName=\"stroke-dashoffset\" begin=\"-1.07s\" dur=\"1.33s\" repeatCount=\"indefinite\" values=\"0;-50.27\"/>\n",
       "    </circle>\n",
       "    <circle class=\"load\" cx=\"180\" cy=\"240\" r=\"40.00\" stroke-dasharray=\"11.50,13.64\" stroke-width=\"4.14\">\n",
       "      <animate attributeName=\"stroke-dashoffset\" begin=\"-2.97s\" dur=\"3.38s\" repeatCount=\"indefinite\" values=\"0;25.13\"/>\n",
       "    </circle>\n",
       "    <circle class=\"load\" cx=\"180\" cy=\"240\" r=\"48.00\" stroke-dasharray=\"17.50,12.65\" stroke-width=\"2.51\">\n",
       "      <animate attributeName=\"stroke-dashoffset\" begin=\"-1.26s\" dur=\"1.58s\" repeatCount=\"indefinite\" values=\"0;-30.16\"/>\n",
       "    </circle>\n",
       "  </g>\n",
       "\n",
       "  <!-- ! Loading ... -->\n",
       "  <g id=\"text\" transform=\"translate(145,320)\">\n",
       "    <text class=\"loading\" id=\"L\" x=\"0\" y=\"16\">L</text>\n",
       "    <text class=\"loading\" id=\"o\" x=\"10\" y=\"16\">o</text>\n",
       "    <text class=\"loading\" id=\"a\" x=\"20\" y=\"16\">a</text>\n",
       "    <text class=\"loading\" id=\"d\" x=\"30\" y=\"16\">d</text>\n",
       "    <text class=\"loading\" id=\"i\" x=\"40\" y=\"16\">i</text>\n",
       "    <text class=\"loading\" id=\"n\" x=\"50\" y=\"16\">n</text>\n",
       "    <text class=\"loading\" id=\"g\" x=\"60\" y=\"16\">g</text>\n",
       "    <text class=\"loading\" id=\"d1\" x=\"70\" y=\"16\">.</text>\n",
       "    <text class=\"loading\" id=\"d2\" x=\"80\" y=\"16\">.</text>\n",
       "    <text class=\"loading\" id=\"d3\" x=\"90\" y=\"16\">.</text>\n",
       "  </g>\n",
       "\n",
       "</svg>"
      ],
      "text/plain": [
       "<IPython.core.display.SVG object>"
      ]
     },
     "metadata": {},
     "output_type": "display_data"
    }
   ],
   "source": [
    "display_svg(SVG)"
   ]
  },
  {
   "cell_type": "code",
   "execution_count": 15,
   "metadata": {
    "scrolled": false
   },
   "outputs": [],
   "source": [
    "# print(SVG)"
   ]
  },
  {
   "cell_type": "markdown",
   "metadata": {},
   "source": [
    "## Export SVG\n",
    "---"
   ]
  },
  {
   "cell_type": "code",
   "execution_count": 16,
   "metadata": {},
   "outputs": [],
   "source": [
    "# export_svg(SVG, 'image')"
   ]
  }
 ],
 "metadata": {
  "kernelspec": {
   "display_name": "Python 3",
   "language": "python",
   "name": "python3"
  },
  "language_info": {
   "codemirror_mode": {
    "name": "ipython",
    "version": 3
   },
   "file_extension": ".py",
   "mimetype": "text/x-python",
   "name": "python",
   "nbconvert_exporter": "python",
   "pygments_lexer": "ipython3",
   "version": "3.7.7"
  }
 },
 "nbformat": 4,
 "nbformat_minor": 4
}
