{
 "cells": [
  {
   "cell_type": "code",
   "execution_count": 1,
   "metadata": {},
   "outputs": [],
   "source": [
    "%matplotlib inline\n",
    "import matplotlib.pyplot as plt\n",
    "import numpy as np"
   ]
  },
  {
   "cell_type": "markdown",
   "metadata": {},
   "source": [
    "## Useful functions\n",
    "---"
   ]
  },
  {
   "cell_type": "code",
   "execution_count": 2,
   "metadata": {},
   "outputs": [],
   "source": [
    "def display_svg(data):\n",
    "    from IPython.display import SVG, display\n",
    "    display(SVG(data))"
   ]
  },
  {
   "cell_type": "code",
   "execution_count": 3,
   "metadata": {},
   "outputs": [],
   "source": [
    "def export_svg(data, filename):\n",
    "    f = open(f'{filename}.svg', \"w\")\n",
    "    f.write(data)\n",
    "    f.close()"
   ]
  },
  {
   "cell_type": "markdown",
   "metadata": {},
   "source": [
    "# Build SVG\n",
    "---"
   ]
  },
  {
   "cell_type": "code",
   "execution_count": 4,
   "metadata": {},
   "outputs": [],
   "source": [
    "WIDTH = 360\n",
    "HEIGHT = 480"
   ]
  },
  {
   "cell_type": "code",
   "execution_count": 5,
   "metadata": {},
   "outputs": [],
   "source": [
    "SVG = '<?xml version=\"1.0\" encoding=\"utf-8\"?>\\n'\n",
    "SVG += '<!DOCTYPE svg PUBLIC \"-//W3C//DTD SVG 1.1//EN\" \"http://www.w3.org/Graphics/SVG/1.1/DTD/svg11.dtd\">\\n'"
   ]
  },
  {
   "cell_type": "code",
   "execution_count": 6,
   "metadata": {},
   "outputs": [],
   "source": [
    "SVG += f'<svg id=\"image\" width=\"{WIDTH}px\" height=\"{HEIGHT}px\" xmlns=\"http://www.w3.org/2000/svg\" xmlns:xlink=\"http://www.w3.org/1999/xlink\">'"
   ]
  },
  {
   "cell_type": "markdown",
   "metadata": {},
   "source": [
    "## References definition\n",
    "---"
   ]
  },
  {
   "cell_type": "code",
   "execution_count": 7,
   "metadata": {},
   "outputs": [],
   "source": [
    "SVG += '''\n",
    "\n",
    "  <defs>\n",
    "    <!-- ! Gradients -->\n",
    "    <linearGradient id=\"BG-grad1\" x1=\"0%\" y1=\"0%\" x2=\"0%\" y2=\"100%\">\n",
    "      <stop offset=\"0%\" stop-color=\"rgb(0,0,0)\" stop-opacity=\"1\" />\n",
    "      <stop offset=\"50%\" stop-color=\"rgb(5,15,30)\" stop-opacity=\"1\" />\n",
    "      <stop offset=\"100%\" stop-color=\"rgb(20,40,60)\" stop-opacity=\"1\" />\n",
    "    </linearGradient>\n",
    "    <radialGradient id=\"BG-grad2\" cx=\"250\" cy=\"100\" r=\"150\" gradientUnits=\"userSpaceOnUse\">\n",
    "      <stop offset=\"0%\" stop-color=\"rgb(255,255,255)\" stop-opacity=\"1\" />\n",
    "      <stop offset=\"100%\" stop-color=\"rgb(0,0,0)\" stop-opacity=\"1\" />\n",
    "    </radialGradient>\n",
    "    <radialGradient id=\"BH-grad1\" cx=\"0.5\" cy=\"0.5\" r=\"0.5\">\n",
    "      <stop offset=\"0%\" stop-color=\"rgb(0,0,0)\" stop-opacity=\"1\" />\n",
    "      <stop offset=\"100%\" stop-color=\"rgb(30,30,30)\" stop-opacity=\"1\" />\n",
    "    </radialGradient>\n",
    "    <!-- ! Filters -->\n",
    "    <filter id=\"BH-photo-ring-red\" x=\"-20%\" y=\"-20%\" width=\"140%\" height=\"140%\">\n",
    "      <feGaussianBlur stdDeviation=\"3 3\" in=\"SourceGraphic\" edgeMode=\"none\" result=\"blur1\" />\n",
    "      <feTurbulence type=\"turbulence\" baseFrequency=\"0.1\" numOctaves=\"2\" seed=\"1\" stitchTiles=\"stitch\" result=\"turbulence1\" />\n",
    "      <feOffset in=\"turbulence1\" result=\"turbulence-dx1\">\n",
    "        <animate attributeName=\"dy\" values=\"0;-83\" dur=\"10s\" repeatCount=\"indefinite\" />\n",
    "      </feOffset>\n",
    "      <feOffset in=\"turbulence1\" result=\"turbulence-dx2\">\n",
    "        <animate attributeName=\"dy\" values=\"83;0\" dur=\"10s\" repeatCount=\"indefinite\" />\n",
    "      </feOffset>\n",
    "      <feMerge result=\"merge1\">\n",
    "        <feMergeNode in=\"turbulence-dx1\" />\n",
    "        <feMergeNode in=\"turbulence-dx2\" />\n",
    "      </feMerge>\n",
    "      <feComposite in=\"merge1\" in2=\"blur1\" operator=\"in\" result=\"composite1\" />\n",
    "      <feColorMatrix\n",
    "        type=\"matrix\" \n",
    "        values=\"1 0 0 0 0\n",
    "                0 1 0 0 0\n",
    "                0 0 1 0 0\n",
    "                0 0 0 60 -4\" \n",
    "        in=\"composite\"\n",
    "        result=\"colormatrix1\"/>\n",
    "      <feFlood flood-color=\"rgb(255,0,55)\" flood-opacity=\"1\" result=\"flood1\" />\n",
    "      <feComposite in=\"flood1\" in2=\"colormatrix1\" operator=\"in\" result=\"composite2\" />\n",
    "      <feGaussianBlur stdDeviation=\"3 3\" in=\"composite2\" edgeMode=\"none\" result=\"blur2\" />\n",
    "      <feColorMatrix\n",
    "        type=\"matrix\" \n",
    "        values=\"1 0 0 0 0\n",
    "                0 1 0 0 0\n",
    "                0 0 1 0 0\n",
    "                0 0 0 15 -6\" \n",
    "        in=\"blur2\"\n",
    "        result=\"colormatrix2\" />\n",
    "    </filter>\n",
    "    <filter id=\"BH-photo-ring-green\" x=\"-20%\" y=\"-20%\" width=\"140%\" height=\"140%\">\n",
    "      <feGaussianBlur stdDeviation=\"3 3\" in=\"SourceGraphic\" edgeMode=\"none\" result=\"blur1\" />\n",
    "      <feTurbulence type=\"turbulence\" baseFrequency=\"0.1\" numOctaves=\"2\" seed=\"2\" stitchTiles=\"stitch\" result=\"turbulence1\" />\n",
    "      <feOffset in=\"turbulence1\" result=\"turbulence-dx1\">\n",
    "        <animate attributeName=\"dy\" values=\"0;-83\" dur=\"10s\" repeatCount=\"indefinite\" />\n",
    "      </feOffset>\n",
    "      <feOffset in=\"turbulence1\" result=\"turbulence-dx2\">\n",
    "        <animate attributeName=\"dy\" values=\"83;0\" dur=\"10s\" repeatCount=\"indefinite\" />\n",
    "      </feOffset>\n",
    "      <feMerge result=\"merge1\">\n",
    "        <feMergeNode in=\"turbulence-dx1\" />\n",
    "        <feMergeNode in=\"turbulence-dx2\" />\n",
    "      </feMerge>\n",
    "      <feComposite in=\"merge1\" in2=\"blur1\" operator=\"in\" result=\"composite1\" />\n",
    "      <feColorMatrix\n",
    "        type=\"matrix\" \n",
    "        values=\"1 0 0 0 0\n",
    "                0 1 0 0 0\n",
    "                0 0 1 0 0\n",
    "                0 0 0 60 -4\" \n",
    "        in=\"composite\"\n",
    "        result=\"colormatrix1\"/>\n",
    "      <feFlood flood-color=\"rgb(55,255,0)\" flood-opacity=\"1\" result=\"flood1\" />\n",
    "      <feComposite in=\"flood1\" in2=\"colormatrix1\" operator=\"in\" result=\"composite2\" />\n",
    "      <feGaussianBlur stdDeviation=\"3 3\" in=\"composite2\" edgeMode=\"none\" result=\"blur2\" />\n",
    "      <feColorMatrix\n",
    "        type=\"matrix\" \n",
    "        values=\"1 0 0 0 0\n",
    "                0 1 0 0 0\n",
    "                0 0 1 0 0\n",
    "                0 0 0 15 -6\" \n",
    "        in=\"blur2\"\n",
    "        result=\"colormatrix2\" />\n",
    "    </filter>\n",
    "    <filter id=\"BH-photo-ring-blue\" x=\"-20%\" y=\"-20%\" width=\"140%\" height=\"140%\">\n",
    "      <feGaussianBlur stdDeviation=\"3 3\" in=\"SourceGraphic\" edgeMode=\"none\" result=\"blur1\" />\n",
    "      <feTurbulence type=\"turbulence\" baseFrequency=\"0.1\" numOctaves=\"2\" seed=\"3\" stitchTiles=\"stitch\" result=\"turbulence1\" />\n",
    "      <feOffset in=\"turbulence1\" result=\"turbulence-dx1\">\n",
    "        <animate attributeName=\"dy\" values=\"0;-83\" dur=\"10s\" repeatCount=\"indefinite\" />\n",
    "      </feOffset>\n",
    "      <feOffset in=\"turbulence1\" result=\"turbulence-dx2\">\n",
    "        <animate attributeName=\"dy\" values=\"83;0\" dur=\"10s\" repeatCount=\"indefinite\" />\n",
    "      </feOffset>\n",
    "      <feMerge result=\"merge1\">\n",
    "        <feMergeNode in=\"turbulence-dx1\" />\n",
    "        <feMergeNode in=\"turbulence-dx2\" />\n",
    "      </feMerge>\n",
    "      <feComposite in=\"merge1\" in2=\"blur1\" operator=\"in\" result=\"composite1\" />\n",
    "      <feColorMatrix\n",
    "        type=\"matrix\" \n",
    "        values=\"1 0 0 0 0\n",
    "                0 1 0 0 0\n",
    "                0 0 1 0 0\n",
    "                0 0 0 60 -4\" \n",
    "        in=\"composite\"\n",
    "        result=\"colormatrix1\"/>\n",
    "      <feFlood flood-color=\"rgb(0,55,255)\" flood-opacity=\"1\" result=\"flood1\" />\n",
    "      <feComposite in=\"flood1\" in2=\"colormatrix1\" operator=\"in\" result=\"composite2\" />\n",
    "      <feGaussianBlur stdDeviation=\"3 3\" in=\"composite2\" edgeMode=\"none\" result=\"blur2\" />\n",
    "      <feColorMatrix\n",
    "        type=\"matrix\" \n",
    "        values=\"1 0 0 0 0\n",
    "                0 1 0 0 0\n",
    "                0 0 1 0 0\n",
    "                0 0 0 15 -6\"\n",
    "        in=\"blur2\"\n",
    "        result=\"colormatrix2\" />\n",
    "    </filter>\n",
    "    <!-- ! Symbols -->\n",
    "    <!-- ! Patterns -->\n",
    "  </defs>\n",
    "\n",
    "'''"
   ]
  },
  {
   "cell_type": "code",
   "execution_count": 8,
   "metadata": {},
   "outputs": [],
   "source": [
    "# Background colorization\n",
    "SVG += '  <!-- ! Background gradients -->\\n'\n",
    "SVG += '  <rect id=\"BG\" width=\"100%\" height=\"100%\" fill=\"url(#BG-grad1)\" />\\n'\n",
    "SVG += '  <rect id=\"BG\" width=\"100%\" height=\"100%\" fill=\"url(#BG-grad2)\" style=\"mix-blend-mode: screen;\" opacity=\"0.2\" />\\n\\n'"
   ]
  },
  {
   "cell_type": "markdown",
   "metadata": {},
   "source": [
    "## Fixed stars 01\n",
    "---"
   ]
  },
  {
   "cell_type": "code",
   "execution_count": 9,
   "metadata": {},
   "outputs": [
    {
     "data": {
      "image/png": "[encoded data removed]",
      "text/plain": [
       "<Figure size 518.4x691.2 with 1 Axes>"
      ]
     },
     "metadata": {
      "needs_background": "light"
     },
     "output_type": "display_data"
    }
   ],
   "source": [
    "fig, ax = plt.subplots(1, 1, figsize=(36/5, 48/5))\n",
    "\n",
    "N = 10\n",
    "np.random.seed(sum([ord(e) for e in list('Fixed Stars 01')]))\n",
    "x = np.random.random(N)*WIDTH\n",
    "y = np.random.random(N)*HEIGHT\n",
    "\n",
    "ax.scatter(x, HEIGHT - y)\n",
    "ax.set_xlim([0, WIDTH])\n",
    "ax.set_ylim([0, HEIGHT])\n",
    "\n",
    "plt.show()"
   ]
  },
  {
   "cell_type": "code",
   "execution_count": 10,
   "metadata": {},
   "outputs": [],
   "source": [
    "SVG += '  <!-- ! Fixed stars 01 -->\\n'\n",
    "SVG += '  <g id=\"fixed-stars01\">\\n'\n",
    "\n",
    "maxdur = 10\n",
    "\n",
    "np.random.seed(sum([ord(e) for e in list('Fixed Stars 01')]))\n",
    "for i in range(N):\n",
    "    r = 0.75 + np.random.random()*0.75\n",
    "    h = [0, 220][np.random.randint(2)] + np.random.random()*40 - 20\n",
    "    SVG += f'    <circle cx=\"{x[i]:.02f}\" cy=\"{y[i]:.02f}\" r=\"{r:.02f}\" fill=\"hsl({h:.02f}, 70%, 70%)\">\\n'\n",
    "    offset = np.random.random()*maxdur\n",
    "    SVG += f'      <animate attributeName=\"opacity\" values=\"1;0.5;0.75;0.25;0.75;0.5;1\" dur=\"{maxdur}s\" begin=\"-{offset:.02f}s\" repeatCount=\"indefinite\" />\\n'\n",
    "    SVG += f'    </circle>\\n'\n",
    "\n",
    "SVG += '  </g>\\n\\n'"
   ]
  },
  {
   "cell_type": "markdown",
   "metadata": {},
   "source": [
    "## Falling stars 01\n",
    "---"
   ]
  },
  {
   "cell_type": "code",
   "execution_count": 11,
   "metadata": {},
   "outputs": [
    {
     "data": {
      "image/png": "[encoded data removed]",
      "text/plain": [
       "<Figure size 518.4x691.2 with 1 Axes>"
      ]
     },
     "metadata": {
      "needs_background": "light"
     },
     "output_type": "display_data"
    }
   ],
   "source": [
    "fig, ax = plt.subplots(1, 1, figsize=(36/5, 48/5))\n",
    "\n",
    "N = 8\n",
    "np.random.seed(sum([ord(e) for e in list('Falling Stars 01')]))\n",
    "x = np.random.random(N)*WIDTH\n",
    "y = np.random.random(N)*HEIGHT\n",
    "\n",
    "ax.scatter(x, HEIGHT - y)\n",
    "ax.set_xlim([0, WIDTH])\n",
    "ax.set_ylim([0, HEIGHT])\n",
    "\n",
    "plt.show()"
   ]
  },
  {
   "cell_type": "code",
   "execution_count": 12,
   "metadata": {},
   "outputs": [],
   "source": [
    "SVG += '  <!-- ! Falling stars 01 -->\\n'\n",
    "SVG += '  <g id=\"falling-stars01\">\\n'\n",
    "\n",
    "maxdur = 5\n",
    "\n",
    "np.random.seed(sum([ord(e) for e in list('Falling Stars 01')]))\n",
    "for i in range(N):\n",
    "    r = 0.75 + np.random.random()*0.75\n",
    "    h = [0, 220][np.random.randint(2)] + np.random.random()*40 - 20\n",
    "    SVG += f'    <circle cx=\"{x[i]:.02f}\" r=\"{r:.02f}\" fill=\"hsl({h:.02f}, 50%, 70%)\">\\n'\n",
    "    po = np.random.random()*HEIGHT/2\n",
    "    pi = HEIGHT + po\n",
    "    dur = 1 + np.random.random()*(maxdur - 1)\n",
    "    offset1 = dur*y[i]/HEIGHT\n",
    "    SVG += f'      <animate attributeName=\"cy\" values=\"-{po:.02f};{pi:.02f}\" dur=\"{dur:.02f}s\" begin=\"-{offset1:.02f}s\" repeatCount=\"indefinite\" />\\n'\n",
    "    offset2 = np.random.random()*4\n",
    "    SVG += f'      <animate attributeName=\"opacity\" values=\"1;0.5;0.75;0.25;0.75;0.5;1\" dur=\"5s\" begin=\"-{offset2:.02f}s\" repeatCount=\"indefinite\" />\\n'\n",
    "    SVG += f'    </circle>\\n'\n",
    "\n",
    "SVG += '  </g>\\n\\n'"
   ]
  },
  {
   "cell_type": "markdown",
   "metadata": {},
   "source": [
    "## Black hole\n",
    "---"
   ]
  },
  {
   "cell_type": "code",
   "execution_count": 13,
   "metadata": {},
   "outputs": [],
   "source": [
    "cx = 250; cy = 100; r = 30\n",
    "\n",
    "SVG += f'  <!-- ! Black hole -->\\n'\n",
    "SVG += f'  <g id=\"bh-photon-ring\">\\n'\n",
    "SVG += f'    <circle cx=\"{cx}\" cy=\"{cy}\" r=\"{r}\" style=\"filter: url(#BH-photo-ring-red); mix-blend-mode: screen;\" />\\n'\n",
    "SVG += f'    <circle cx=\"{cx}\" cy=\"{cy}\" r=\"{r}\" style=\"filter: url(#BH-photo-ring-green); mix-blend-mode: screen;\" />\\n'\n",
    "SVG += f'    <circle cx=\"{cx}\" cy=\"{cy}\" r=\"{r}\" style=\"filter: url(#BH-photo-ring-blue); mix-blend-mode: screen;\" />\\n'\n",
    "SVG += f'    <circle cx=\"{cx}\" cy=\"{cy}\" r=\"{r}\" fill=\"url(#BH-grad1)\" stroke=\"white\" stroke-width=\"1\" />\\n'\n",
    "SVG += f'  </g>\\n\\n'"
   ]
  },
  {
   "cell_type": "code",
   "execution_count": 14,
   "metadata": {},
   "outputs": [],
   "source": [
    "def disk01(SVG, cx, cy, R, r_, s_, t_):\n",
    "    W = np.linspace(0, 2*np.pi, 5)\n",
    "    S = cx + R*np.cos(W[1:] - np.pi/2)\n",
    "    T = cy + R*np.sin(W[1:] - np.pi/2)\n",
    "    for j, (r, si, ti) in enumerate(zip(R, S, T)):\n",
    "        so = S[j - 1] if j != 0 else s_\n",
    "        to = T[j - 1] if j != 0 else t_\n",
    "        dso = - r_*np.sin(j*np.pi/2 - np.pi/2)/2\n",
    "        dto =   r_*np.cos(j*np.pi/2 - np.pi/2)/2\n",
    "        dsi = - r*np.sin((j + 1)*np.pi/2 - np.pi/2)/2\n",
    "        dti =   r*np.cos((j + 1)*np.pi/2 - np.pi/2)/2\n",
    "        SVG += f'C {so + dso:.02f},{to + dto:.02f} {si - dsi:.02f},{ti - dti:.02f} {si:.02f},{ti:.02f} '\n",
    "    r_ = R[-1]; s_ = S[-1]; t_ = T[-1]\n",
    "    return SVG, r_, s_, t_\n",
    "\n",
    "def disk02(SVG, cx, cy, R, r_, s_, t_):\n",
    "    R = np.insert(R, 0, R[0])\n",
    "    R = np.insert(R, 4, R[4])\n",
    "    rl = np.random.random()*30\n",
    "    R[1] += rl\n",
    "    R[2] -= 35\n",
    "    R[3] += rl\n",
    "    W = np.linspace(0, 2*np.pi, 5)\n",
    "    wl = (1 + np.random.random()*2)/np.pi\n",
    "    W = np.insert(W, 1, W[0] + wl)\n",
    "    W = np.insert(W, 5, W[4] + wl)\n",
    "    S = cx + R*np.cos(W[1:] - np.pi/2)\n",
    "    T = cy + R*np.sin(W[1:] - np.pi/2)\n",
    "    for j, (r, w, si, ti) in enumerate(zip(R, W, S, T)):\n",
    "        so, to = [S[j - 1], T[j - 1]] if j != 0 else [s_, t_]\n",
    "        d = ((si - so)**2 + (ti - to)**2)**0.5\n",
    "        dso = - np.sin(w - np.pi/2)*d/3\n",
    "        dto =   np.cos(w - np.pi/2)*d/3\n",
    "        dsi = - np.sin(W[j + 1] - np.pi/2)*d/3\n",
    "        dti =   np.cos(W[j + 1] - np.pi/2)*d/3\n",
    "        if j == 1 or j == 3:\n",
    "            diff = np.array([so, to]) - np.array([si, ti])\n",
    "            dsi, dti = - diff/np.linalg.norm(diff)*d/3\n",
    "        if (j - 1) == 1 or (j - 1) == 3:\n",
    "            diff = np.array([si, ti]) - np.array([so, to])\n",
    "            dso, dto = diff/np.linalg.norm(diff)*d/3\n",
    "        SVG += f'C {so + dso:.02f},{to + dto:.02f} {si - dsi:.02f},{ti - dti:.02f} {si:.02f},{ti:.02f} '\n",
    "    r_ = R[-1]; s_ = S[-1]; t_ = T[-1]\n",
    "    return SVG, r_, s_, t_\n",
    "\n",
    "def accretion_disk(SVG, cx, cy, rad, dev, N, kind=1, stroke=\"white\", stroke_dasharray=None, animate=None, seed=0):\n",
    "    np.random.seed(sum([ord(e) for e in list('Black Hole 01')]) + seed)\n",
    "\n",
    "    SVG += f'    <path d=\"'\n",
    "    r_ = rad + np.random.random()*dev\n",
    "    s_ = cx + r_*np.cos(0 - np.pi/2)\n",
    "    t_ = cy + r_*np.sin(0 - np.pi/2)\n",
    "    SVG += f'M {s_:.02f},{t_:.02f} '\n",
    "    \n",
    "    for i in range(N):\n",
    "        R = rad + np.random.random(4)*dev\n",
    "        if kind == 1:\n",
    "            SVG, r_, s_, t_ = disk01(SVG, cx, cy, R, r_, s_, t_)\n",
    "        else:\n",
    "            SVG, r_, s_, t_ = disk02(SVG, cx, cy, R, r_, s_, t_)\n",
    "        \n",
    "    if not stroke_dasharray:\n",
    "        SVG += f'\" stroke=\"{stroke}\" stroke-width=\"0.1\" fill=\"none\" style=\"mix-blend-mode: screen;\">\\n'\n",
    "    else:\n",
    "        SVG += f'\" stroke=\"{stroke}\" stroke-width=\"0.1\" fill=\"none\" stroke-dasharray=\"{stroke_dasharray}\" style=\"mix-blend-mode: screen;\">\\n'\n",
    "    if animate:\n",
    "        value = sum([int(e) for e in stroke_dasharray.split(',')])\n",
    "        SVG += f'      <animate attributeName=\"stroke-dashoffset\" values=\"0;-{value}\" dur=\"{animate[\"dur\"]}s\" begin=\"-{animate[\"offset\"]:.02f}s\" repeatCount=\"indefinite\" />\\n'\n",
    "    SVG += f'    </path>\\n'\n",
    "    return SVG\n",
    "\n",
    "\n",
    "SVG += f'  <g id=\"bh-accretion-disk\">\\n'\n",
    "\n",
    "# SVG = accretion_disk(SVG, cx, cy, 50, 70, 300, kind=2, stroke='rgb(255,0,55)', stroke_dasharray='2, 100', animate={'dur': 20, 'offset': 1}, seed=1)\n",
    "\n",
    "# SVG = accretion_disk(SVG, cx, cy, 40, 10, 100, kind=2, stroke='rgb(255,255,0)', seed=2)\n",
    "\n",
    "SVG += f'  </g>\\n\\n'"
   ]
  },
  {
   "cell_type": "markdown",
   "metadata": {},
   "source": [
    "## Falling stars 02\n",
    "---"
   ]
  },
  {
   "cell_type": "code",
   "execution_count": 15,
   "metadata": {},
   "outputs": [
    {
     "data": {
      "image/png": "[encoded data removed]",
      "text/plain": [
       "<Figure size 518.4x691.2 with 1 Axes>"
      ]
     },
     "metadata": {
      "needs_background": "light"
     },
     "output_type": "display_data"
    }
   ],
   "source": [
    "fig, ax = plt.subplots(1, 1, figsize=(36/5, 48/5))\n",
    "\n",
    "N = 4\n",
    "ymin = 20\n",
    "ymax = HEIGHT - ymin\n",
    "\n",
    "np.random.seed(sum([ord(e) for e in list('Falling Stars 02')]))\n",
    "x = np.random.random(N)*WIDTH\n",
    "yo = ymin + np.random.random(N)*(HEIGHT/4 -ymin)\n",
    "yi = 3*HEIGHT/4 + np.random.random(N)*(HEIGHT/4 -ymin)\n",
    "\n",
    "for i in range(N):\n",
    "    ax.plot([x[i]]*2, [HEIGHT - yo[i], HEIGHT - yi[i]])\n",
    "\n",
    "ax.set_xlim([0, WIDTH])\n",
    "ax.set_ylim([0, HEIGHT])\n",
    "\n",
    "plt.show()"
   ]
  },
  {
   "cell_type": "code",
   "execution_count": 16,
   "metadata": {},
   "outputs": [],
   "source": [
    "SVG += '  <!-- ! Falling stars 02 -->\\n'\n",
    "SVG += '  <g id=\"falling-stars02\" opacity=\"0.5\">\\n'\n",
    "\n",
    "mindur = 2\n",
    "maxdur = 4\n",
    "\n",
    "np.random.seed(sum([ord(e) for e in list('Falling Stars 02')]))\n",
    "for i in range(N):\n",
    "    length = yi[i] - yo[i]\n",
    "    space = 3 + np.random.randint(4)\n",
    "    opacity = 0.25 + np.random.random()*0.5\n",
    "    SVG += f'    <line x1=\"{x[i]:.02f}\" y1=\"{yo[i]:.02f}\" x2=\"{x[i]:.02f}\" y2=\"{yi[i]:.02f}\" stroke-opacity=\"{opacity:.02f}\" stroke=\"white\" stroke-dasharray=\"{length:.02f},{space*length:.02f}\" stroke-width=\"1\">\\n'\n",
    "    dur = mindur + np.random.random()*(maxdur - mindur)\n",
    "    offset = np.random.random()*maxdur\n",
    "    SVG += f'      <animate attributeName=\"stroke-dashoffset\" values=\"0;-{(space + 1)*length:.02f}\" dur=\"{dur:.02f}s\" begin=\"-{offset:.02f}s\" repeatCount=\"indefinite\" />\\n'\n",
    "    SVG += f'    </line>\\n'\n",
    "\n",
    "SVG += '  </g>\\n\\n'"
   ]
  },
  {
   "cell_type": "markdown",
   "metadata": {},
   "source": [
    "## Display SVG\n",
    "---"
   ]
  },
  {
   "cell_type": "code",
   "execution_count": 17,
   "metadata": {},
   "outputs": [],
   "source": [
    "SVG += f'<text x=\"{WIDTH - 130}\" y=\"{HEIGHT - 10}\" fill=\"yellow\" opacity=\"0.25\">under construction</text>\\n'\n",
    "SVG += '</svg>\\n'"
   ]
  },
  {
   "cell_type": "code",
   "execution_count": 18,
   "metadata": {},
   "outputs": [
    {
     "data": {
      "image/svg+xml": [
       "<svg height=\"480px\" id=\"image\" width=\"360px\" xmlns=\"http://www.w3.org/2000/svg\" xmlns:xlink=\"http://www.w3.org/1999/xlink\">\n",
       "\n",
       "  <defs>\n",
       "    <!-- ! Gradients -->\n",
       "    <linearGradient id=\"BG-grad1\" x1=\"0%\" x2=\"0%\" y1=\"0%\" y2=\"100%\">\n",
       "      <stop offset=\"0%\" stop-color=\"rgb(0,0,0)\" stop-opacity=\"1\"/>\n",
       "      <stop offset=\"50%\" stop-color=\"rgb(5,15,30)\" stop-opacity=\"1\"/>\n",
       "      <stop offset=\"100%\" stop-color=\"rgb(20,40,60)\" stop-opacity=\"1\"/>\n",
       "    </linearGradient>\n",
       "    <radialGradient cx=\"250\" cy=\"100\" gradientUnits=\"userSpaceOnUse\" id=\"BG-grad2\" r=\"150\">\n",
       "      <stop offset=\"0%\" stop-color=\"rgb(255,255,255)\" stop-opacity=\"1\"/>\n",
       "      <stop offset=\"100%\" stop-color=\"rgb(0,0,0)\" stop-opacity=\"1\"/>\n",
       "    </radialGradient>\n",
       "    <radialGradient cx=\"0.5\" cy=\"0.5\" id=\"BH-grad1\" r=\"0.5\">\n",
       "      <stop offset=\"0%\" stop-color=\"rgb(0,0,0)\" stop-opacity=\"1\"/>\n",
       "      <stop offset=\"100%\" stop-color=\"rgb(30,30,30)\" stop-opacity=\"1\"/>\n",
       "    </radialGradient>\n",
       "    <!-- ! Filters -->\n",
       "    <filter height=\"140%\" id=\"BH-photo-ring-red\" width=\"140%\" x=\"-20%\" y=\"-20%\">\n",
       "      <feGaussianBlur edgeMode=\"none\" in=\"SourceGraphic\" result=\"blur1\" stdDeviation=\"3 3\"/>\n",
       "      <feTurbulence baseFrequency=\"0.1\" numOctaves=\"2\" result=\"turbulence1\" seed=\"1\" stitchTiles=\"stitch\" type=\"turbulence\"/>\n",
       "      <feOffset in=\"turbulence1\" result=\"turbulence-dx1\">\n",
       "        <animate attributeName=\"dy\" dur=\"10s\" repeatCount=\"indefinite\" values=\"0;-83\"/>\n",
       "      </feOffset>\n",
       "      <feOffset in=\"turbulence1\" result=\"turbulence-dx2\">\n",
       "        <animate attributeName=\"dy\" dur=\"10s\" repeatCount=\"indefinite\" values=\"83;0\"/>\n",
       "      </feOffset>\n",
       "      <feMerge result=\"merge1\">\n",
       "        <feMergeNode in=\"turbulence-dx1\"/>\n",
       "        <feMergeNode in=\"turbulence-dx2\"/>\n",
       "      </feMerge>\n",
       "      <feComposite in=\"merge1\" in2=\"blur1\" operator=\"in\" result=\"composite1\"/>\n",
       "      <feColorMatrix in=\"composite\" result=\"colormatrix1\" type=\"matrix\" values=\"1 0 0 0 0                 0 1 0 0 0                 0 0 1 0 0                 0 0 0 60 -4\"/>\n",
       "      <feFlood flood-color=\"rgb(255,0,55)\" flood-opacity=\"1\" result=\"flood1\"/>\n",
       "      <feComposite in=\"flood1\" in2=\"colormatrix1\" operator=\"in\" result=\"composite2\"/>\n",
       "      <feGaussianBlur edgeMode=\"none\" in=\"composite2\" result=\"blur2\" stdDeviation=\"3 3\"/>\n",
       "      <feColorMatrix in=\"blur2\" result=\"colormatrix2\" type=\"matrix\" values=\"1 0 0 0 0                 0 1 0 0 0                 0 0 1 0 0                 0 0 0 15 -6\"/>\n",
       "    </filter>\n",
       "    <filter height=\"140%\" id=\"BH-photo-ring-green\" width=\"140%\" x=\"-20%\" y=\"-20%\">\n",
       "      <feGaussianBlur edgeMode=\"none\" in=\"SourceGraphic\" result=\"blur1\" stdDeviation=\"3 3\"/>\n",
       "      <feTurbulence baseFrequency=\"0.1\" numOctaves=\"2\" result=\"turbulence1\" seed=\"2\" stitchTiles=\"stitch\" type=\"turbulence\"/>\n",
       "      <feOffset in=\"turbulence1\" result=\"turbulence-dx1\">\n",
       "        <animate attributeName=\"dy\" dur=\"10s\" repeatCount=\"indefinite\" values=\"0;-83\"/>\n",
       "      </feOffset>\n",
       "      <feOffset in=\"turbulence1\" result=\"turbulence-dx2\">\n",
       "        <animate attributeName=\"dy\" dur=\"10s\" repeatCount=\"indefinite\" values=\"83;0\"/>\n",
       "      </feOffset>\n",
       "      <feMerge result=\"merge1\">\n",
       "        <feMergeNode in=\"turbulence-dx1\"/>\n",
       "        <feMergeNode in=\"turbulence-dx2\"/>\n",
       "      </feMerge>\n",
       "      <feComposite in=\"merge1\" in2=\"blur1\" operator=\"in\" result=\"composite1\"/>\n",
       "      <feColorMatrix in=\"composite\" result=\"colormatrix1\" type=\"matrix\" values=\"1 0 0 0 0                 0 1 0 0 0                 0 0 1 0 0                 0 0 0 60 -4\"/>\n",
       "      <feFlood flood-color=\"rgb(55,255,0)\" flood-opacity=\"1\" result=\"flood1\"/>\n",
       "      <feComposite in=\"flood1\" in2=\"colormatrix1\" operator=\"in\" result=\"composite2\"/>\n",
       "      <feGaussianBlur edgeMode=\"none\" in=\"composite2\" result=\"blur2\" stdDeviation=\"3 3\"/>\n",
       "      <feColorMatrix in=\"blur2\" result=\"colormatrix2\" type=\"matrix\" values=\"1 0 0 0 0                 0 1 0 0 0                 0 0 1 0 0                 0 0 0 15 -6\"/>\n",
       "    </filter>\n",
       "    <filter height=\"140%\" id=\"BH-photo-ring-blue\" width=\"140%\" x=\"-20%\" y=\"-20%\">\n",
       "      <feGaussianBlur edgeMode=\"none\" in=\"SourceGraphic\" result=\"blur1\" stdDeviation=\"3 3\"/>\n",
       "      <feTurbulence baseFrequency=\"0.1\" numOctaves=\"2\" result=\"turbulence1\" seed=\"3\" stitchTiles=\"stitch\" type=\"turbulence\"/>\n",
       "      <feOffset in=\"turbulence1\" result=\"turbulence-dx1\">\n",
       "        <animate attributeName=\"dy\" dur=\"10s\" repeatCount=\"indefinite\" values=\"0;-83\"/>\n",
       "      </feOffset>\n",
       "      <feOffset in=\"turbulence1\" result=\"turbulence-dx2\">\n",
       "        <animate attributeName=\"dy\" dur=\"10s\" repeatCount=\"indefinite\" values=\"83;0\"/>\n",
       "      </feOffset>\n",
       "      <feMerge result=\"merge1\">\n",
       "        <feMergeNode in=\"turbulence-dx1\"/>\n",
       "        <feMergeNode in=\"turbulence-dx2\"/>\n",
       "      </feMerge>\n",
       "      <feComposite in=\"merge1\" in2=\"blur1\" operator=\"in\" result=\"composite1\"/>\n",
       "      <feColorMatrix in=\"composite\" result=\"colormatrix1\" type=\"matrix\" values=\"1 0 0 0 0                 0 1 0 0 0                 0 0 1 0 0                 0 0 0 60 -4\"/>\n",
       "      <feFlood flood-color=\"rgb(0,55,255)\" flood-opacity=\"1\" result=\"flood1\"/>\n",
       "      <feComposite in=\"flood1\" in2=\"colormatrix1\" operator=\"in\" result=\"composite2\"/>\n",
       "      <feGaussianBlur edgeMode=\"none\" in=\"composite2\" result=\"blur2\" stdDeviation=\"3 3\"/>\n",
       "      <feColorMatrix in=\"blur2\" result=\"colormatrix2\" type=\"matrix\" values=\"1 0 0 0 0                 0 1 0 0 0                 0 0 1 0 0                 0 0 0 15 -6\"/>\n",
       "    </filter>\n",
       "    <!-- ! Symbols -->\n",
       "    <!-- ! Patterns -->\n",
       "  </defs>\n",
       "\n",
       "  <!-- ! Background gradients -->\n",
       "  <rect fill=\"url(#BG-grad1)\" height=\"100%\" id=\"BG\" width=\"100%\"/>\n",
       "  <rect fill=\"url(#BG-grad2)\" height=\"100%\" id=\"BG\" opacity=\"0.2\" style=\"mix-blend-mode: screen;\" width=\"100%\"/>\n",
       "\n",
       "  <!-- ! Fixed stars 01 -->\n",
       "  <g id=\"fixed-stars01\">\n",
       "    <circle cx=\"260.31\" cy=\"205.03\" fill=\"hsl(221.00, 70%, 70%)\" r=\"1.29\">\n",
       "      <animate attributeName=\"opacity\" begin=\"-9.56s\" dur=\"10s\" repeatCount=\"indefinite\" values=\"1;0.5;0.75;0.25;0.75;0.5;1\"/>\n",
       "    </circle>\n",
       "    <circle cx=\"54.12\" cy=\"181.82\" fill=\"hsl(237.59, 70%, 70%)\" r=\"1.27\">\n",
       "      <animate attributeName=\"opacity\" begin=\"-4.67s\" dur=\"10s\" repeatCount=\"indefinite\" values=\"1;0.5;0.75;0.25;0.75;0.5;1\"/>\n",
       "    </circle>\n",
       "    <circle cx=\"161.60\" cy=\"257.39\" fill=\"hsl(239.32, 70%, 70%)\" r=\"1.13\">\n",
       "      <animate attributeName=\"opacity\" begin=\"-8.27s\" dur=\"10s\" repeatCount=\"indefinite\" values=\"1;0.5;0.75;0.25;0.75;0.5;1\"/>\n",
       "    </circle>\n",
       "    <circle cx=\"35.28\" cy=\"157.41\" fill=\"hsl(221.45, 70%, 70%)\" r=\"0.86\">\n",
       "      <animate attributeName=\"opacity\" begin=\"-3.28s\" dur=\"10s\" repeatCount=\"indefinite\" values=\"1;0.5;0.75;0.25;0.75;0.5;1\"/>\n",
       "    </circle>\n",
       "    <circle cx=\"244.21\" cy=\"259.97\" fill=\"hsl(6.57, 70%, 70%)\" r=\"1.16\">\n",
       "      <animate attributeName=\"opacity\" begin=\"-7.55s\" dur=\"10s\" repeatCount=\"indefinite\" values=\"1;0.5;0.75;0.25;0.75;0.5;1\"/>\n",
       "    </circle>\n",
       "    <circle cx=\"338.28\" cy=\"294.67\" fill=\"hsl(9.55, 70%, 70%)\" r=\"1.11\">\n",
       "      <animate attributeName=\"opacity\" begin=\"-6.35s\" dur=\"10s\" repeatCount=\"indefinite\" values=\"1;0.5;0.75;0.25;0.75;0.5;1\"/>\n",
       "    </circle>\n",
       "    <circle cx=\"168.05\" cy=\"445.05\" fill=\"hsl(-12.00, 70%, 70%)\" r=\"1.26\">\n",
       "      <animate attributeName=\"opacity\" begin=\"-0.21s\" dur=\"10s\" repeatCount=\"indefinite\" values=\"1;0.5;0.75;0.25;0.75;0.5;1\"/>\n",
       "    </circle>\n",
       "    <circle cx=\"181.35\" cy=\"428.65\" fill=\"hsl(218.62, 70%, 70%)\" r=\"1.43\">\n",
       "      <animate attributeName=\"opacity\" begin=\"-2.84s\" dur=\"10s\" repeatCount=\"indefinite\" values=\"1;0.5;0.75;0.25;0.75;0.5;1\"/>\n",
       "    </circle>\n",
       "    <circle cx=\"53.00\" cy=\"476.98\" fill=\"hsl(5.98, 70%, 70%)\" r=\"1.06\">\n",
       "      <animate attributeName=\"opacity\" begin=\"-9.80s\" dur=\"10s\" repeatCount=\"indefinite\" values=\"1;0.5;0.75;0.25;0.75;0.5;1\"/>\n",
       "    </circle>\n",
       "    <circle cx=\"92.27\" cy=\"354.60\" fill=\"hsl(212.82, 70%, 70%)\" r=\"0.98\">\n",
       "      <animate attributeName=\"opacity\" begin=\"-8.56s\" dur=\"10s\" repeatCount=\"indefinite\" values=\"1;0.5;0.75;0.25;0.75;0.5;1\"/>\n",
       "    </circle>\n",
       "  </g>\n",
       "\n",
       "  <!-- ! Falling stars 01 -->\n",
       "  <g id=\"falling-stars01\">\n",
       "    <circle cx=\"113.74\" fill=\"hsl(-13.14, 50%, 70%)\" r=\"0.99\">\n",
       "      <animate attributeName=\"cy\" begin=\"-1.81s\" dur=\"2.66s\" repeatCount=\"indefinite\" values=\"-165.94;645.94\"/>\n",
       "      <animate attributeName=\"opacity\" begin=\"-3.39s\" dur=\"5s\" repeatCount=\"indefinite\" values=\"1;0.5;0.75;0.25;0.75;0.5;1\"/>\n",
       "    </circle>\n",
       "    <circle cx=\"212.67\" fill=\"hsl(-10.91, 50%, 70%)\" r=\"1.27\">\n",
       "      <animate attributeName=\"cy\" begin=\"-2.26s\" dur=\"3.55s\" repeatCount=\"indefinite\" values=\"-162.75;642.75\"/>\n",
       "      <animate attributeName=\"opacity\" begin=\"-1.66s\" dur=\"5s\" repeatCount=\"indefinite\" values=\"1;0.5;0.75;0.25;0.75;0.5;1\"/>\n",
       "    </circle>\n",
       "    <circle cx=\"198.06\" fill=\"hsl(204.72, 50%, 70%)\" r=\"1.39\">\n",
       "      <animate attributeName=\"cy\" begin=\"-1.52s\" dur=\"3.67s\" repeatCount=\"indefinite\" values=\"-73.46;553.46\"/>\n",
       "      <animate attributeName=\"opacity\" begin=\"-1.78s\" dur=\"5s\" repeatCount=\"indefinite\" values=\"1;0.5;0.75;0.25;0.75;0.5;1\"/>\n",
       "    </circle>\n",
       "    <circle cx=\"117.68\" fill=\"hsl(237.92, 50%, 70%)\" r=\"0.75\">\n",
       "      <animate attributeName=\"cy\" begin=\"-2.44s\" dur=\"2.86s\" repeatCount=\"indefinite\" values=\"-209.19;689.19\"/>\n",
       "      <animate attributeName=\"opacity\" begin=\"-1.24s\" dur=\"5s\" repeatCount=\"indefinite\" values=\"1;0.5;0.75;0.25;0.75;0.5;1\"/>\n",
       "    </circle>\n",
       "    <circle cx=\"250.25\" fill=\"hsl(16.89, 50%, 70%)\" r=\"1.33\">\n",
       "      <animate attributeName=\"cy\" begin=\"-0.15s\" dur=\"2.30s\" repeatCount=\"indefinite\" values=\"-179.72;659.72\"/>\n",
       "      <animate attributeName=\"opacity\" begin=\"-0.60s\" dur=\"5s\" repeatCount=\"indefinite\" values=\"1;0.5;0.75;0.25;0.75;0.5;1\"/>\n",
       "    </circle>\n",
       "    <circle cx=\"34.36\" fill=\"hsl(200.78, 50%, 70%)\" r=\"0.97\">\n",
       "      <animate attributeName=\"cy\" begin=\"-0.46s\" dur=\"1.55s\" repeatCount=\"indefinite\" values=\"-119.08;599.08\"/>\n",
       "      <animate attributeName=\"opacity\" begin=\"-0.46s\" dur=\"5s\" repeatCount=\"indefinite\" values=\"1;0.5;0.75;0.25;0.75;0.5;1\"/>\n",
       "    </circle>\n",
       "    <circle cx=\"81.49\" fill=\"hsl(-1.37, 50%, 70%)\" r=\"0.91\">\n",
       "      <animate attributeName=\"cy\" begin=\"-2.38s\" dur=\"4.64s\" repeatCount=\"indefinite\" values=\"-113.92;593.92\"/>\n",
       "      <animate attributeName=\"opacity\" begin=\"-1.73s\" dur=\"5s\" repeatCount=\"indefinite\" values=\"1;0.5;0.75;0.25;0.75;0.5;1\"/>\n",
       "    </circle>\n",
       "    <circle cx=\"81.84\" fill=\"hsl(12.94, 50%, 70%)\" r=\"1.32\">\n",
       "      <animate attributeName=\"cy\" begin=\"-0.40s\" dur=\"2.60s\" repeatCount=\"indefinite\" values=\"-44.34;524.34\"/>\n",
       "      <animate attributeName=\"opacity\" begin=\"-3.35s\" dur=\"5s\" repeatCount=\"indefinite\" values=\"1;0.5;0.75;0.25;0.75;0.5;1\"/>\n",
       "    </circle>\n",
       "  </g>\n",
       "\n",
       "  <!-- ! Black hole -->\n",
       "  <g id=\"bh-photon-ring\">\n",
       "    <circle cx=\"250\" cy=\"100\" r=\"30\" style=\"filter: url(#BH-photo-ring-red); mix-blend-mode: screen;\"/>\n",
       "    <circle cx=\"250\" cy=\"100\" r=\"30\" style=\"filter: url(#BH-photo-ring-green); mix-blend-mode: screen;\"/>\n",
       "    <circle cx=\"250\" cy=\"100\" r=\"30\" style=\"filter: url(#BH-photo-ring-blue); mix-blend-mode: screen;\"/>\n",
       "    <circle cx=\"250\" cy=\"100\" fill=\"url(#BH-grad1)\" r=\"30\" stroke=\"white\" stroke-width=\"1\"/>\n",
       "  </g>\n",
       "\n",
       "  <g id=\"bh-accretion-disk\">\n",
       "  </g>\n",
       "\n",
       "  <!-- ! Falling stars 02 -->\n",
       "  <g id=\"falling-stars02\" opacity=\"0.5\">\n",
       "    <line stroke=\"white\" stroke-dasharray=\"396.37,1981.85\" stroke-opacity=\"0.33\" stroke-width=\"1\" x1=\"198.93\" x2=\"198.93\" y1=\"21.43\" y2=\"417.80\">\n",
       "      <animate attributeName=\"stroke-dashoffset\" begin=\"-3.91s\" dur=\"3.39s\" repeatCount=\"indefinite\" values=\"0;-2378.22\"/>\n",
       "    </line>\n",
       "    <line stroke=\"white\" stroke-dasharray=\"384.91,1154.74\" stroke-opacity=\"0.26\" stroke-width=\"1\" x1=\"6.38\" x2=\"6.38\" y1=\"71.77\" y2=\"456.68\">\n",
       "      <animate attributeName=\"stroke-dashoffset\" begin=\"-3.44s\" dur=\"3.04s\" repeatCount=\"indefinite\" values=\"0;-1539.65\"/>\n",
       "    </line>\n",
       "    <line stroke=\"white\" stroke-dasharray=\"308.74,1852.43\" stroke-opacity=\"0.51\" stroke-width=\"1\" x1=\"59.94\" x2=\"59.94\" y1=\"105.96\" y2=\"414.69\">\n",
       "      <animate attributeName=\"stroke-dashoffset\" begin=\"-3.65s\" dur=\"2.45s\" repeatCount=\"indefinite\" values=\"0;-2161.16\"/>\n",
       "    </line>\n",
       "    <line stroke=\"white\" stroke-dasharray=\"301.17,1204.68\" stroke-opacity=\"0.32\" stroke-width=\"1\" x1=\"269.40\" x2=\"269.40\" y1=\"72.01\" y2=\"373.18\">\n",
       "      <animate attributeName=\"stroke-dashoffset\" begin=\"-1.92s\" dur=\"3.78s\" repeatCount=\"indefinite\" values=\"0;-1505.85\"/>\n",
       "    </line>\n",
       "  </g>\n",
       "\n",
       "<text fill=\"yellow\" opacity=\"0.25\" x=\"230\" y=\"470\">under construction</text>\n",
       "</svg>"
      ],
      "text/plain": [
       "<IPython.core.display.SVG object>"
      ]
     },
     "metadata": {},
     "output_type": "display_data"
    }
   ],
   "source": [
    "display_svg(SVG)"
   ]
  },
  {
   "cell_type": "code",
   "execution_count": 19,
   "metadata": {},
   "outputs": [],
   "source": [
    "# print(SVG)"
   ]
  },
  {
   "cell_type": "markdown",
   "metadata": {},
   "source": [
    "## Export SVG\n",
    "---"
   ]
  },
  {
   "cell_type": "code",
   "execution_count": 20,
   "metadata": {},
   "outputs": [],
   "source": [
    "# export_svg(SVG, 'image')"
   ]
  }
 ],
 "metadata": {
  "kernelspec": {
   "display_name": "Python 3",
   "language": "python",
   "name": "python3"
  },
  "language_info": {
   "codemirror_mode": {
    "name": "ipython",
    "version": 3
   },
   "file_extension": ".py",
   "mimetype": "text/x-python",
   "name": "python",
   "nbconvert_exporter": "python",
   "pygments_lexer": "ipython3",
   "version": "3.7.7"
  }
 },
 "nbformat": 4,
 "nbformat_minor": 4
}
