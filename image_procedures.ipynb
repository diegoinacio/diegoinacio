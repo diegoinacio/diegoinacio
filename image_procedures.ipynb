{
 "cells": [
  {
   "cell_type": "code",
   "execution_count": 1,
   "metadata": {},
   "outputs": [],
   "source": [
    "%matplotlib inline\n",
    "import matplotlib.pyplot as plt\n",
    "import numpy as np"
   ]
  },
  {
   "cell_type": "markdown",
   "metadata": {},
   "source": [
    "## Useful functions\n",
    "---"
   ]
  },
  {
   "cell_type": "code",
   "execution_count": 2,
   "metadata": {},
   "outputs": [],
   "source": [
    "def display_svg(data):\n",
    "    from IPython.display import SVG, display\n",
    "    display(SVG(data))"
   ]
  },
  {
   "cell_type": "code",
   "execution_count": 3,
   "metadata": {},
   "outputs": [],
   "source": [
    "def export_svg(data, filename):\n",
    "    f = open(f'{filename}.svg', \"w\")\n",
    "    f.write(data)\n",
    "    f.close()"
   ]
  },
  {
   "cell_type": "markdown",
   "metadata": {},
   "source": [
    "# Build SVG\n",
    "---"
   ]
  },
  {
   "cell_type": "code",
   "execution_count": 4,
   "metadata": {},
   "outputs": [],
   "source": [
    "WIDTH = 360\n",
    "HEIGHT = 480"
   ]
  },
  {
   "cell_type": "code",
   "execution_count": 5,
   "metadata": {},
   "outputs": [],
   "source": [
    "SVG = '<?xml version=\"1.0\" encoding=\"utf-8\"?>\\n'\n",
    "SVG += '<!DOCTYPE svg PUBLIC \"-//W3C//DTD SVG 1.1//EN\" \"http://www.w3.org/Graphics/SVG/1.1/DTD/svg11.dtd\">\\n'"
   ]
  },
  {
   "cell_type": "code",
   "execution_count": 6,
   "metadata": {},
   "outputs": [],
   "source": [
    "SVG += f'<svg id=\"image\" width=\"{WIDTH}px\" height=\"{HEIGHT}px\" xmlns=\"http://www.w3.org/2000/svg\" xmlns:xlink=\"http://www.w3.org/1999/xlink\">'"
   ]
  },
  {
   "cell_type": "markdown",
   "metadata": {},
   "source": [
    "## Falling stars 01\n",
    "---"
   ]
  },
  {
   "cell_type": "code",
   "execution_count": 7,
   "metadata": {},
   "outputs": [],
   "source": [
    "SVG += '''\n",
    "\n",
    "  <defs>\n",
    "    <!-- ! Gradients -->\n",
    "    <linearGradient id=\"BG-grad\" x1=\"0%\" y1=\"0%\" x2=\"0%\" y2=\"100%\">\n",
    "      <stop offset=\"0%\" style=\"stop-color:rgb(0,0,0);stop-opacity:1\" />\n",
    "      <stop offset=\"50%\" style=\"stop-color:rgb(5,15,30);stop-opacity:1\" />\n",
    "      <stop offset=\"100%\" style=\"stop-color:rgb(20,40,60);stop-opacity:1\" />\n",
    "    </linearGradient>\n",
    "    <!-- ! Symbols -->\n",
    "    <!-- ! Patterns -->\n",
    "  </defs>\n",
    "\n",
    "'''"
   ]
  },
  {
   "cell_type": "code",
   "execution_count": 8,
   "metadata": {},
   "outputs": [],
   "source": [
    "SVG += '  <!-- ! Background gradient -->\\n'\n",
    "SVG += '  <rect id=\"BG\" width=\"100%\" height=\"100%\" fill=\"url(#BG-grad)\" />\\n\\n'"
   ]
  },
  {
   "cell_type": "raw",
   "metadata": {},
   "source": [
    "# Star shape\n",
    "r1 = 1\n",
    "r2 = 5\n",
    "\n",
    "symbol = f'<symbol id=\"star-shape01\">\\n'\n",
    "points = ''\n",
    "for i in range(10):\n",
    "    t = i/10\n",
    "    if not (i % 2):\n",
    "        x = r2 + r1*np.sin(2*np.pi*t)\n",
    "        y = r2 + r1*np.cos(2*np.pi*t)\n",
    "    else:\n",
    "        x = r2 + r2*np.sin(2*np.pi*t)\n",
    "        y = r2 + r2*np.cos(2*np.pi*t)\n",
    "    points += f'{x:.02f},{y:.02f} '\n",
    "\n",
    "symbol += f'  <polygon points=\"{points}\">\\n'\n",
    "symbol += f'    <animateTransform attributeName=\"transform\" attributeType=\"XML\" type=\"rotate\" from=\"0 {r2} {r2}\" to=\"360 {r2} {r2}\" dur=\"10s\" repeatCount=\"indefinite\" />\\n'\n",
    "symbol += f'  </polygon>\\n'\n",
    "symbol += '</symbol>'\n",
    "\n",
    "print(symbol)"
   ]
  },
  {
   "cell_type": "code",
   "execution_count": 9,
   "metadata": {},
   "outputs": [
    {
     "data": {
      "image/png": "[encoded data removed]",
      "text/plain": [
       "<Figure size 518.4x691.2 with 1 Axes>"
      ]
     },
     "metadata": {
      "needs_background": "light"
     },
     "output_type": "display_data"
    }
   ],
   "source": [
    "fig, ax = plt.subplots(1, 1, figsize=(36/5, 48/5))\n",
    "\n",
    "N = 16\n",
    "np.random.seed(123456)\n",
    "x = np.random.random(N)*WIDTH\n",
    "y = np.random.random(N)*HEIGHT\n",
    "\n",
    "ax.scatter(x, HEIGHT - y)\n",
    "ax.set_xlim([0, WIDTH])\n",
    "ax.set_ylim([0, HEIGHT])\n",
    "\n",
    "plt.show()"
   ]
  },
  {
   "cell_type": "code",
   "execution_count": 10,
   "metadata": {},
   "outputs": [],
   "source": [
    "SVG += '  <!-- ! Falling stars 01 -->\\n'\n",
    "SVG += '  <g id=\"falling-stars01\">\\n'\n",
    "\n",
    "maxdur = 5\n",
    "\n",
    "np.random.seed(12345)\n",
    "for i in range(N):\n",
    "    r = 0.75 + np.random.random()*0.75\n",
    "    h = [0, 220][np.random.randint(2)] + np.random.random()*40 - 20\n",
    "    SVG += f'    <circle cx=\"{x[i]:.02f}\" r=\"{r:.02f}\" fill=\"hsl({h:.02f}, 50%, 70%)\">\\n'\n",
    "    po = np.random.random()*HEIGHT/2\n",
    "    pi = HEIGHT + po\n",
    "    dur = 1 + np.random.random()*(maxdur - 1)\n",
    "    offset1 = dur*y[i]/HEIGHT\n",
    "    SVG += f'      <animate attributeName=\"cy\" values=\"-{po:.02f};{pi:.02f}\" dur=\"{dur:.02f}s\" begin=\"-{offset1:.02f}s\" repeatCount=\"indefinite\" />\\n'\n",
    "    offset2 = np.random.random()*4\n",
    "    SVG += f'      <animate attributeName=\"opacity\" values=\"1;0.5;0.75;0.25;0.75;0.5;1\" dur=\"5s\" begin=\"-{offset2:.02f}s\" repeatCount=\"indefinite\" />\\n'\n",
    "    SVG += f'    </circle>\\n'\n",
    "\n",
    "SVG += '  </g>\\n\\n'"
   ]
  },
  {
   "cell_type": "markdown",
   "metadata": {},
   "source": [
    "## Falling stars 02\n",
    "---"
   ]
  },
  {
   "cell_type": "code",
   "execution_count": 11,
   "metadata": {},
   "outputs": [
    {
     "data": {
      "image/png": "[encoded data removed]",
      "text/plain": [
       "<Figure size 518.4x691.2 with 1 Axes>"
      ]
     },
     "metadata": {
      "needs_background": "light"
     },
     "output_type": "display_data"
    }
   ],
   "source": [
    "fig, ax = plt.subplots(1, 1, figsize=(36/5, 48/5))\n",
    "\n",
    "N = 8\n",
    "ymin = 20\n",
    "ymax = HEIGHT - ymin\n",
    "\n",
    "np.random.seed(123456)\n",
    "x = np.random.random(N)*WIDTH\n",
    "yo = ymin + np.random.random(N)*(HEIGHT/4 -ymin)\n",
    "yi = 3*HEIGHT/4 + np.random.random(N)*(HEIGHT/4 -ymin)\n",
    "\n",
    "for i in range(N):\n",
    "    ax.plot([x[i]]*2, [HEIGHT - yo[i], HEIGHT - yi[i]])\n",
    "\n",
    "ax.set_xlim([0, WIDTH])\n",
    "ax.set_ylim([0, HEIGHT])\n",
    "\n",
    "plt.show()"
   ]
  },
  {
   "cell_type": "code",
   "execution_count": 12,
   "metadata": {},
   "outputs": [],
   "source": [
    "SVG += '  <!-- ! Falling stars 02 -->\\n'\n",
    "SVG += '  <g id=\"falling-stars02\" opacity=\"0.5\">\\n'\n",
    "\n",
    "mindur = 2\n",
    "maxdur = 4\n",
    "\n",
    "np.random.seed(12345)\n",
    "for i in range(N):\n",
    "    length = yi[i] - yo[i]\n",
    "    space = 3 + np.random.randint(4)\n",
    "    opacity = 0.25 + np.random.random()*0.5\n",
    "    SVG += f'    <line x1=\"{x[i]:.02f}\" y1=\"{yo[i]:.02f}\" x2=\"{x[i]:.02f}\" y2=\"{yi[i]:.02f}\" stroke-opacity=\"{opacity:.02f}\" stroke=\"white\" stroke-dasharray=\"{length:.02f},{space*length:.02f}\" stroke-width=\"1\">\\n'\n",
    "    dur = mindur + np.random.random()*(maxdur - mindur)\n",
    "    offset = np.random.random()*maxdur\n",
    "    SVG += f'      <animate attributeName=\"stroke-dashoffset\" values=\"0;-{(space + 1)*length:.02f}\" dur=\"{dur:.02f}s\" begin=\"-{offset:.02f}s\" repeatCount=\"indefinite\" />\\n'\n",
    "    SVG += f'    </line>\\n'\n",
    "\n",
    "SVG += '  </g>\\n\\n'"
   ]
  },
  {
   "cell_type": "markdown",
   "metadata": {},
   "source": [
    "## Display SVG\n",
    "---"
   ]
  },
  {
   "cell_type": "code",
   "execution_count": 13,
   "metadata": {
    "scrolled": false
   },
   "outputs": [],
   "source": [
    "SVG += '</svg>\\n'\n",
    "# print(SVG)"
   ]
  },
  {
   "cell_type": "code",
   "execution_count": 14,
   "metadata": {},
   "outputs": [
    {
     "data": {
      "image/svg+xml": [
       "<svg height=\"480px\" id=\"image\" width=\"360px\" xmlns=\"http://www.w3.org/2000/svg\" xmlns:xlink=\"http://www.w3.org/1999/xlink\">\n",
       "\n",
       "  <defs>\n",
       "    <!-- ! Gradients -->\n",
       "    <linearGradient id=\"BG-grad\" x1=\"0%\" x2=\"0%\" y1=\"0%\" y2=\"100%\">\n",
       "      <stop offset=\"0%\" style=\"stop-color:rgb(0,0,0);stop-opacity:1\"/>\n",
       "      <stop offset=\"50%\" style=\"stop-color:rgb(5,15,30);stop-opacity:1\"/>\n",
       "      <stop offset=\"100%\" style=\"stop-color:rgb(20,40,60);stop-opacity:1\"/>\n",
       "    </linearGradient>\n",
       "    <!-- ! Symbols -->\n",
       "    <!-- ! Patterns -->\n",
       "  </defs>\n",
       "\n",
       "  <!-- ! Background gradient -->\n",
       "  <rect fill=\"url(#BG-grad)\" height=\"100%\" id=\"BG\" width=\"100%\"/>\n",
       "\n",
       "  <!-- ! Falling stars 01 -->\n",
       "  <g id=\"falling-stars01\">\n",
       "    <circle cx=\"45.71\" fill=\"hsl(205.23, 50%, 70%)\" r=\"1.45\">\n",
       "      <animate attributeName=\"cy\" begin=\"-0.99s\" dur=\"4.31s\" repeatCount=\"indefinite\" values=\"-9.54;489.54\"/>\n",
       "      <animate attributeName=\"opacity\" begin=\"-2.13s\" dur=\"5s\" repeatCount=\"indefinite\" values=\"1;0.5;0.75;0.25;0.75;0.5;1\"/>\n",
       "    </circle>\n",
       "    <circle cx=\"348.02\" fill=\"hsl(226.13, 50%, 70%)\" r=\"1.47\">\n",
       "      <animate attributeName=\"cy\" begin=\"-2.81s\" dur=\"3.61s\" repeatCount=\"indefinite\" values=\"-179.74;659.74\"/>\n",
       "      <animate attributeName=\"opacity\" begin=\"-2.99s\" dur=\"5s\" repeatCount=\"indefinite\" values=\"1;0.5;0.75;0.25;0.75;0.5;1\"/>\n",
       "    </circle>\n",
       "    <circle cx=\"93.77\" fill=\"hsl(211.66, 50%, 70%)\" r=\"1.47\">\n",
       "      <animate attributeName=\"cy\" begin=\"-2.52s\" dur=\"4.23s\" repeatCount=\"indefinite\" values=\"-95.70;575.70\"/>\n",
       "      <animate attributeName=\"opacity\" begin=\"-2.51s\" dur=\"5s\" repeatCount=\"indefinite\" values=\"1;0.5;0.75;0.25;0.75;0.5;1\"/>\n",
       "    </circle>\n",
       "    <circle cx=\"323.01\" fill=\"hsl(238.59, 50%, 70%)\" r=\"1.43\">\n",
       "      <animate attributeName=\"cy\" begin=\"-0.49s\" dur=\"3.57s\" repeatCount=\"indefinite\" values=\"-173.68;653.68\"/>\n",
       "      <animate attributeName=\"opacity\" begin=\"-2.87s\" dur=\"5s\" repeatCount=\"indefinite\" values=\"1;0.5;0.75;0.25;0.75;0.5;1\"/>\n",
       "    </circle>\n",
       "    <circle cx=\"135.63\" fill=\"hsl(7.64, 50%, 70%)\" r=\"1.10\">\n",
       "      <animate attributeName=\"cy\" begin=\"-3.69s\" dur=\"4.33s\" repeatCount=\"indefinite\" values=\"-31.04;511.04\"/>\n",
       "      <animate attributeName=\"opacity\" begin=\"-1.27s\" dur=\"5s\" repeatCount=\"indefinite\" values=\"1;0.5;0.75;0.25;0.75;0.5;1\"/>\n",
       "    </circle>\n",
       "    <circle cx=\"121.04\" fill=\"hsl(206.84, 50%, 70%)\" r=\"1.30\">\n",
       "      <animate attributeName=\"cy\" begin=\"-0.99s\" dur=\"4.20s\" repeatCount=\"indefinite\" values=\"-6.44;486.44\"/>\n",
       "      <animate attributeName=\"opacity\" begin=\"-3.61s\" dur=\"5s\" repeatCount=\"indefinite\" values=\"1;0.5;0.75;0.25;0.75;0.5;1\"/>\n",
       "    </circle>\n",
       "    <circle cx=\"162.50\" fill=\"hsl(233.28, 50%, 70%)\" r=\"0.77\">\n",
       "      <animate attributeName=\"cy\" begin=\"-0.72s\" dur=\"4.90s\" repeatCount=\"indefinite\" values=\"-218.39;698.39\"/>\n",
       "      <animate attributeName=\"opacity\" begin=\"-2.62s\" dur=\"5s\" repeatCount=\"indefinite\" values=\"1;0.5;0.75;0.25;0.75;0.5;1\"/>\n",
       "    </circle>\n",
       "    <circle cx=\"302.49\" fill=\"hsl(12.73, 50%, 70%)\" r=\"1.36\">\n",
       "      <animate attributeName=\"cy\" begin=\"-2.50s\" dur=\"4.24s\" repeatCount=\"indefinite\" values=\"-120.05;600.05\"/>\n",
       "      <animate attributeName=\"opacity\" begin=\"-0.38s\" dur=\"5s\" repeatCount=\"indefinite\" values=\"1;0.5;0.75;0.25;0.75;0.5;1\"/>\n",
       "    </circle>\n",
       "    <circle cx=\"44.32\" fill=\"hsl(225.55, 50%, 70%)\" r=\"0.91\">\n",
       "      <animate attributeName=\"cy\" begin=\"-1.85s\" dur=\"3.23s\" repeatCount=\"indefinite\" values=\"-182.23;662.23\"/>\n",
       "      <animate attributeName=\"opacity\" begin=\"-2.77s\" dur=\"5s\" repeatCount=\"indefinite\" values=\"1;0.5;0.75;0.25;0.75;0.5;1\"/>\n",
       "    </circle>\n",
       "    <circle cx=\"195.49\" fill=\"hsl(206.71, 50%, 70%)\" r=\"1.43\">\n",
       "      <animate attributeName=\"cy\" begin=\"-0.29s\" dur=\"4.71s\" repeatCount=\"indefinite\" values=\"-184.52;664.52\"/>\n",
       "      <animate attributeName=\"opacity\" begin=\"-2.44s\" dur=\"5s\" repeatCount=\"indefinite\" values=\"1;0.5;0.75;0.25;0.75;0.5;1\"/>\n",
       "    </circle>\n",
       "    <circle cx=\"134.28\" fill=\"hsl(9.52, 50%, 70%)\" r=\"0.86\">\n",
       "      <animate attributeName=\"cy\" begin=\"-1.76s\" dur=\"2.97s\" repeatCount=\"indefinite\" values=\"-90.18;570.18\"/>\n",
       "      <animate attributeName=\"opacity\" begin=\"-0.06s\" dur=\"5s\" repeatCount=\"indefinite\" values=\"1;0.5;0.75;0.25;0.75;0.5;1\"/>\n",
       "    </circle>\n",
       "    <circle cx=\"161.28\" fill=\"hsl(2.74, 50%, 70%)\" r=\"0.94\">\n",
       "      <animate attributeName=\"cy\" begin=\"-0.37s\" dur=\"1.50s\" repeatCount=\"indefinite\" values=\"-45.08;525.08\"/>\n",
       "      <animate attributeName=\"opacity\" begin=\"-2.75s\" dur=\"5s\" repeatCount=\"indefinite\" values=\"1;0.5;0.75;0.25;0.75;0.5;1\"/>\n",
       "    </circle>\n",
       "    <circle cx=\"46.60\" fill=\"hsl(8.24, 50%, 70%)\" r=\"1.35\">\n",
       "      <animate attributeName=\"cy\" begin=\"-1.60s\" dur=\"4.71s\" repeatCount=\"indefinite\" values=\"-228.42;708.42\"/>\n",
       "      <animate attributeName=\"opacity\" begin=\"-1.64s\" dur=\"5s\" repeatCount=\"indefinite\" values=\"1;0.5;0.75;0.25;0.75;0.5;1\"/>\n",
       "    </circle>\n",
       "    <circle cx=\"309.56\" fill=\"hsl(228.57, 50%, 70%)\" r=\"1.00\">\n",
       "      <animate attributeName=\"cy\" begin=\"-1.87s\" dur=\"1.90s\" repeatCount=\"indefinite\" values=\"-120.94;600.94\"/>\n",
       "      <animate attributeName=\"opacity\" begin=\"-0.98s\" dur=\"5s\" repeatCount=\"indefinite\" values=\"1;0.5;0.75;0.25;0.75;0.5;1\"/>\n",
       "    </circle>\n",
       "    <circle cx=\"295.34\" fill=\"hsl(217.76, 50%, 70%)\" r=\"1.34\">\n",
       "      <animate attributeName=\"cy\" begin=\"-3.34s\" dur=\"3.63s\" repeatCount=\"indefinite\" values=\"-180.21;660.21\"/>\n",
       "      <animate attributeName=\"opacity\" begin=\"-1.44s\" dur=\"5s\" repeatCount=\"indefinite\" values=\"1;0.5;0.75;0.25;0.75;0.5;1\"/>\n",
       "    </circle>\n",
       "    <circle cx=\"126.74\" fill=\"hsl(-5.30, 50%, 70%)\" r=\"1.03\">\n",
       "      <animate attributeName=\"cy\" begin=\"-0.07s\" dur=\"1.91s\" repeatCount=\"indefinite\" values=\"-119.68;599.68\"/>\n",
       "      <animate attributeName=\"opacity\" begin=\"-1.41s\" dur=\"5s\" repeatCount=\"indefinite\" values=\"1;0.5;0.75;0.25;0.75;0.5;1\"/>\n",
       "    </circle>\n",
       "  </g>\n",
       "\n",
       "  <!-- ! Falling stars 02 -->\n",
       "  <g id=\"falling-stars02\" opacity=\"0.5\">\n",
       "    <line stroke=\"white\" stroke-dasharray=\"350.58,1752.89\" stroke-opacity=\"0.70\" stroke-width=\"1\" x1=\"45.71\" x2=\"45.71\" y1=\"32.31\" y2=\"382.89\">\n",
       "      <animate attributeName=\"stroke-dashoffset\" begin=\"-0.16s\" dur=\"2.26s\" repeatCount=\"indefinite\" values=\"0;-2103.47\"/>\n",
       "    </line>\n",
       "    <line stroke=\"white\" stroke-dasharray=\"363.38,1816.88\" stroke-opacity=\"0.53\" stroke-width=\"1\" x1=\"348.02\" x2=\"348.02\" y1=\"74.30\" y2=\"437.68\">\n",
       "      <animate attributeName=\"stroke-dashoffset\" begin=\"-3.86s\" dur=\"3.19s\" repeatCount=\"indefinite\" values=\"0;-2180.25\"/>\n",
       "    </line>\n",
       "    <line stroke=\"white\" stroke-dasharray=\"362.18,2173.06\" stroke-opacity=\"0.71\" stroke-width=\"1\" x1=\"93.77\" x2=\"93.77\" y1=\"57.30\" y2=\"419.48\">\n",
       "      <animate attributeName=\"stroke-dashoffset\" begin=\"-0.62s\" dur=\"2.75s\" repeatCount=\"indefinite\" values=\"0;-2535.24\"/>\n",
       "    </line>\n",
       "    <line stroke=\"white\" stroke-dasharray=\"308.96,1544.78\" stroke-opacity=\"0.73\" stroke-width=\"1\" x1=\"323.01\" x2=\"323.01\" y1=\"64.80\" y2=\"373.76\">\n",
       "      <animate attributeName=\"stroke-dashoffset\" begin=\"-0.43s\" dur=\"2.02s\" repeatCount=\"indefinite\" values=\"0;-1853.73\"/>\n",
       "    </line>\n",
       "    <line stroke=\"white\" stroke-dasharray=\"412.35,2061.73\" stroke-opacity=\"0.65\" stroke-width=\"1\" x1=\"135.63\" x2=\"135.63\" y1=\"32.94\" y2=\"445.29\">\n",
       "      <animate attributeName=\"stroke-dashoffset\" begin=\"-3.63s\" dur=\"3.25s\" repeatCount=\"indefinite\" values=\"0;-2474.08\"/>\n",
       "    </line>\n",
       "    <line stroke=\"white\" stroke-dasharray=\"277.56,1665.38\" stroke-opacity=\"0.73\" stroke-width=\"1\" x1=\"121.04\" x2=\"121.04\" y1=\"105.99\" y2=\"383.55\">\n",
       "      <animate attributeName=\"stroke-dashoffset\" begin=\"-2.57s\" dur=\"3.45s\" repeatCount=\"indefinite\" values=\"0;-1942.94\"/>\n",
       "    </line>\n",
       "    <line stroke=\"white\" stroke-dasharray=\"272.58,817.75\" stroke-opacity=\"0.72\" stroke-width=\"1\" x1=\"162.50\" x2=\"162.50\" y1=\"102.04\" y2=\"374.62\">\n",
       "      <animate attributeName=\"stroke-dashoffset\" begin=\"-2.76s\" dur=\"2.73s\" repeatCount=\"indefinite\" values=\"0;-1090.34\"/>\n",
       "    </line>\n",
       "    <line stroke=\"white\" stroke-dasharray=\"363.78,2182.69\" stroke-opacity=\"0.61\" stroke-width=\"1\" x1=\"302.49\" x2=\"302.49\" y1=\"55.21\" y2=\"418.99\">\n",
       "      <animate attributeName=\"stroke-dashoffset\" begin=\"-2.71s\" dur=\"3.99s\" repeatCount=\"indefinite\" values=\"0;-2546.47\"/>\n",
       "    </line>\n",
       "  </g>\n",
       "\n",
       "</svg>"
      ],
      "text/plain": [
       "<IPython.core.display.SVG object>"
      ]
     },
     "metadata": {},
     "output_type": "display_data"
    }
   ],
   "source": [
    "display_svg(SVG)"
   ]
  },
  {
   "cell_type": "markdown",
   "metadata": {},
   "source": [
    "## Export SVG\n",
    "---"
   ]
  },
  {
   "cell_type": "code",
   "execution_count": 15,
   "metadata": {},
   "outputs": [],
   "source": [
    "# export_svg(SVG, 'image')"
   ]
  }
 ],
 "metadata": {
  "kernelspec": {
   "display_name": "Python 3",
   "language": "python",
   "name": "python3"
  },
  "language_info": {
   "codemirror_mode": {
    "name": "ipython",
    "version": 3
   },
   "file_extension": ".py",
   "mimetype": "text/x-python",
   "name": "python",
   "nbconvert_exporter": "python",
   "pygments_lexer": "ipython3",
   "version": "3.7.7"
  }
 },
 "nbformat": 4,
 "nbformat_minor": 4
}
